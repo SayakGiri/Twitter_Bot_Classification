{
 "cells": [
  {
   "cell_type": "code",
   "execution_count": 92,
   "metadata": {},
   "outputs": [],
   "source": [
    "import pandas as pd\n",
    "import numpy as np\n",
    "import matplotlib.pyplot as pyplot\n",
    "import seaborn as sns\n",
    "import sklearn\n",
    "import matplotlib.pyplot as plt\n",
    "#import gc\n",
    "import seaborn as sns\n",
    "from mpl_toolkits.mplot3d import Axes3D\n",
    "import plotly.express as px\n",
    "import pylab as py \n",
    "import statsmodels.api as sm"
   ]
  },
  {
   "cell_type": "code",
   "execution_count": 93,
   "metadata": {},
   "outputs": [],
   "source": [
    "df=pd.read_csv(\"/home/lenovo/Downloads/finaldata.csv\")"
   ]
  },
  {
   "cell_type": "code",
   "execution_count": 94,
   "metadata": {},
   "outputs": [
    {
     "data": {
      "text/html": [
       "<div>\n",
       "<style scoped>\n",
       "    .dataframe tbody tr th:only-of-type {\n",
       "        vertical-align: middle;\n",
       "    }\n",
       "\n",
       "    .dataframe tbody tr th {\n",
       "        vertical-align: top;\n",
       "    }\n",
       "\n",
       "    .dataframe thead th {\n",
       "        text-align: right;\n",
       "    }\n",
       "</style>\n",
       "<table border=\"1\" class=\"dataframe\">\n",
       "  <thead>\n",
       "    <tr style=\"text-align: right;\">\n",
       "      <th></th>\n",
       "      <th>Unnamed: 0</th>\n",
       "      <th>id</th>\n",
       "      <th>name</th>\n",
       "      <th>screen_name</th>\n",
       "      <th>statuses_count</th>\n",
       "      <th>followers_count</th>\n",
       "      <th>friends_count</th>\n",
       "      <th>favourites_count</th>\n",
       "      <th>listed_count</th>\n",
       "      <th>url</th>\n",
       "      <th>...</th>\n",
       "      <th>description</th>\n",
       "      <th>contributors_enabled</th>\n",
       "      <th>following</th>\n",
       "      <th>created_at</th>\n",
       "      <th>timestamp</th>\n",
       "      <th>crawled_at</th>\n",
       "      <th>updated</th>\n",
       "      <th>Category</th>\n",
       "      <th>random</th>\n",
       "      <th>testset</th>\n",
       "    </tr>\n",
       "  </thead>\n",
       "  <tbody>\n",
       "    <tr>\n",
       "      <th>0</th>\n",
       "      <td>0</td>\n",
       "      <td>7248952</td>\n",
       "      <td>Bhuvan Chand</td>\n",
       "      <td>tarunkjuyal</td>\n",
       "      <td>1259</td>\n",
       "      <td>837</td>\n",
       "      <td>1978</td>\n",
       "      <td>3200</td>\n",
       "      <td>9</td>\n",
       "      <td>http://lifeofearth.org</td>\n",
       "      <td>...</td>\n",
       "      <td>Love Your Life</td>\n",
       "      <td>NaN</td>\n",
       "      <td>NaN</td>\n",
       "      <td>1183552203000L</td>\n",
       "      <td>2007-07-04 14:30:03</td>\n",
       "      <td>2010-11-07 11:10:52</td>\n",
       "      <td>2016-03-14 17:05:53</td>\n",
       "      <td>traditional1</td>\n",
       "      <td>79</td>\n",
       "      <td>Test</td>\n",
       "    </tr>\n",
       "    <tr>\n",
       "      <th>1</th>\n",
       "      <td>1</td>\n",
       "      <td>7732472</td>\n",
       "      <td>Daniel Wagner</td>\n",
       "      <td>DanielWagner</td>\n",
       "      <td>770</td>\n",
       "      <td>3274</td>\n",
       "      <td>3595</td>\n",
       "      <td>8</td>\n",
       "      <td>22</td>\n",
       "      <td>http://www.yourinternetbuddies.com/go</td>\n",
       "      <td>...</td>\n",
       "      <td>I am an internet marketing coach and mentor wh...</td>\n",
       "      <td>NaN</td>\n",
       "      <td>NaN</td>\n",
       "      <td>1185440851000L</td>\n",
       "      <td>2007-07-26 11:07:31</td>\n",
       "      <td>2010-11-07 11:10:52</td>\n",
       "      <td>2016-03-14 17:05:54</td>\n",
       "      <td>traditional1</td>\n",
       "      <td>4</td>\n",
       "      <td>Train</td>\n",
       "    </tr>\n",
       "    <tr>\n",
       "      <th>2</th>\n",
       "      <td>2</td>\n",
       "      <td>9524952</td>\n",
       "      <td>Andrew Lock</td>\n",
       "      <td>Andrewlock</td>\n",
       "      <td>1100</td>\n",
       "      <td>38849</td>\n",
       "      <td>34504</td>\n",
       "      <td>41</td>\n",
       "      <td>1014</td>\n",
       "      <td>http://www.helpmybusiness.com</td>\n",
       "      <td>...</td>\n",
       "      <td>Marketing Geek &amp; Presenter of 'Help! My Busine...</td>\n",
       "      <td>NaN</td>\n",
       "      <td>NaN</td>\n",
       "      <td>1192725360000L</td>\n",
       "      <td>2007-10-18 18:36:00</td>\n",
       "      <td>2010-11-07 11:10:52</td>\n",
       "      <td>2016-03-14 17:05:54</td>\n",
       "      <td>traditional1</td>\n",
       "      <td>72</td>\n",
       "      <td>Test</td>\n",
       "    </tr>\n",
       "    <tr>\n",
       "      <th>3</th>\n",
       "      <td>3</td>\n",
       "      <td>10788822</td>\n",
       "      <td>Tim Thompson</td>\n",
       "      <td>yourinsaneworld</td>\n",
       "      <td>6497</td>\n",
       "      <td>5902</td>\n",
       "      <td>5496</td>\n",
       "      <td>0</td>\n",
       "      <td>82</td>\n",
       "      <td>http://investing-information.com</td>\n",
       "      <td>...</td>\n",
       "      <td>I am a member of a network of stock investing ...</td>\n",
       "      <td>NaN</td>\n",
       "      <td>NaN</td>\n",
       "      <td>1196614406000L</td>\n",
       "      <td>2007-12-02 17:53:26</td>\n",
       "      <td>2010-11-07 11:10:52</td>\n",
       "      <td>2016-03-14 17:05:54</td>\n",
       "      <td>traditional1</td>\n",
       "      <td>83</td>\n",
       "      <td>Test</td>\n",
       "    </tr>\n",
       "    <tr>\n",
       "      <th>4</th>\n",
       "      <td>4</td>\n",
       "      <td>14596967</td>\n",
       "      <td>fxgenie</td>\n",
       "      <td>fxgenie</td>\n",
       "      <td>3203</td>\n",
       "      <td>2570</td>\n",
       "      <td>2638</td>\n",
       "      <td>0</td>\n",
       "      <td>5</td>\n",
       "      <td>http://www.4xgenie.com/wp</td>\n",
       "      <td>...</td>\n",
       "      <td>forex trader</td>\n",
       "      <td>NaN</td>\n",
       "      <td>NaN</td>\n",
       "      <td>1209536534000L</td>\n",
       "      <td>2008-04-30 08:22:14</td>\n",
       "      <td>2010-11-07 11:10:52</td>\n",
       "      <td>2016-03-14 17:05:54</td>\n",
       "      <td>traditional1</td>\n",
       "      <td>30</td>\n",
       "      <td>Train</td>\n",
       "    </tr>\n",
       "  </tbody>\n",
       "</table>\n",
       "<p>5 rows × 44 columns</p>\n",
       "</div>"
      ],
      "text/plain": [
       "   Unnamed: 0        id           name      screen_name  statuses_count  \\\n",
       "0           0   7248952   Bhuvan Chand      tarunkjuyal            1259   \n",
       "1           1   7732472  Daniel Wagner     DanielWagner             770   \n",
       "2           2   9524952    Andrew Lock       Andrewlock            1100   \n",
       "3           3  10788822   Tim Thompson  yourinsaneworld            6497   \n",
       "4           4  14596967        fxgenie          fxgenie            3203   \n",
       "\n",
       "   followers_count  friends_count  favourites_count  listed_count  \\\n",
       "0              837           1978              3200             9   \n",
       "1             3274           3595                 8            22   \n",
       "2            38849          34504                41          1014   \n",
       "3             5902           5496                 0            82   \n",
       "4             2570           2638                 0             5   \n",
       "\n",
       "                                     url  ...  \\\n",
       "0                 http://lifeofearth.org  ...   \n",
       "1  http://www.yourinternetbuddies.com/go  ...   \n",
       "2          http://www.helpmybusiness.com  ...   \n",
       "3       http://investing-information.com  ...   \n",
       "4              http://www.4xgenie.com/wp  ...   \n",
       "\n",
       "                                         description contributors_enabled  \\\n",
       "0                                     Love Your Life                  NaN   \n",
       "1  I am an internet marketing coach and mentor wh...                  NaN   \n",
       "2  Marketing Geek & Presenter of 'Help! My Busine...                  NaN   \n",
       "3  I am a member of a network of stock investing ...                  NaN   \n",
       "4                                       forex trader                  NaN   \n",
       "\n",
       "  following      created_at            timestamp           crawled_at  \\\n",
       "0       NaN  1183552203000L  2007-07-04 14:30:03  2010-11-07 11:10:52   \n",
       "1       NaN  1185440851000L  2007-07-26 11:07:31  2010-11-07 11:10:52   \n",
       "2       NaN  1192725360000L  2007-10-18 18:36:00  2010-11-07 11:10:52   \n",
       "3       NaN  1196614406000L  2007-12-02 17:53:26  2010-11-07 11:10:52   \n",
       "4       NaN  1209536534000L  2008-04-30 08:22:14  2010-11-07 11:10:52   \n",
       "\n",
       "               updated      Category  random testset  \n",
       "0  2016-03-14 17:05:53  traditional1      79    Test  \n",
       "1  2016-03-14 17:05:54  traditional1       4   Train  \n",
       "2  2016-03-14 17:05:54  traditional1      72    Test  \n",
       "3  2016-03-14 17:05:54  traditional1      83    Test  \n",
       "4  2016-03-14 17:05:54  traditional1      30   Train  \n",
       "\n",
       "[5 rows x 44 columns]"
      ]
     },
     "execution_count": 94,
     "metadata": {},
     "output_type": "execute_result"
    }
   ],
   "source": [
    "# checking the first few rows of the dataset to see what we're dealing with\n",
    "df.head()"
   ]
  },
  {
   "cell_type": "code",
   "execution_count": 95,
   "metadata": {},
   "outputs": [],
   "source": [
    "#dropping column Unnamed: 0\n",
    "df = df.drop(\"Unnamed: 0\", axis = 1)\n",
    "\n",
    "#setting user.id as index of the dataframe \n",
    "#df = df.set_index('id')"
   ]
  },
  {
   "cell_type": "code",
   "execution_count": 96,
   "metadata": {},
   "outputs": [
    {
     "data": {
      "text/plain": [
       "(11017, 43)"
      ]
     },
     "execution_count": 96,
     "metadata": {},
     "output_type": "execute_result"
    }
   ],
   "source": [
    "# inspecting the data\n",
    "df.shape"
   ]
  },
  {
   "cell_type": "code",
   "execution_count": 97,
   "metadata": {},
   "outputs": [
    {
     "name": "stdout",
     "output_type": "stream",
     "text": [
      "<class 'pandas.core.frame.DataFrame'>\n",
      "RangeIndex: 11017 entries, 0 to 11016\n",
      "Data columns (total 43 columns):\n",
      " #   Column                              Non-Null Count  Dtype  \n",
      "---  ------                              --------------  -----  \n",
      " 0   id                                  11017 non-null  int64  \n",
      " 1   name                                11016 non-null  object \n",
      " 2   screen_name                         11017 non-null  object \n",
      " 3   statuses_count                      11017 non-null  int64  \n",
      " 4   followers_count                     11017 non-null  int64  \n",
      " 5   friends_count                       11017 non-null  int64  \n",
      " 6   favourites_count                    11017 non-null  int64  \n",
      " 7   listed_count                        11017 non-null  int64  \n",
      " 8   url                                 3508 non-null   object \n",
      " 9   lang                                10017 non-null  object \n",
      " 10  time_zone                           5015 non-null   object \n",
      " 11  location                            4908 non-null   object \n",
      " 12  default_profile                     1477 non-null   float64\n",
      " 13  default_profile_image               72 non-null     float64\n",
      " 14  geo_enabled                         3294 non-null   float64\n",
      " 15  profile_image_url                   11017 non-null  object \n",
      " 16  profile_banner_url                  4819 non-null   object \n",
      " 17  profile_use_background_image        9503 non-null   float64\n",
      " 18  profile_background_image_url_https  10017 non-null  object \n",
      " 19  profile_text_color                  10017 non-null  object \n",
      " 20  profile_image_url_https             10017 non-null  object \n",
      " 21  profile_sidebar_border_color        10017 non-null  object \n",
      " 22  profile_background_tile             5331 non-null   float64\n",
      " 23  profile_sidebar_fill_color          10017 non-null  object \n",
      " 24  profile_background_image_url        11017 non-null  object \n",
      " 25  profile_background_color            10017 non-null  object \n",
      " 26  profile_link_color                  10017 non-null  object \n",
      " 27  utc_offset                          5015 non-null   float64\n",
      " 28  is_translator                       1 non-null      float64\n",
      " 29  follow_request_sent                 0 non-null      float64\n",
      " 30  protected                           78 non-null     float64\n",
      " 31  verified                            11 non-null     float64\n",
      " 32  notifications                       0 non-null      float64\n",
      " 33  description                         6346 non-null   object \n",
      " 34  contributors_enabled                0 non-null      float64\n",
      " 35  following                           0 non-null      float64\n",
      " 36  created_at                          11017 non-null  object \n",
      " 37  timestamp                           11017 non-null  object \n",
      " 38  crawled_at                          11017 non-null  object \n",
      " 39  updated                             11017 non-null  object \n",
      " 40  Category                            11017 non-null  object \n",
      " 41  random                              11017 non-null  int64  \n",
      " 42  testset                             11017 non-null  object \n",
      "dtypes: float64(13), int64(7), object(23)\n",
      "memory usage: 3.6+ MB\n"
     ]
    }
   ],
   "source": [
    "#getting details about the columns\n",
    "df.info()"
   ]
  },
  {
   "cell_type": "code",
   "execution_count": 98,
   "metadata": {},
   "outputs": [
    {
     "data": {
      "text/html": [
       "<div>\n",
       "<style scoped>\n",
       "    .dataframe tbody tr th:only-of-type {\n",
       "        vertical-align: middle;\n",
       "    }\n",
       "\n",
       "    .dataframe tbody tr th {\n",
       "        vertical-align: top;\n",
       "    }\n",
       "\n",
       "    .dataframe thead th {\n",
       "        text-align: right;\n",
       "    }\n",
       "</style>\n",
       "<table border=\"1\" class=\"dataframe\">\n",
       "  <thead>\n",
       "    <tr style=\"text-align: right;\">\n",
       "      <th></th>\n",
       "      <th>id</th>\n",
       "      <th>name</th>\n",
       "      <th>screen_name</th>\n",
       "      <th>statuses_count</th>\n",
       "      <th>followers_count</th>\n",
       "      <th>friends_count</th>\n",
       "      <th>favourites_count</th>\n",
       "      <th>listed_count</th>\n",
       "      <th>url</th>\n",
       "      <th>lang</th>\n",
       "      <th>...</th>\n",
       "      <th>profile_sidebar_fill_color</th>\n",
       "      <th>profile_background_image_url</th>\n",
       "      <th>profile_background_color</th>\n",
       "      <th>profile_link_color</th>\n",
       "      <th>protected</th>\n",
       "      <th>verified</th>\n",
       "      <th>following</th>\n",
       "      <th>created_at</th>\n",
       "      <th>timestamp</th>\n",
       "      <th>Category</th>\n",
       "    </tr>\n",
       "  </thead>\n",
       "  <tbody>\n",
       "    <tr>\n",
       "      <th>0</th>\n",
       "      <td>7248952</td>\n",
       "      <td>Bhuvan Chand</td>\n",
       "      <td>tarunkjuyal</td>\n",
       "      <td>1259</td>\n",
       "      <td>837</td>\n",
       "      <td>1978</td>\n",
       "      <td>3200</td>\n",
       "      <td>9</td>\n",
       "      <td>http://lifeofearth.org</td>\n",
       "      <td>NaN</td>\n",
       "      <td>...</td>\n",
       "      <td>NaN</td>\n",
       "      <td>http://s.twimg.com/a/1288374569/images/themes/...</td>\n",
       "      <td>NaN</td>\n",
       "      <td>NaN</td>\n",
       "      <td>NaN</td>\n",
       "      <td>NaN</td>\n",
       "      <td>NaN</td>\n",
       "      <td>1183552203000L</td>\n",
       "      <td>2007-07-04 14:30:03</td>\n",
       "      <td>traditional1</td>\n",
       "    </tr>\n",
       "    <tr>\n",
       "      <th>1</th>\n",
       "      <td>7732472</td>\n",
       "      <td>Daniel Wagner</td>\n",
       "      <td>DanielWagner</td>\n",
       "      <td>770</td>\n",
       "      <td>3274</td>\n",
       "      <td>3595</td>\n",
       "      <td>8</td>\n",
       "      <td>22</td>\n",
       "      <td>http://www.yourinternetbuddies.com/go</td>\n",
       "      <td>NaN</td>\n",
       "      <td>...</td>\n",
       "      <td>NaN</td>\n",
       "      <td>http://a3.twimg.com/profile_background_images/...</td>\n",
       "      <td>NaN</td>\n",
       "      <td>NaN</td>\n",
       "      <td>NaN</td>\n",
       "      <td>NaN</td>\n",
       "      <td>NaN</td>\n",
       "      <td>1185440851000L</td>\n",
       "      <td>2007-07-26 11:07:31</td>\n",
       "      <td>traditional1</td>\n",
       "    </tr>\n",
       "    <tr>\n",
       "      <th>2</th>\n",
       "      <td>9524952</td>\n",
       "      <td>Andrew Lock</td>\n",
       "      <td>Andrewlock</td>\n",
       "      <td>1100</td>\n",
       "      <td>38849</td>\n",
       "      <td>34504</td>\n",
       "      <td>41</td>\n",
       "      <td>1014</td>\n",
       "      <td>http://www.helpmybusiness.com</td>\n",
       "      <td>NaN</td>\n",
       "      <td>...</td>\n",
       "      <td>NaN</td>\n",
       "      <td>http://s.twimg.com/a/1288305442/images/themes/...</td>\n",
       "      <td>NaN</td>\n",
       "      <td>NaN</td>\n",
       "      <td>NaN</td>\n",
       "      <td>NaN</td>\n",
       "      <td>NaN</td>\n",
       "      <td>1192725360000L</td>\n",
       "      <td>2007-10-18 18:36:00</td>\n",
       "      <td>traditional1</td>\n",
       "    </tr>\n",
       "    <tr>\n",
       "      <th>3</th>\n",
       "      <td>10788822</td>\n",
       "      <td>Tim Thompson</td>\n",
       "      <td>yourinsaneworld</td>\n",
       "      <td>6497</td>\n",
       "      <td>5902</td>\n",
       "      <td>5496</td>\n",
       "      <td>0</td>\n",
       "      <td>82</td>\n",
       "      <td>http://investing-information.com</td>\n",
       "      <td>NaN</td>\n",
       "      <td>...</td>\n",
       "      <td>NaN</td>\n",
       "      <td>http://s.twimg.com/a/1288039940/images/themes/...</td>\n",
       "      <td>NaN</td>\n",
       "      <td>NaN</td>\n",
       "      <td>NaN</td>\n",
       "      <td>NaN</td>\n",
       "      <td>NaN</td>\n",
       "      <td>1196614406000L</td>\n",
       "      <td>2007-12-02 17:53:26</td>\n",
       "      <td>traditional1</td>\n",
       "    </tr>\n",
       "    <tr>\n",
       "      <th>4</th>\n",
       "      <td>14596967</td>\n",
       "      <td>fxgenie</td>\n",
       "      <td>fxgenie</td>\n",
       "      <td>3203</td>\n",
       "      <td>2570</td>\n",
       "      <td>2638</td>\n",
       "      <td>0</td>\n",
       "      <td>5</td>\n",
       "      <td>http://www.4xgenie.com/wp</td>\n",
       "      <td>NaN</td>\n",
       "      <td>...</td>\n",
       "      <td>NaN</td>\n",
       "      <td>http://a1.twimg.com/profile_background_images/...</td>\n",
       "      <td>NaN</td>\n",
       "      <td>NaN</td>\n",
       "      <td>NaN</td>\n",
       "      <td>NaN</td>\n",
       "      <td>NaN</td>\n",
       "      <td>1209536534000L</td>\n",
       "      <td>2008-04-30 08:22:14</td>\n",
       "      <td>traditional1</td>\n",
       "    </tr>\n",
       "    <tr>\n",
       "      <th>...</th>\n",
       "      <td>...</td>\n",
       "      <td>...</td>\n",
       "      <td>...</td>\n",
       "      <td>...</td>\n",
       "      <td>...</td>\n",
       "      <td>...</td>\n",
       "      <td>...</td>\n",
       "      <td>...</td>\n",
       "      <td>...</td>\n",
       "      <td>...</td>\n",
       "      <td>...</td>\n",
       "      <td>...</td>\n",
       "      <td>...</td>\n",
       "      <td>...</td>\n",
       "      <td>...</td>\n",
       "      <td>...</td>\n",
       "      <td>...</td>\n",
       "      <td>...</td>\n",
       "      <td>...</td>\n",
       "      <td>...</td>\n",
       "      <td>...</td>\n",
       "    </tr>\n",
       "    <tr>\n",
       "      <th>11012</th>\n",
       "      <td>205218909</td>\n",
       "      <td>Alejandro</td>\n",
       "      <td>zombiemaster999</td>\n",
       "      <td>315</td>\n",
       "      <td>94</td>\n",
       "      <td>597</td>\n",
       "      <td>36</td>\n",
       "      <td>4</td>\n",
       "      <td>NaN</td>\n",
       "      <td>es</td>\n",
       "      <td>...</td>\n",
       "      <td>EFEFEF</td>\n",
       "      <td>http://pbs.twimg.com/profile_background_images...</td>\n",
       "      <td>131516</td>\n",
       "      <td>009999</td>\n",
       "      <td>NaN</td>\n",
       "      <td>NaN</td>\n",
       "      <td>NaN</td>\n",
       "      <td>Wed Oct 20 11:42:54 +0000 2010</td>\n",
       "      <td>2010-10-20 13:42:54</td>\n",
       "      <td>genuine</td>\n",
       "    </tr>\n",
       "    <tr>\n",
       "      <th>11013</th>\n",
       "      <td>2874966164</td>\n",
       "      <td>Zubair Niazi Ⓜ️</td>\n",
       "      <td>zubairniaziPTI</td>\n",
       "      <td>4099</td>\n",
       "      <td>5378</td>\n",
       "      <td>1238</td>\n",
       "      <td>471</td>\n",
       "      <td>6</td>\n",
       "      <td>http://t.co/yuROtYHG8K</td>\n",
       "      <td>en</td>\n",
       "      <td>...</td>\n",
       "      <td>000000</td>\n",
       "      <td>http://pbs.twimg.com/profile_background_images...</td>\n",
       "      <td>4A913C</td>\n",
       "      <td>038543</td>\n",
       "      <td>NaN</td>\n",
       "      <td>NaN</td>\n",
       "      <td>NaN</td>\n",
       "      <td>Fri Oct 24 10:30:53 +0000 2014</td>\n",
       "      <td>2014-10-24 12:30:53</td>\n",
       "      <td>genuine</td>\n",
       "    </tr>\n",
       "    <tr>\n",
       "      <th>11014</th>\n",
       "      <td>2980901837</td>\n",
       "      <td>Zuhazuu</td>\n",
       "      <td>zuhazuu1</td>\n",
       "      <td>199</td>\n",
       "      <td>18</td>\n",
       "      <td>136</td>\n",
       "      <td>6</td>\n",
       "      <td>0</td>\n",
       "      <td>NaN</td>\n",
       "      <td>en</td>\n",
       "      <td>...</td>\n",
       "      <td>DDEEF6</td>\n",
       "      <td>http://abs.twimg.com/images/themes/theme1/bg.png</td>\n",
       "      <td>C0DEED</td>\n",
       "      <td>0084B4</td>\n",
       "      <td>NaN</td>\n",
       "      <td>NaN</td>\n",
       "      <td>NaN</td>\n",
       "      <td>Fri Jan 16 09:59:43 +0000 2015</td>\n",
       "      <td>2015-01-16 10:59:43</td>\n",
       "      <td>genuine</td>\n",
       "    </tr>\n",
       "    <tr>\n",
       "      <th>11015</th>\n",
       "      <td>121122678</td>\n",
       "      <td>zveljka</td>\n",
       "      <td>zveljka</td>\n",
       "      <td>2609</td>\n",
       "      <td>41</td>\n",
       "      <td>263</td>\n",
       "      <td>121</td>\n",
       "      <td>0</td>\n",
       "      <td>NaN</td>\n",
       "      <td>en</td>\n",
       "      <td>...</td>\n",
       "      <td>7AC3EE</td>\n",
       "      <td>http://pbs.twimg.com/profile_background_images...</td>\n",
       "      <td>642D8B</td>\n",
       "      <td>3D1957</td>\n",
       "      <td>NaN</td>\n",
       "      <td>NaN</td>\n",
       "      <td>NaN</td>\n",
       "      <td>Mon Mar 08 14:00:26 +0000 2010</td>\n",
       "      <td>2010-03-08 15:00:26</td>\n",
       "      <td>genuine</td>\n",
       "    </tr>\n",
       "    <tr>\n",
       "      <th>11016</th>\n",
       "      <td>2910276853</td>\n",
       "      <td>// karime //</td>\n",
       "      <td>cypherjimin</td>\n",
       "      <td>20997</td>\n",
       "      <td>498</td>\n",
       "      <td>109</td>\n",
       "      <td>12105</td>\n",
       "      <td>5</td>\n",
       "      <td>http://t.co/bDpPtRkCnH</td>\n",
       "      <td>en</td>\n",
       "      <td>...</td>\n",
       "      <td>000000</td>\n",
       "      <td>http://abs.twimg.com/images/themes/theme1/bg.png</td>\n",
       "      <td>000000</td>\n",
       "      <td>3B94D9</td>\n",
       "      <td>NaN</td>\n",
       "      <td>NaN</td>\n",
       "      <td>NaN</td>\n",
       "      <td>Tue Nov 25 18:22:32 +0000 2014</td>\n",
       "      <td>2014-11-25 19:22:32</td>\n",
       "      <td>genuine</td>\n",
       "    </tr>\n",
       "  </tbody>\n",
       "</table>\n",
       "<p>11017 rows × 32 columns</p>\n",
       "</div>"
      ],
      "text/plain": [
       "               id             name      screen_name  statuses_count  \\\n",
       "0         7248952     Bhuvan Chand      tarunkjuyal            1259   \n",
       "1         7732472    Daniel Wagner     DanielWagner             770   \n",
       "2         9524952      Andrew Lock       Andrewlock            1100   \n",
       "3        10788822     Tim Thompson  yourinsaneworld            6497   \n",
       "4        14596967          fxgenie          fxgenie            3203   \n",
       "...           ...              ...              ...             ...   \n",
       "11012   205218909       Alejandro   zombiemaster999             315   \n",
       "11013  2874966164  Zubair Niazi Ⓜ️   zubairniaziPTI            4099   \n",
       "11014  2980901837          Zuhazuu         zuhazuu1             199   \n",
       "11015   121122678          zveljka          zveljka            2609   \n",
       "11016  2910276853     // karime //      cypherjimin           20997   \n",
       "\n",
       "       followers_count  friends_count  favourites_count  listed_count  \\\n",
       "0                  837           1978              3200             9   \n",
       "1                 3274           3595                 8            22   \n",
       "2                38849          34504                41          1014   \n",
       "3                 5902           5496                 0            82   \n",
       "4                 2570           2638                 0             5   \n",
       "...                ...            ...               ...           ...   \n",
       "11012               94            597                36             4   \n",
       "11013             5378           1238               471             6   \n",
       "11014               18            136                 6             0   \n",
       "11015               41            263               121             0   \n",
       "11016              498            109             12105             5   \n",
       "\n",
       "                                         url lang  ...  \\\n",
       "0                     http://lifeofearth.org  NaN  ...   \n",
       "1      http://www.yourinternetbuddies.com/go  NaN  ...   \n",
       "2              http://www.helpmybusiness.com  NaN  ...   \n",
       "3           http://investing-information.com  NaN  ...   \n",
       "4                  http://www.4xgenie.com/wp  NaN  ...   \n",
       "...                                      ...  ...  ...   \n",
       "11012                                    NaN   es  ...   \n",
       "11013                 http://t.co/yuROtYHG8K   en  ...   \n",
       "11014                                    NaN   en  ...   \n",
       "11015                                    NaN   en  ...   \n",
       "11016                 http://t.co/bDpPtRkCnH   en  ...   \n",
       "\n",
       "      profile_sidebar_fill_color  \\\n",
       "0                            NaN   \n",
       "1                            NaN   \n",
       "2                            NaN   \n",
       "3                            NaN   \n",
       "4                            NaN   \n",
       "...                          ...   \n",
       "11012                     EFEFEF   \n",
       "11013                     000000   \n",
       "11014                     DDEEF6   \n",
       "11015                     7AC3EE   \n",
       "11016                     000000   \n",
       "\n",
       "                            profile_background_image_url  \\\n",
       "0      http://s.twimg.com/a/1288374569/images/themes/...   \n",
       "1      http://a3.twimg.com/profile_background_images/...   \n",
       "2      http://s.twimg.com/a/1288305442/images/themes/...   \n",
       "3      http://s.twimg.com/a/1288039940/images/themes/...   \n",
       "4      http://a1.twimg.com/profile_background_images/...   \n",
       "...                                                  ...   \n",
       "11012  http://pbs.twimg.com/profile_background_images...   \n",
       "11013  http://pbs.twimg.com/profile_background_images...   \n",
       "11014   http://abs.twimg.com/images/themes/theme1/bg.png   \n",
       "11015  http://pbs.twimg.com/profile_background_images...   \n",
       "11016   http://abs.twimg.com/images/themes/theme1/bg.png   \n",
       "\n",
       "       profile_background_color  profile_link_color protected verified  \\\n",
       "0                           NaN                 NaN       NaN      NaN   \n",
       "1                           NaN                 NaN       NaN      NaN   \n",
       "2                           NaN                 NaN       NaN      NaN   \n",
       "3                           NaN                 NaN       NaN      NaN   \n",
       "4                           NaN                 NaN       NaN      NaN   \n",
       "...                         ...                 ...       ...      ...   \n",
       "11012                    131516              009999       NaN      NaN   \n",
       "11013                    4A913C              038543       NaN      NaN   \n",
       "11014                    C0DEED              0084B4       NaN      NaN   \n",
       "11015                    642D8B              3D1957       NaN      NaN   \n",
       "11016                    000000              3B94D9       NaN      NaN   \n",
       "\n",
       "       following                      created_at            timestamp  \\\n",
       "0            NaN                  1183552203000L  2007-07-04 14:30:03   \n",
       "1            NaN                  1185440851000L  2007-07-26 11:07:31   \n",
       "2            NaN                  1192725360000L  2007-10-18 18:36:00   \n",
       "3            NaN                  1196614406000L  2007-12-02 17:53:26   \n",
       "4            NaN                  1209536534000L  2008-04-30 08:22:14   \n",
       "...          ...                             ...                  ...   \n",
       "11012        NaN  Wed Oct 20 11:42:54 +0000 2010  2010-10-20 13:42:54   \n",
       "11013        NaN  Fri Oct 24 10:30:53 +0000 2014  2014-10-24 12:30:53   \n",
       "11014        NaN  Fri Jan 16 09:59:43 +0000 2015  2015-01-16 10:59:43   \n",
       "11015        NaN  Mon Mar 08 14:00:26 +0000 2010  2010-03-08 15:00:26   \n",
       "11016        NaN  Tue Nov 25 18:22:32 +0000 2014  2014-11-25 19:22:32   \n",
       "\n",
       "           Category  \n",
       "0      traditional1  \n",
       "1      traditional1  \n",
       "2      traditional1  \n",
       "3      traditional1  \n",
       "4      traditional1  \n",
       "...             ...  \n",
       "11012       genuine  \n",
       "11013       genuine  \n",
       "11014       genuine  \n",
       "11015       genuine  \n",
       "11016       genuine  \n",
       "\n",
       "[11017 rows x 32 columns]"
      ]
     },
     "execution_count": 98,
     "metadata": {},
     "output_type": "execute_result"
    }
   ],
   "source": [
    "#dropping variables which primarily do make sense in our analysis, in future we may return to the variables if need be.\n",
    "df = df.drop([\"location\", \"utc_offset\", \"is_translator\", \"follow_request_sent\", \"notifications\", \"description\", \"contributors_enabled\",\"crawled_at\",\"updated\",\"random\",\"testset\"], axis = 1)\n",
    "df"
   ]
  },
  {
   "cell_type": "code",
   "execution_count": 99,
   "metadata": {},
   "outputs": [],
   "source": [
    "# manipulating target variable by putting 0 and 1 values\n",
    "df.loc[df[\"Category\"] == 'genuine', \"class\"] = \"0\"\n",
    "df.loc[df[\"Category\"] != 'genuine', \"class\"] = \"1\"\n",
    "#df = df.drop([\"Category\"], axis = 1)\n",
    "\n",
    "#genuine class is denoted by 0 and bot/spam by 1"
   ]
  },
  {
   "cell_type": "code",
   "execution_count": 100,
   "metadata": {},
   "outputs": [
    {
     "data": {
      "text/plain": [
       "1    7543\n",
       "0    3474\n",
       "Name: class, dtype: int64"
      ]
     },
     "execution_count": 100,
     "metadata": {},
     "output_type": "execute_result"
    }
   ],
   "source": [
    "df['class'].value_counts()"
   ]
  },
  {
   "cell_type": "code",
   "execution_count": null,
   "metadata": {},
   "outputs": [],
   "source": [
    "# we observe that there are 7543 bot/spam/non-genuine accounts and there is a bias in data towards bots"
   ]
  },
  {
   "cell_type": "code",
   "execution_count": 37,
   "metadata": {},
   "outputs": [],
   "source": [
    "#creating a dataframe to work with categorical variables of dataframe df\n",
    "df_profile = pd.DataFrame()"
   ]
  },
  {
   "cell_type": "markdown",
   "metadata": {},
   "source": [
    "#### Evaluating various columns to understand if there is any association of the data type in classification"
   ]
  },
  {
   "cell_type": "code",
   "execution_count": 101,
   "metadata": {},
   "outputs": [
    {
     "data": {
      "text/plain": [
       "1.0    5331\n",
       "Name: profile_background_tile, dtype: int64"
      ]
     },
     "execution_count": 101,
     "metadata": {},
     "output_type": "execute_result"
    }
   ],
   "source": [
    "\n",
    "df['profile_background_tile'].value_counts()"
   ]
  },
  {
   "cell_type": "code",
   "execution_count": 40,
   "metadata": {},
   "outputs": [
    {
     "data": {
      "text/plain": [
       "count      10017\n",
       "unique       406\n",
       "top       333333\n",
       "freq        6992\n",
       "Name: profile_text_color, dtype: object"
      ]
     },
     "execution_count": 40,
     "metadata": {},
     "output_type": "execute_result"
    }
   ],
   "source": [
    "df['profile_text_color'].describe()"
   ]
  },
  {
   "cell_type": "code",
   "execution_count": 21,
   "metadata": {},
   "outputs": [
    {
     "data": {
      "text/plain": [
       "333333    6992\n",
       "0         1013\n",
       "000000     517\n",
       "666666     302\n",
       "3D1957     215\n",
       "          ... \n",
       "2F0EEB       1\n",
       "736C6C       1\n",
       "12151F       1\n",
       "2A52D3       1\n",
       "D1B17E       1\n",
       "Name: profile_text_color, Length: 406, dtype: int64"
      ]
     },
     "execution_count": 21,
     "metadata": {},
     "output_type": "execute_result"
    }
   ],
   "source": [
    "df['profile_text_color'].value_counts()"
   ]
  },
  {
   "cell_type": "code",
   "execution_count": 37,
   "metadata": {},
   "outputs": [],
   "source": [
    "df.loc[df['profile_text_color'] == '333333', 'text_color'] = \"C_333333\"\n",
    "df.loc[df['profile_text_color'] == '000000', 'text_color'] = \"C_000000\"\n",
    "df.loc[df['profile_text_color'] == '666666', 'text_color'] = \"C_666666\"\n",
    "df.loc[(df['profile_text_color'] != '333333')&(df['profile_text_color'] != '000000')&(df['profile_text_color'] != '666666'), 'text_color'] = \"c_unknown\""
   ]
  },
  {
   "cell_type": "code",
   "execution_count": 38,
   "metadata": {},
   "outputs": [
    {
     "data": {
      "text/plain": [
       "C_333333     6992\n",
       "c_unknown    3206\n",
       "C_000000      517\n",
       "C_666666      302\n",
       "Name: text_color, dtype: int64"
      ]
     },
     "execution_count": 38,
     "metadata": {},
     "output_type": "execute_result"
    }
   ],
   "source": [
    "df['text_color'].value_counts()"
   ]
  },
  {
   "cell_type": "code",
   "execution_count": 43,
   "metadata": {},
   "outputs": [
    {
     "data": {
      "text/plain": [
       "count                                                  4819\n",
       "unique                                                 4819\n",
       "top       https://pbs.twimg.com/profile_banners/14037950...\n",
       "freq                                                      1\n",
       "Name: profile_banner_url, dtype: object"
      ]
     },
     "execution_count": 43,
     "metadata": {},
     "output_type": "execute_result"
    }
   ],
   "source": [
    "df['profile_banner_url'].describe()"
   ]
  },
  {
   "cell_type": "code",
   "execution_count": 60,
   "metadata": {},
   "outputs": [],
   "source": [
    "df.loc[pd.isnull(df['profile_banner_url']), 'banner_url'] = 'banner_absent'\n",
    "df.loc[pd.isnull(df['profile_banner_url']) == False, 'banner_url'] = 'banner_present'"
   ]
  },
  {
   "cell_type": "code",
   "execution_count": 58,
   "metadata": {},
   "outputs": [
    {
     "data": {
      "text/plain": [
       "True     6198\n",
       "False    4819\n",
       "Name: profile_banner_url, dtype: int64"
      ]
     },
     "execution_count": 58,
     "metadata": {},
     "output_type": "execute_result"
    }
   ],
   "source": [
    "(pd.isnull(df['profile_banner_url'])).value_counts()"
   ]
  },
  {
   "cell_type": "code",
   "execution_count": 59,
   "metadata": {},
   "outputs": [
    {
     "ename": "SyntaxError",
     "evalue": "invalid syntax (<ipython-input-59-8f365b15baaa>, line 1)",
     "output_type": "error",
     "traceback": [
      "\u001b[0;36m  File \u001b[0;32m\"<ipython-input-59-8f365b15baaa>\"\u001b[0;36m, line \u001b[0;32m1\u001b[0m\n\u001b[0;31m    (!pd.isnull(df['profile_banner_url']).value_counts()\u001b[0m\n\u001b[0m     ^\u001b[0m\n\u001b[0;31mSyntaxError\u001b[0m\u001b[0;31m:\u001b[0m invalid syntax\n"
     ]
    }
   ],
   "source": [
    "pd.isnull(df['profile_banner_url']).value_counts()"
   ]
  },
  {
   "cell_type": "code",
   "execution_count": 61,
   "metadata": {},
   "outputs": [
    {
     "data": {
      "text/plain": [
       "banner_absent     6198\n",
       "banner_present    4819\n",
       "Name: banner_url, dtype: int64"
      ]
     },
     "execution_count": 61,
     "metadata": {},
     "output_type": "execute_result"
    }
   ],
   "source": [
    "df['banner_url'].value_counts()"
   ]
  },
  {
   "cell_type": "code",
   "execution_count": 72,
   "metadata": {},
   "outputs": [
    {
     "data": {
      "text/plain": [
       "1    7543\n",
       "0    3474\n",
       "Name: class, dtype: int64"
      ]
     },
     "execution_count": 72,
     "metadata": {},
     "output_type": "execute_result"
    }
   ],
   "source": [
    "df['class'].value_counts()"
   ]
  },
  {
   "cell_type": "code",
   "execution_count": 74,
   "metadata": {},
   "outputs": [
    {
     "data": {
      "text/plain": [
       "<AxesSubplot:xlabel='text_color', ylabel='count'>"
      ]
     },
     "execution_count": 74,
     "metadata": {},
     "output_type": "execute_result"
    },
    {
     "data": {
      "image/png": "[encoded data removed]",
      "text/plain": [
       "<Figure size 1080x1080 with 1 Axes>"
      ]
     },
     "metadata": {},
     "output_type": "display_data"
    }
   ],
   "source": [
    "sns.countplot(x = 'text_color', hue = 'class', data = df)"
   ]
  },
  {
   "cell_type": "code",
   "execution_count": 81,
   "metadata": {},
   "outputs": [
    {
     "data": {
      "text/html": [
       "<div>\n",
       "<style scoped>\n",
       "    .dataframe tbody tr th:only-of-type {\n",
       "        vertical-align: middle;\n",
       "    }\n",
       "\n",
       "    .dataframe tbody tr th {\n",
       "        vertical-align: top;\n",
       "    }\n",
       "\n",
       "    .dataframe thead th {\n",
       "        text-align: right;\n",
       "    }\n",
       "</style>\n",
       "<table border=\"1\" class=\"dataframe\">\n",
       "  <thead>\n",
       "    <tr style=\"text-align: right;\">\n",
       "      <th></th>\n",
       "      <th>name</th>\n",
       "      <th>screen_name</th>\n",
       "      <th>statuses_count</th>\n",
       "      <th>followers_count</th>\n",
       "      <th>friends_count</th>\n",
       "      <th>favourites_count</th>\n",
       "      <th>listed_count</th>\n",
       "      <th>url</th>\n",
       "      <th>lang</th>\n",
       "      <th>time_zone</th>\n",
       "      <th>...</th>\n",
       "      <th>profile_link_color</th>\n",
       "      <th>protected</th>\n",
       "      <th>verified</th>\n",
       "      <th>following</th>\n",
       "      <th>created_at</th>\n",
       "      <th>timestamp</th>\n",
       "      <th>Category</th>\n",
       "      <th>text_Color</th>\n",
       "      <th>text_color</th>\n",
       "      <th>banner_url</th>\n",
       "    </tr>\n",
       "    <tr>\n",
       "      <th>class</th>\n",
       "      <th></th>\n",
       "      <th></th>\n",
       "      <th></th>\n",
       "      <th></th>\n",
       "      <th></th>\n",
       "      <th></th>\n",
       "      <th></th>\n",
       "      <th></th>\n",
       "      <th></th>\n",
       "      <th></th>\n",
       "      <th></th>\n",
       "      <th></th>\n",
       "      <th></th>\n",
       "      <th></th>\n",
       "      <th></th>\n",
       "      <th></th>\n",
       "      <th></th>\n",
       "      <th></th>\n",
       "      <th></th>\n",
       "      <th></th>\n",
       "      <th></th>\n",
       "    </tr>\n",
       "  </thead>\n",
       "  <tbody>\n",
       "    <tr>\n",
       "      <th>0</th>\n",
       "      <td>3473</td>\n",
       "      <td>3474</td>\n",
       "      <td>3474</td>\n",
       "      <td>3474</td>\n",
       "      <td>3474</td>\n",
       "      <td>3474</td>\n",
       "      <td>3474</td>\n",
       "      <td>1266</td>\n",
       "      <td>3474</td>\n",
       "      <td>2475</td>\n",
       "      <td>...</td>\n",
       "      <td>3474</td>\n",
       "      <td>78</td>\n",
       "      <td>11</td>\n",
       "      <td>0</td>\n",
       "      <td>3474</td>\n",
       "      <td>3474</td>\n",
       "      <td>3474</td>\n",
       "      <td>2679</td>\n",
       "      <td>3474</td>\n",
       "      <td>3474</td>\n",
       "    </tr>\n",
       "    <tr>\n",
       "      <th>1</th>\n",
       "      <td>7543</td>\n",
       "      <td>7543</td>\n",
       "      <td>7543</td>\n",
       "      <td>7543</td>\n",
       "      <td>7543</td>\n",
       "      <td>7543</td>\n",
       "      <td>7543</td>\n",
       "      <td>2242</td>\n",
       "      <td>6543</td>\n",
       "      <td>2540</td>\n",
       "      <td>...</td>\n",
       "      <td>6543</td>\n",
       "      <td>0</td>\n",
       "      <td>0</td>\n",
       "      <td>0</td>\n",
       "      <td>7543</td>\n",
       "      <td>7543</td>\n",
       "      <td>7543</td>\n",
       "      <td>5132</td>\n",
       "      <td>7543</td>\n",
       "      <td>7543</td>\n",
       "    </tr>\n",
       "  </tbody>\n",
       "</table>\n",
       "<p>2 rows × 34 columns</p>\n",
       "</div>"
      ],
      "text/plain": [
       "       name  screen_name  statuses_count  followers_count  friends_count  \\\n",
       "class                                                                      \n",
       "0      3473         3474            3474             3474           3474   \n",
       "1      7543         7543            7543             7543           7543   \n",
       "\n",
       "       favourites_count  listed_count   url  lang  time_zone  ...  \\\n",
       "class                                                         ...   \n",
       "0                  3474          3474  1266  3474       2475  ...   \n",
       "1                  7543          7543  2242  6543       2540  ...   \n",
       "\n",
       "       profile_link_color  protected  verified  following  created_at  \\\n",
       "class                                                                   \n",
       "0                    3474         78        11          0        3474   \n",
       "1                    6543          0         0          0        7543   \n",
       "\n",
       "       timestamp  Category  text_Color  text_color  banner_url  \n",
       "class                                                           \n",
       "0           3474      3474        2679        3474        3474  \n",
       "1           7543      7543        5132        7543        7543  \n",
       "\n",
       "[2 rows x 34 columns]"
      ]
     },
     "execution_count": 81,
     "metadata": {},
     "output_type": "execute_result"
    }
   ],
   "source": [
    "df_test1  = df.groupby(by = 'class').count()\n",
    "df_test1.head()"
   ]
  },
  {
   "cell_type": "code",
   "execution_count": 89,
   "metadata": {},
   "outputs": [],
   "source": [
    "df_test1 = df_test1.drop(columns = ['name', 'screen_name', 'statuses_count', 'followers_count', 'friends_count', 'favourites_count'], axis =1)"
   ]
  },
  {
   "cell_type": "code",
   "execution_count": 90,
   "metadata": {},
   "outputs": [],
   "source": [
    "df_test1 = df_test1.drop(columns = ['listed_count', 'lang', 'profile_image_url', 'profile_link_color', 'created_at'])"
   ]
  },
  {
   "cell_type": "code",
   "execution_count": 91,
   "metadata": {},
   "outputs": [
    {
     "data": {
      "text/html": [
       "<div>\n",
       "<style scoped>\n",
       "    .dataframe tbody tr th:only-of-type {\n",
       "        vertical-align: middle;\n",
       "    }\n",
       "\n",
       "    .dataframe tbody tr th {\n",
       "        vertical-align: top;\n",
       "    }\n",
       "\n",
       "    .dataframe thead th {\n",
       "        text-align: right;\n",
       "    }\n",
       "</style>\n",
       "<table border=\"1\" class=\"dataframe\">\n",
       "  <thead>\n",
       "    <tr style=\"text-align: right;\">\n",
       "      <th></th>\n",
       "      <th>url</th>\n",
       "      <th>time_zone</th>\n",
       "      <th>default_profile</th>\n",
       "      <th>default_profile_image</th>\n",
       "      <th>geo_enabled</th>\n",
       "      <th>profile_banner_url</th>\n",
       "      <th>profile_use_background_image</th>\n",
       "      <th>profile_background_image_url_https</th>\n",
       "      <th>profile_text_color</th>\n",
       "      <th>profile_image_url_https</th>\n",
       "      <th>...</th>\n",
       "      <th>profile_background_image_url</th>\n",
       "      <th>profile_background_color</th>\n",
       "      <th>protected</th>\n",
       "      <th>verified</th>\n",
       "      <th>following</th>\n",
       "      <th>timestamp</th>\n",
       "      <th>Category</th>\n",
       "      <th>text_Color</th>\n",
       "      <th>text_color</th>\n",
       "      <th>banner_url</th>\n",
       "    </tr>\n",
       "    <tr>\n",
       "      <th>class</th>\n",
       "      <th></th>\n",
       "      <th></th>\n",
       "      <th></th>\n",
       "      <th></th>\n",
       "      <th></th>\n",
       "      <th></th>\n",
       "      <th></th>\n",
       "      <th></th>\n",
       "      <th></th>\n",
       "      <th></th>\n",
       "      <th></th>\n",
       "      <th></th>\n",
       "      <th></th>\n",
       "      <th></th>\n",
       "      <th></th>\n",
       "      <th></th>\n",
       "      <th></th>\n",
       "      <th></th>\n",
       "      <th></th>\n",
       "      <th></th>\n",
       "      <th></th>\n",
       "    </tr>\n",
       "  </thead>\n",
       "  <tbody>\n",
       "    <tr>\n",
       "      <th>0</th>\n",
       "      <td>1266</td>\n",
       "      <td>2475</td>\n",
       "      <td>1032</td>\n",
       "      <td>13</td>\n",
       "      <td>2155</td>\n",
       "      <td>3165</td>\n",
       "      <td>3084</td>\n",
       "      <td>3474</td>\n",
       "      <td>3474</td>\n",
       "      <td>3474</td>\n",
       "      <td>...</td>\n",
       "      <td>3474</td>\n",
       "      <td>3474</td>\n",
       "      <td>78</td>\n",
       "      <td>11</td>\n",
       "      <td>0</td>\n",
       "      <td>3474</td>\n",
       "      <td>3474</td>\n",
       "      <td>2679</td>\n",
       "      <td>3474</td>\n",
       "      <td>3474</td>\n",
       "    </tr>\n",
       "    <tr>\n",
       "      <th>1</th>\n",
       "      <td>2242</td>\n",
       "      <td>2540</td>\n",
       "      <td>445</td>\n",
       "      <td>59</td>\n",
       "      <td>1139</td>\n",
       "      <td>1654</td>\n",
       "      <td>6419</td>\n",
       "      <td>6543</td>\n",
       "      <td>6543</td>\n",
       "      <td>6543</td>\n",
       "      <td>...</td>\n",
       "      <td>7543</td>\n",
       "      <td>6543</td>\n",
       "      <td>0</td>\n",
       "      <td>0</td>\n",
       "      <td>0</td>\n",
       "      <td>7543</td>\n",
       "      <td>7543</td>\n",
       "      <td>5132</td>\n",
       "      <td>7543</td>\n",
       "      <td>7543</td>\n",
       "    </tr>\n",
       "  </tbody>\n",
       "</table>\n",
       "<p>2 rows × 23 columns</p>\n",
       "</div>"
      ],
      "text/plain": [
       "        url  time_zone  default_profile  default_profile_image  geo_enabled  \\\n",
       "class                                                                         \n",
       "0      1266       2475             1032                     13         2155   \n",
       "1      2242       2540              445                     59         1139   \n",
       "\n",
       "       profile_banner_url  profile_use_background_image  \\\n",
       "class                                                     \n",
       "0                    3165                          3084   \n",
       "1                    1654                          6419   \n",
       "\n",
       "       profile_background_image_url_https  profile_text_color  \\\n",
       "class                                                           \n",
       "0                                    3474                3474   \n",
       "1                                    6543                6543   \n",
       "\n",
       "       profile_image_url_https  ...  profile_background_image_url  \\\n",
       "class                           ...                                 \n",
       "0                         3474  ...                          3474   \n",
       "1                         6543  ...                          7543   \n",
       "\n",
       "       profile_background_color  protected  verified  following  timestamp  \\\n",
       "class                                                                        \n",
       "0                          3474         78        11          0       3474   \n",
       "1                          6543          0         0          0       7543   \n",
       "\n",
       "       Category  text_Color  text_color  banner_url  \n",
       "class                                                \n",
       "0          3474        2679        3474        3474  \n",
       "1          7543        5132        7543        7543  \n",
       "\n",
       "[2 rows x 23 columns]"
      ]
     },
     "execution_count": 91,
     "metadata": {},
     "output_type": "execute_result"
    }
   ],
   "source": [
    "df_test1.head()"
   ]
  },
  {
   "cell_type": "code",
   "execution_count": 73,
   "metadata": {},
   "outputs": [
    {
     "data": {
      "text/plain": [
       "<AxesSubplot:xlabel='banner_url', ylabel='count'>"
      ]
     },
     "execution_count": 73,
     "metadata": {},
     "output_type": "execute_result"
    },
    {
     "data": {
      "image/png": "[encoded data removed]",
      "text/plain": [
       "<Figure size 1080x1080 with 1 Axes>"
      ]
     },
     "metadata": {},
     "output_type": "display_data"
    }
   ],
   "source": [
    "sns.countplot(x = 'banner_url', hue = 'class', data = df)"
   ]
  },
  {
   "cell_type": "code",
   "execution_count": 11,
   "metadata": {},
   "outputs": [],
   "source": [
    "sns.set(rc = {'figure.figsize':(15, 15)} )"
   ]
  },
  {
   "cell_type": "code",
   "execution_count": null,
   "metadata": {},
   "outputs": [],
   "source": []
  },
  {
   "cell_type": "code",
   "execution_count": 15,
   "metadata": {},
   "outputs": [
    {
     "data": {
      "text/plain": [
       "<AxesSubplot:xlabel='profile_text_color', ylabel='count'>"
      ]
     },
     "execution_count": 15,
     "metadata": {},
     "output_type": "execute_result"
    },
    {
     "data": {
      "image/png": "[encoded data removed]",
      "text/plain": [
       "<Figure size 1080x1080 with 1 Axes>"
      ]
     },
     "metadata": {},
     "output_type": "display_data"
    }
   ],
   "source": [
    "#figuring a way to plot if profile text color is related to class in some manner\n",
    "#sns.countplot(hue = 'class', data = df, x = 'profile_text_color')"
   ]
  },
  {
   "cell_type": "code",
   "execution_count": 73,
   "metadata": {},
   "outputs": [
    {
     "data": {
      "text/plain": [
       "<AxesSubplot:ylabel='profile_text_color'>"
      ]
     },
     "execution_count": 73,
     "metadata": {},
     "output_type": "execute_result"
    },
    {
     "data": {
      "image/png": "[encoded data removed]",
      "text/plain": [
       "<Figure size 432x288 with 1 Axes>"
      ]
     },
     "metadata": {
      "needs_background": "light"
     },
     "output_type": "display_data"
    }
   ],
   "source": [
    "sns.barplot(y = df['profile_text_color'].value_counts(), data = df)"
   ]
  },
  {
   "cell_type": "code",
   "execution_count": 46,
   "metadata": {},
   "outputs": [],
   "source": [
    "df_copy = df"
   ]
  },
  {
   "cell_type": "code",
   "execution_count": 54,
   "metadata": {},
   "outputs": [],
   "source": [
    "df['verified'] = df['verified'].astype('category')\n",
    "df['class'] = df['class'].astype('category')\n",
    "df['profile_text_color'] = df['profile_text_color'].astype('category')"
   ]
  },
  {
   "cell_type": "code",
   "execution_count": 64,
   "metadata": {},
   "outputs": [
    {
     "data": {
      "text/plain": [
       "name                                  6991\n",
       "screen_name                           6992\n",
       "statuses_count                        6992\n",
       "followers_count                       6992\n",
       "friends_count                         6992\n",
       "favourites_count                      6992\n",
       "listed_count                          6992\n",
       "url                                   1365\n",
       "lang                                  6992\n",
       "time_zone                             2363\n",
       "default_profile                       1477\n",
       "default_profile_image                   69\n",
       "geo_enabled                           1467\n",
       "profile_image_url                     6992\n",
       "profile_banner_url                    2481\n",
       "profile_use_background_image          6848\n",
       "profile_background_image_url_https    6992\n",
       "profile_text_color                    6992\n",
       "profile_image_url_https               6992\n",
       "profile_sidebar_border_color          6992\n",
       "profile_background_tile               4460\n",
       "profile_sidebar_fill_color            6992\n",
       "profile_background_image_url          6992\n",
       "profile_background_color              6992\n",
       "profile_link_color                    6992\n",
       "protected                               45\n",
       "verified                                 5\n",
       "created_at                            6992\n",
       "timestamp                             6992\n",
       "Category                              6992\n",
       "class                                 6992\n",
       "dtype: int64"
      ]
     },
     "execution_count": 64,
     "metadata": {},
     "output_type": "execute_result"
    }
   ],
   "source": [
    "df.loc[df['profile_text_color'] == '333333'].count()"
   ]
  },
  {
   "cell_type": "code",
   "execution_count": 50,
   "metadata": {},
   "outputs": [
    {
     "data": {
      "text/html": [
       "<div>\n",
       "<style scoped>\n",
       "    .dataframe tbody tr th:only-of-type {\n",
       "        vertical-align: middle;\n",
       "    }\n",
       "\n",
       "    .dataframe tbody tr th {\n",
       "        vertical-align: top;\n",
       "    }\n",
       "\n",
       "    .dataframe thead th {\n",
       "        text-align: right;\n",
       "    }\n",
       "</style>\n",
       "<table border=\"1\" class=\"dataframe\">\n",
       "  <thead>\n",
       "    <tr style=\"text-align: right;\">\n",
       "      <th>class</th>\n",
       "      <th>0</th>\n",
       "      <th>1</th>\n",
       "    </tr>\n",
       "    <tr>\n",
       "      <th>verified</th>\n",
       "      <th></th>\n",
       "      <th></th>\n",
       "    </tr>\n",
       "  </thead>\n",
       "  <tbody>\n",
       "    <tr>\n",
       "      <th>1.0</th>\n",
       "      <td>11.0</td>\n",
       "      <td>NaN</td>\n",
       "    </tr>\n",
       "  </tbody>\n",
       "</table>\n",
       "</div>"
      ],
      "text/plain": [
       "class        0   1\n",
       "verified          \n",
       "1.0       11.0 NaN"
      ]
     },
     "execution_count": 50,
     "metadata": {},
     "output_type": "execute_result"
    }
   ],
   "source": [
    "table = pd.pivot_table(df, values = 'profile_text_color', index = ['verified'], columns = ['class'], aggfunc= np.count_nonzero, dropna= False)\n",
    "table"
   ]
  },
  {
   "cell_type": "code",
   "execution_count": null,
   "metadata": {},
   "outputs": [],
   "source": [
    "# putting missing values as 0 in default_profile, protected, default_profile_image and verified columns\n",
    "df_profile[]\n",
    "df_profile[\"default_profile\"] = df[\"default_profile\"] #10\n",
    "df_profile[\"default_profile_image\"] = df[\"default_profile_image\"] #11\n",
    "df_profile[\"geo_enabled\"] = df[\"geo_enabled\"] #12\n",
    "df_profile[\"profile_use_background_image\"] = df[\"profile_use_background_image\"] #15\n",
    "df_profile[\"profile_image_url\"] = df[\"geo_enabled\"] #13\n",
    "df_profile[\"profile_background_tile\"] = df[\"profile_background_tile\"] #20\n",
    "df_profile[\"profile_use_background_image\"] = df[\"profile_use_background_image\"]\n"
   ]
  },
  {
   "cell_type": "code",
   "execution_count": 102,
   "metadata": {},
   "outputs": [],
   "source": [
    "from datetime import date\n",
    "df[\"age\"]=date.today().year - pd.DatetimeIndex(df[\"timestamp\"]).year\n"
   ]
  },
  {
   "cell_type": "code",
   "execution_count": 109,
   "metadata": {},
   "outputs": [
    {
     "name": "stdout",
     "output_type": "stream",
     "text": [
      "Object `DataFrame.loc[]` not found.\n"
     ]
    }
   ],
   "source": [
    "?DataFrame.loc[]"
   ]
  },
  {
   "cell_type": "code",
   "execution_count": 105,
   "metadata": {},
   "outputs": [
    {
     "ename": "KeyError",
     "evalue": "\"Passing list-likes to .loc or [] with any missing labels is no longer supported. The following labels were missing: Index(['location', 'description'], dtype='object'). See https://pandas.pydata.org/pandas-docs/stable/user_guide/indexing.html#deprecate-loc-reindex-listlike\"",
     "output_type": "error",
     "traceback": [
      "\u001b[0;31m---------------------------------------------------------------------------\u001b[0m",
      "\u001b[0;31mKeyError\u001b[0m                                  Traceback (most recent call last)",
      "\u001b[0;32m<ipython-input-105-727d17e0873a>\u001b[0m in \u001b[0;36m<module>\u001b[0;34m\u001b[0m\n\u001b[0;32m----> 1\u001b[0;31m \u001b[0mdf1\u001b[0m\u001b[0;34m=\u001b[0m\u001b[0mdf\u001b[0m\u001b[0;34m.\u001b[0m\u001b[0mloc\u001b[0m\u001b[0;34m[\u001b[0m\u001b[0;34m:\u001b[0m\u001b[0;34m,\u001b[0m\u001b[0;34m[\u001b[0m\u001b[0;34m\"id\"\u001b[0m\u001b[0;34m,\u001b[0m\u001b[0;34m\"url\"\u001b[0m\u001b[0;34m,\u001b[0m\u001b[0;34m\"time_zone\"\u001b[0m\u001b[0;34m,\u001b[0m\u001b[0;34m\"location\"\u001b[0m\u001b[0;34m,\u001b[0m\u001b[0;34m\"geo_enabled\"\u001b[0m\u001b[0;34m,\u001b[0m\u001b[0;34m\"description\"\u001b[0m\u001b[0;34m,\u001b[0m\u001b[0;34m\"class\"\u001b[0m\u001b[0;34m]\u001b[0m\u001b[0;34m]\u001b[0m\u001b[0;34m\u001b[0m\u001b[0;34m\u001b[0m\u001b[0m\n\u001b[0m\u001b[1;32m      2\u001b[0m \u001b[0mdf2\u001b[0m\u001b[0;34m=\u001b[0m\u001b[0mdf1\u001b[0m\u001b[0;34m.\u001b[0m\u001b[0mgroupby\u001b[0m\u001b[0;34m(\u001b[0m\u001b[0;34m\"class\"\u001b[0m\u001b[0;34m)\u001b[0m\u001b[0;34m.\u001b[0m\u001b[0mcount\u001b[0m\u001b[0;34m(\u001b[0m\u001b[0;34m)\u001b[0m\u001b[0;34m\u001b[0m\u001b[0;34m\u001b[0m\u001b[0m\n\u001b[1;32m      3\u001b[0m \u001b[0mdf2\u001b[0m\u001b[0;34m\u001b[0m\u001b[0;34m\u001b[0m\u001b[0m\n",
      "\u001b[0;32m~/virtualenv/venv/lib/python3.8/site-packages/pandas/core/indexing.py\u001b[0m in \u001b[0;36m__getitem__\u001b[0;34m(self, key)\u001b[0m\n\u001b[1;32m    871\u001b[0m                     \u001b[0;31m# AttributeError for IntervalTree get_value\u001b[0m\u001b[0;34m\u001b[0m\u001b[0;34m\u001b[0m\u001b[0;34m\u001b[0m\u001b[0m\n\u001b[1;32m    872\u001b[0m                     \u001b[0;32mpass\u001b[0m\u001b[0;34m\u001b[0m\u001b[0;34m\u001b[0m\u001b[0m\n\u001b[0;32m--> 873\u001b[0;31m             \u001b[0;32mreturn\u001b[0m \u001b[0mself\u001b[0m\u001b[0;34m.\u001b[0m\u001b[0m_getitem_tuple\u001b[0m\u001b[0;34m(\u001b[0m\u001b[0mkey\u001b[0m\u001b[0;34m)\u001b[0m\u001b[0;34m\u001b[0m\u001b[0;34m\u001b[0m\u001b[0m\n\u001b[0m\u001b[1;32m    874\u001b[0m         \u001b[0;32melse\u001b[0m\u001b[0;34m:\u001b[0m\u001b[0;34m\u001b[0m\u001b[0;34m\u001b[0m\u001b[0m\n\u001b[1;32m    875\u001b[0m             \u001b[0;31m# we by definition only have the 0th axis\u001b[0m\u001b[0;34m\u001b[0m\u001b[0;34m\u001b[0m\u001b[0;34m\u001b[0m\u001b[0m\n",
      "\u001b[0;32m~/virtualenv/venv/lib/python3.8/site-packages/pandas/core/indexing.py\u001b[0m in \u001b[0;36m_getitem_tuple\u001b[0;34m(self, tup)\u001b[0m\n\u001b[1;32m   1053\u001b[0m             \u001b[0;32mreturn\u001b[0m \u001b[0mself\u001b[0m\u001b[0;34m.\u001b[0m\u001b[0m_multi_take\u001b[0m\u001b[0;34m(\u001b[0m\u001b[0mtup\u001b[0m\u001b[0;34m)\u001b[0m\u001b[0;34m\u001b[0m\u001b[0;34m\u001b[0m\u001b[0m\n\u001b[1;32m   1054\u001b[0m \u001b[0;34m\u001b[0m\u001b[0m\n\u001b[0;32m-> 1055\u001b[0;31m         \u001b[0;32mreturn\u001b[0m \u001b[0mself\u001b[0m\u001b[0;34m.\u001b[0m\u001b[0m_getitem_tuple_same_dim\u001b[0m\u001b[0;34m(\u001b[0m\u001b[0mtup\u001b[0m\u001b[0;34m)\u001b[0m\u001b[0;34m\u001b[0m\u001b[0;34m\u001b[0m\u001b[0m\n\u001b[0m\u001b[1;32m   1056\u001b[0m \u001b[0;34m\u001b[0m\u001b[0m\n\u001b[1;32m   1057\u001b[0m     \u001b[0;32mdef\u001b[0m \u001b[0m_get_label\u001b[0m\u001b[0;34m(\u001b[0m\u001b[0mself\u001b[0m\u001b[0;34m,\u001b[0m \u001b[0mlabel\u001b[0m\u001b[0;34m,\u001b[0m \u001b[0maxis\u001b[0m\u001b[0;34m:\u001b[0m \u001b[0mint\u001b[0m\u001b[0;34m)\u001b[0m\u001b[0;34m:\u001b[0m\u001b[0;34m\u001b[0m\u001b[0;34m\u001b[0m\u001b[0m\n",
      "\u001b[0;32m~/virtualenv/venv/lib/python3.8/site-packages/pandas/core/indexing.py\u001b[0m in \u001b[0;36m_getitem_tuple_same_dim\u001b[0;34m(self, tup)\u001b[0m\n\u001b[1;32m    748\u001b[0m                 \u001b[0;32mcontinue\u001b[0m\u001b[0;34m\u001b[0m\u001b[0;34m\u001b[0m\u001b[0m\n\u001b[1;32m    749\u001b[0m \u001b[0;34m\u001b[0m\u001b[0m\n\u001b[0;32m--> 750\u001b[0;31m             \u001b[0mretval\u001b[0m \u001b[0;34m=\u001b[0m \u001b[0mgetattr\u001b[0m\u001b[0;34m(\u001b[0m\u001b[0mretval\u001b[0m\u001b[0;34m,\u001b[0m \u001b[0mself\u001b[0m\u001b[0;34m.\u001b[0m\u001b[0mname\u001b[0m\u001b[0;34m)\u001b[0m\u001b[0;34m.\u001b[0m\u001b[0m_getitem_axis\u001b[0m\u001b[0;34m(\u001b[0m\u001b[0mkey\u001b[0m\u001b[0;34m,\u001b[0m \u001b[0maxis\u001b[0m\u001b[0;34m=\u001b[0m\u001b[0mi\u001b[0m\u001b[0;34m)\u001b[0m\u001b[0;34m\u001b[0m\u001b[0;34m\u001b[0m\u001b[0m\n\u001b[0m\u001b[1;32m    751\u001b[0m             \u001b[0;31m# We should never have retval.ndim < self.ndim, as that should\u001b[0m\u001b[0;34m\u001b[0m\u001b[0;34m\u001b[0m\u001b[0;34m\u001b[0m\u001b[0m\n\u001b[1;32m    752\u001b[0m             \u001b[0;31m#  be handled by the _getitem_lowerdim call above.\u001b[0m\u001b[0;34m\u001b[0m\u001b[0;34m\u001b[0m\u001b[0;34m\u001b[0m\u001b[0m\n",
      "\u001b[0;32m~/virtualenv/venv/lib/python3.8/site-packages/pandas/core/indexing.py\u001b[0m in \u001b[0;36m_getitem_axis\u001b[0;34m(self, key, axis)\u001b[0m\n\u001b[1;32m   1097\u001b[0m                     \u001b[0;32mraise\u001b[0m \u001b[0mValueError\u001b[0m\u001b[0;34m(\u001b[0m\u001b[0;34m\"Cannot index with multidimensional key\"\u001b[0m\u001b[0;34m)\u001b[0m\u001b[0;34m\u001b[0m\u001b[0;34m\u001b[0m\u001b[0m\n\u001b[1;32m   1098\u001b[0m \u001b[0;34m\u001b[0m\u001b[0m\n\u001b[0;32m-> 1099\u001b[0;31m                 \u001b[0;32mreturn\u001b[0m \u001b[0mself\u001b[0m\u001b[0;34m.\u001b[0m\u001b[0m_getitem_iterable\u001b[0m\u001b[0;34m(\u001b[0m\u001b[0mkey\u001b[0m\u001b[0;34m,\u001b[0m \u001b[0maxis\u001b[0m\u001b[0;34m=\u001b[0m\u001b[0maxis\u001b[0m\u001b[0;34m)\u001b[0m\u001b[0;34m\u001b[0m\u001b[0;34m\u001b[0m\u001b[0m\n\u001b[0m\u001b[1;32m   1100\u001b[0m \u001b[0;34m\u001b[0m\u001b[0m\n\u001b[1;32m   1101\u001b[0m             \u001b[0;31m# nested tuple slicing\u001b[0m\u001b[0;34m\u001b[0m\u001b[0;34m\u001b[0m\u001b[0;34m\u001b[0m\u001b[0m\n",
      "\u001b[0;32m~/virtualenv/venv/lib/python3.8/site-packages/pandas/core/indexing.py\u001b[0m in \u001b[0;36m_getitem_iterable\u001b[0;34m(self, key, axis)\u001b[0m\n\u001b[1;32m   1035\u001b[0m \u001b[0;34m\u001b[0m\u001b[0m\n\u001b[1;32m   1036\u001b[0m         \u001b[0;31m# A collection of keys\u001b[0m\u001b[0;34m\u001b[0m\u001b[0;34m\u001b[0m\u001b[0;34m\u001b[0m\u001b[0m\n\u001b[0;32m-> 1037\u001b[0;31m         \u001b[0mkeyarr\u001b[0m\u001b[0;34m,\u001b[0m \u001b[0mindexer\u001b[0m \u001b[0;34m=\u001b[0m \u001b[0mself\u001b[0m\u001b[0;34m.\u001b[0m\u001b[0m_get_listlike_indexer\u001b[0m\u001b[0;34m(\u001b[0m\u001b[0mkey\u001b[0m\u001b[0;34m,\u001b[0m \u001b[0maxis\u001b[0m\u001b[0;34m,\u001b[0m \u001b[0mraise_missing\u001b[0m\u001b[0;34m=\u001b[0m\u001b[0;32mFalse\u001b[0m\u001b[0;34m)\u001b[0m\u001b[0;34m\u001b[0m\u001b[0;34m\u001b[0m\u001b[0m\n\u001b[0m\u001b[1;32m   1038\u001b[0m         return self.obj._reindex_with_indexers(\n\u001b[1;32m   1039\u001b[0m             \u001b[0;34m{\u001b[0m\u001b[0maxis\u001b[0m\u001b[0;34m:\u001b[0m \u001b[0;34m[\u001b[0m\u001b[0mkeyarr\u001b[0m\u001b[0;34m,\u001b[0m \u001b[0mindexer\u001b[0m\u001b[0;34m]\u001b[0m\u001b[0;34m}\u001b[0m\u001b[0;34m,\u001b[0m \u001b[0mcopy\u001b[0m\u001b[0;34m=\u001b[0m\u001b[0;32mTrue\u001b[0m\u001b[0;34m,\u001b[0m \u001b[0mallow_dups\u001b[0m\u001b[0;34m=\u001b[0m\u001b[0;32mTrue\u001b[0m\u001b[0;34m\u001b[0m\u001b[0;34m\u001b[0m\u001b[0m\n",
      "\u001b[0;32m~/virtualenv/venv/lib/python3.8/site-packages/pandas/core/indexing.py\u001b[0m in \u001b[0;36m_get_listlike_indexer\u001b[0;34m(self, key, axis, raise_missing)\u001b[0m\n\u001b[1;32m   1252\u001b[0m             \u001b[0mkeyarr\u001b[0m\u001b[0;34m,\u001b[0m \u001b[0mindexer\u001b[0m\u001b[0;34m,\u001b[0m \u001b[0mnew_indexer\u001b[0m \u001b[0;34m=\u001b[0m \u001b[0max\u001b[0m\u001b[0;34m.\u001b[0m\u001b[0m_reindex_non_unique\u001b[0m\u001b[0;34m(\u001b[0m\u001b[0mkeyarr\u001b[0m\u001b[0;34m)\u001b[0m\u001b[0;34m\u001b[0m\u001b[0;34m\u001b[0m\u001b[0m\n\u001b[1;32m   1253\u001b[0m \u001b[0;34m\u001b[0m\u001b[0m\n\u001b[0;32m-> 1254\u001b[0;31m         \u001b[0mself\u001b[0m\u001b[0;34m.\u001b[0m\u001b[0m_validate_read_indexer\u001b[0m\u001b[0;34m(\u001b[0m\u001b[0mkeyarr\u001b[0m\u001b[0;34m,\u001b[0m \u001b[0mindexer\u001b[0m\u001b[0;34m,\u001b[0m \u001b[0maxis\u001b[0m\u001b[0;34m,\u001b[0m \u001b[0mraise_missing\u001b[0m\u001b[0;34m=\u001b[0m\u001b[0mraise_missing\u001b[0m\u001b[0;34m)\u001b[0m\u001b[0;34m\u001b[0m\u001b[0;34m\u001b[0m\u001b[0m\n\u001b[0m\u001b[1;32m   1255\u001b[0m         \u001b[0;32mreturn\u001b[0m \u001b[0mkeyarr\u001b[0m\u001b[0;34m,\u001b[0m \u001b[0mindexer\u001b[0m\u001b[0;34m\u001b[0m\u001b[0;34m\u001b[0m\u001b[0m\n\u001b[1;32m   1256\u001b[0m \u001b[0;34m\u001b[0m\u001b[0m\n",
      "\u001b[0;32m~/virtualenv/venv/lib/python3.8/site-packages/pandas/core/indexing.py\u001b[0m in \u001b[0;36m_validate_read_indexer\u001b[0;34m(self, key, indexer, axis, raise_missing)\u001b[0m\n\u001b[1;32m   1313\u001b[0m \u001b[0;34m\u001b[0m\u001b[0m\n\u001b[1;32m   1314\u001b[0m                 \u001b[0;32mwith\u001b[0m \u001b[0moption_context\u001b[0m\u001b[0;34m(\u001b[0m\u001b[0;34m\"display.max_seq_items\"\u001b[0m\u001b[0;34m,\u001b[0m \u001b[0;36m10\u001b[0m\u001b[0;34m,\u001b[0m \u001b[0;34m\"display.width\"\u001b[0m\u001b[0;34m,\u001b[0m \u001b[0;36m80\u001b[0m\u001b[0;34m)\u001b[0m\u001b[0;34m:\u001b[0m\u001b[0;34m\u001b[0m\u001b[0;34m\u001b[0m\u001b[0m\n\u001b[0;32m-> 1315\u001b[0;31m                     raise KeyError(\n\u001b[0m\u001b[1;32m   1316\u001b[0m                         \u001b[0;34m\"Passing list-likes to .loc or [] with any missing labels \"\u001b[0m\u001b[0;34m\u001b[0m\u001b[0;34m\u001b[0m\u001b[0m\n\u001b[1;32m   1317\u001b[0m                         \u001b[0;34m\"is no longer supported. \"\u001b[0m\u001b[0;34m\u001b[0m\u001b[0;34m\u001b[0m\u001b[0m\n",
      "\u001b[0;31mKeyError\u001b[0m: \"Passing list-likes to .loc or [] with any missing labels is no longer supported. The following labels were missing: Index(['location', 'description'], dtype='object'). See https://pandas.pydata.org/pandas-docs/stable/user_guide/indexing.html#deprecate-loc-reindex-listlike\""
     ]
    }
   ],
   "source": [
    "df1=df.loc[:,[\"id\",\"url\",\"time_zone\",\"location\",\"geo_enabled\",\"description\",\"class\"]]\n",
    "df2=df1.groupby(\"class\").count()\n",
    "df2"
   ]
  }
 ],
 "metadata": {
  "kernelspec": {
   "display_name": "Python 3",
   "language": "python",
   "name": "python3"
  },
  "language_info": {
   "codemirror_mode": {
    "name": "ipython",
    "version": 3
   },
   "file_extension": ".py",
   "mimetype": "text/x-python",
   "name": "python",
   "nbconvert_exporter": "python",
   "pygments_lexer": "ipython3",
   "version": "3.8.5"
  }
 },
 "nbformat": 4,
 "nbformat_minor": 4
}
