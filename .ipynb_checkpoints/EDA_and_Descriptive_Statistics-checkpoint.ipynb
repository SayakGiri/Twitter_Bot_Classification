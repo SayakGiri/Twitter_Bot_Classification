{
 "cells": [
  {
   "cell_type": "code",
   "execution_count": 6,
   "metadata": {},
   "outputs": [],
   "source": [
    "import pandas as pd\n",
    "import numpy as np\n",
    "import sklearn\n",
    "import matplotlib.pyplot as plt\n",
    "import gc\n",
    "import seaborn as sns\n",
    "from mpl_toolkits.mplot3d import Axes3D\n",
    "import plotly.express as px\n",
    "import pylab as py \n",
    "import statsmodels.api as sm\n",
    "\n",
    "from scipy.stats import chi2_contingency\n",
    "from scipy.stats import norm"
   ]
  },
  {
   "cell_type": "code",
   "execution_count": 4,
   "metadata": {},
   "outputs": [],
   "source": [
    "from sklearn.preprocessing import OneHotEncoder"
   ]
  },
  {
   "cell_type": "code",
   "execution_count": 7,
   "metadata": {},
   "outputs": [],
   "source": [
    "#df=pd.read_csv(\"D:/Sitanshu/Python/Twitter_Bot_Classification/finaldata.csv\")\n",
    "df=pd.read_csv(\"~/virtualenv/Twitter_Project/Twitter_Bot_Classification/finaldata.csv\")\n",
    "#df_1=pd.read_csv(\"D:/Sitanshu/Python/Twitter_Bot_Classification/model_data.csv\")\n",
    "df_1=pd.read_csv(\"~/virtualenv/Twitter_Project/Twitter_Bot_Classification/model_data.csv\")\n",
    "df_1 = df_1.drop('Unnamed: 0', axis =1)\n",
    "df = df.drop(['Unnamed: 0', 'crawled_at', 'contributors_enabled','testset', 'random', 'default_profile_image', 'notifications', 'following', 'follow_request_sent', 'is_translator'], axis = 1)"
   ]
  },
  {
   "cell_type": "code",
   "execution_count": 8,
   "metadata": {
    "scrolled": true
   },
   "outputs": [
    {
     "name": "stdout",
     "output_type": "stream",
     "text": [
      "<class 'pandas.core.frame.DataFrame'>\n",
      "RangeIndex: 11017 entries, 0 to 11016\n",
      "Data columns (total 34 columns):\n",
      " #   Column                              Non-Null Count  Dtype  \n",
      "---  ------                              --------------  -----  \n",
      " 0   id                                  11017 non-null  int64  \n",
      " 1   name                                11016 non-null  object \n",
      " 2   screen_name                         11017 non-null  object \n",
      " 3   statuses_count                      11017 non-null  int64  \n",
      " 4   followers_count                     11017 non-null  int64  \n",
      " 5   friends_count                       11017 non-null  int64  \n",
      " 6   favourites_count                    11017 non-null  int64  \n",
      " 7   listed_count                        11017 non-null  int64  \n",
      " 8   url                                 3508 non-null   object \n",
      " 9   lang                                10017 non-null  object \n",
      " 10  time_zone                           5015 non-null   object \n",
      " 11  location                            4908 non-null   object \n",
      " 12  default_profile                     1477 non-null   float64\n",
      " 13  geo_enabled                         3294 non-null   float64\n",
      " 14  profile_image_url                   11017 non-null  object \n",
      " 15  profile_banner_url                  4819 non-null   object \n",
      " 16  profile_use_background_image        9503 non-null   float64\n",
      " 17  profile_background_image_url_https  10017 non-null  object \n",
      " 18  profile_text_color                  10017 non-null  object \n",
      " 19  profile_image_url_https             10017 non-null  object \n",
      " 20  profile_sidebar_border_color        10017 non-null  object \n",
      " 21  profile_background_tile             5331 non-null   float64\n",
      " 22  profile_sidebar_fill_color          10017 non-null  object \n",
      " 23  profile_background_image_url        11017 non-null  object \n",
      " 24  profile_background_color            10017 non-null  object \n",
      " 25  profile_link_color                  10017 non-null  object \n",
      " 26  utc_offset                          5015 non-null   float64\n",
      " 27  protected                           78 non-null     float64\n",
      " 28  verified                            11 non-null     float64\n",
      " 29  description                         6346 non-null   object \n",
      " 30  created_at                          11017 non-null  object \n",
      " 31  timestamp                           11017 non-null  object \n",
      " 32  updated                             11017 non-null  object \n",
      " 33  Category                            11017 non-null  object \n",
      "dtypes: float64(7), int64(6), object(21)\n",
      "memory usage: 2.9+ MB\n"
     ]
    }
   ],
   "source": [
    "df.info()"
   ]
  },
  {
   "cell_type": "code",
   "execution_count": null,
   "metadata": {},
   "outputs": [],
   "source": [
    "#if not using df_1 then uncomment\n",
    "\n",
    "# manipulating target variable by putting 0 and 1 values\n",
    "#df_model.loc[df[\"Category\"] == 'genuine', \"class\"] = \"0\"\n",
    "#df_model.loc[df[\"Category\"] != 'genuine', \"class\"] = \"1\""
   ]
  },
  {
   "cell_type": "code",
   "execution_count": 9,
   "metadata": {},
   "outputs": [],
   "source": [
    "df_model = df[['statuses_count', 'followers_count', 'friends_count', 'favourites_count', 'listed_count', 'timestamp']]"
   ]
  },
  {
   "cell_type": "markdown",
   "metadata": {},
   "source": [
    "##### Ignore warning should be implemented or not?"
   ]
  },
  {
   "cell_type": "code",
   "execution_count": 10,
   "metadata": {},
   "outputs": [
    {
     "name": "stderr",
     "output_type": "stream",
     "text": [
      "<ipython-input-10-8c354fdfc8fa>:1: SettingWithCopyWarning: \n",
      "A value is trying to be set on a copy of a slice from a DataFrame.\n",
      "Try using .loc[row_indexer,col_indexer] = value instead\n",
      "\n",
      "See the caveats in the documentation: https://pandas.pydata.org/pandas-docs/stable/user_guide/indexing.html#returning-a-view-versus-a-copy\n",
      "  df_model['description_present'] = df_1['description_presence']\n",
      "<ipython-input-10-8c354fdfc8fa>:2: SettingWithCopyWarning: \n",
      "A value is trying to be set on a copy of a slice from a DataFrame.\n",
      "Try using .loc[row_indexer,col_indexer] = value instead\n",
      "\n",
      "See the caveats in the documentation: https://pandas.pydata.org/pandas-docs/stable/user_guide/indexing.html#returning-a-view-versus-a-copy\n",
      "  df_model['age'] = df_1['age']\n"
     ]
    }
   ],
   "source": [
    "df_model['description_present'] = df_1['description_presence']\n",
    "df_model['age'] = df_1['age']"
   ]
  },
  {
   "cell_type": "code",
   "execution_count": null,
   "metadata": {},
   "outputs": [],
   "source": [
    "#dropping column with description as we are not working on language and text recognition for the model.\n",
    "#df = df.drop(['description'], axis = 1)"
   ]
  },
  {
   "cell_type": "code",
   "execution_count": 11,
   "metadata": {},
   "outputs": [],
   "source": [
    "df['geo_enabled'] = df['geo_enabled'].fillna(0)"
   ]
  },
  {
   "cell_type": "code",
   "execution_count": 12,
   "metadata": {},
   "outputs": [
    {
     "data": {
      "text/plain": [
       "0.0    7723\n",
       "1.0    3294\n",
       "Name: geo_enabled, dtype: int64"
      ]
     },
     "execution_count": 12,
     "metadata": {},
     "output_type": "execute_result"
    }
   ],
   "source": [
    "df['geo_enabled'].value_counts()"
   ]
  },
  {
   "cell_type": "code",
   "execution_count": 13,
   "metadata": {},
   "outputs": [
    {
     "data": {
      "image/png": "[encoded data removed]",
      "text/plain": [
       "<Figure size 432x288 with 1 Axes>"
      ]
     },
     "metadata": {
      "needs_background": "light"
     },
     "output_type": "display_data"
    }
   ],
   "source": [
    "fig_1 = sns.countplot(x = 'geo_enabled', data = df, hue = \"Category\")"
   ]
  },
  {
   "cell_type": "code",
   "execution_count": 14,
   "metadata": {},
   "outputs": [
    {
     "name": "stderr",
     "output_type": "stream",
     "text": [
      "<ipython-input-14-b0e292c13f1d>:1: SettingWithCopyWarning: \n",
      "A value is trying to be set on a copy of a slice from a DataFrame.\n",
      "Try using .loc[row_indexer,col_indexer] = value instead\n",
      "\n",
      "See the caveats in the documentation: https://pandas.pydata.org/pandas-docs/stable/user_guide/indexing.html#returning-a-view-versus-a-copy\n",
      "  df_model['geo_enabled'] = df['geo_enabled']\n"
     ]
    }
   ],
   "source": [
    "df_model['geo_enabled'] = df['geo_enabled']"
   ]
  },
  {
   "cell_type": "code",
   "execution_count": 15,
   "metadata": {},
   "outputs": [
    {
     "data": {
      "text/plain": [
       "1.0    1477\n",
       "Name: default_profile, dtype: int64"
      ]
     },
     "execution_count": 15,
     "metadata": {},
     "output_type": "execute_result"
    }
   ],
   "source": [
    "df['default_profile'].value_counts()"
   ]
  },
  {
   "cell_type": "code",
   "execution_count": 16,
   "metadata": {},
   "outputs": [],
   "source": [
    "df['default_profile'] = df['default_profile'].fillna(0)"
   ]
  },
  {
   "cell_type": "code",
   "execution_count": 17,
   "metadata": {},
   "outputs": [
    {
     "data": {
      "image/png": "[encoded data removed]",
      "text/plain": [
       "<Figure size 432x288 with 1 Axes>"
      ]
     },
     "metadata": {
      "needs_background": "light"
     },
     "output_type": "display_data"
    }
   ],
   "source": [
    "fig_1 = sns.countplot(x = 'default_profile', data = df, hue = \"Category\")"
   ]
  },
  {
   "cell_type": "code",
   "execution_count": 18,
   "metadata": {},
   "outputs": [
    {
     "name": "stderr",
     "output_type": "stream",
     "text": [
      "<ipython-input-18-4ecd5d99100a>:1: SettingWithCopyWarning: \n",
      "A value is trying to be set on a copy of a slice from a DataFrame.\n",
      "Try using .loc[row_indexer,col_indexer] = value instead\n",
      "\n",
      "See the caveats in the documentation: https://pandas.pydata.org/pandas-docs/stable/user_guide/indexing.html#returning-a-view-versus-a-copy\n",
      "  df_model['default_profile'] = df['default_profile']\n"
     ]
    }
   ],
   "source": [
    "df_model['default_profile'] = df['default_profile']"
   ]
  },
  {
   "cell_type": "code",
   "execution_count": 19,
   "metadata": {},
   "outputs": [
    {
     "data": {
      "text/plain": [
       "(11017, 10)"
      ]
     },
     "execution_count": 19,
     "metadata": {},
     "output_type": "execute_result"
    }
   ],
   "source": [
    "df_model.shape"
   ]
  },
  {
   "cell_type": "code",
   "execution_count": 20,
   "metadata": {},
   "outputs": [
    {
     "data": {
      "text/plain": [
       "0.0    7723\n",
       "1.0    3294\n",
       "Name: geo_enabled, dtype: int64"
      ]
     },
     "execution_count": 20,
     "metadata": {},
     "output_type": "execute_result"
    }
   ],
   "source": [
    "df['geo_enabled'].value_counts()"
   ]
  },
  {
   "cell_type": "code",
   "execution_count": 21,
   "metadata": {},
   "outputs": [
    {
     "data": {
      "image/png": "[encoded data removed]",
      "text/plain": [
       "<Figure size 432x288 with 1 Axes>"
      ]
     },
     "metadata": {
      "needs_background": "light"
     },
     "output_type": "display_data"
    }
   ],
   "source": [
    "fig_1 = sns.countplot(x = 'geo_enabled', data = df, hue = \"Category\")"
   ]
  },
  {
   "cell_type": "code",
   "execution_count": 22,
   "metadata": {
    "scrolled": true
   },
   "outputs": [
    {
     "name": "stderr",
     "output_type": "stream",
     "text": [
      "<ipython-input-22-b0e292c13f1d>:1: SettingWithCopyWarning: \n",
      "A value is trying to be set on a copy of a slice from a DataFrame.\n",
      "Try using .loc[row_indexer,col_indexer] = value instead\n",
      "\n",
      "See the caveats in the documentation: https://pandas.pydata.org/pandas-docs/stable/user_guide/indexing.html#returning-a-view-versus-a-copy\n",
      "  df_model['geo_enabled'] = df['geo_enabled']\n"
     ]
    }
   ],
   "source": [
    "df_model['geo_enabled'] = df['geo_enabled']"
   ]
  },
  {
   "cell_type": "code",
   "execution_count": 23,
   "metadata": {},
   "outputs": [
    {
     "data": {
      "text/plain": [
       "0.0    7723\n",
       "1.0    3294\n",
       "Name: geo_enabled, dtype: int64"
      ]
     },
     "execution_count": 23,
     "metadata": {},
     "output_type": "execute_result"
    }
   ],
   "source": [
    "df_model['geo_enabled'].value_counts()"
   ]
  },
  {
   "cell_type": "code",
   "execution_count": 24,
   "metadata": {},
   "outputs": [
    {
     "data": {
      "text/html": [
       "<div>\n",
       "<style scoped>\n",
       "    .dataframe tbody tr th:only-of-type {\n",
       "        vertical-align: middle;\n",
       "    }\n",
       "\n",
       "    .dataframe tbody tr th {\n",
       "        vertical-align: top;\n",
       "    }\n",
       "\n",
       "    .dataframe thead th {\n",
       "        text-align: right;\n",
       "    }\n",
       "</style>\n",
       "<table border=\"1\" class=\"dataframe\">\n",
       "  <thead>\n",
       "    <tr style=\"text-align: right;\">\n",
       "      <th></th>\n",
       "      <th>statuses_count</th>\n",
       "      <th>followers_count</th>\n",
       "      <th>friends_count</th>\n",
       "      <th>favourites_count</th>\n",
       "      <th>listed_count</th>\n",
       "      <th>timestamp</th>\n",
       "      <th>description_present</th>\n",
       "      <th>age</th>\n",
       "      <th>geo_enabled</th>\n",
       "      <th>default_profile</th>\n",
       "    </tr>\n",
       "  </thead>\n",
       "  <tbody>\n",
       "    <tr>\n",
       "      <th>0</th>\n",
       "      <td>1259</td>\n",
       "      <td>837</td>\n",
       "      <td>1978</td>\n",
       "      <td>3200</td>\n",
       "      <td>9</td>\n",
       "      <td>2007-07-04 14:30:03</td>\n",
       "      <td>1</td>\n",
       "      <td>14</td>\n",
       "      <td>0.0</td>\n",
       "      <td>0.0</td>\n",
       "    </tr>\n",
       "    <tr>\n",
       "      <th>1</th>\n",
       "      <td>770</td>\n",
       "      <td>3274</td>\n",
       "      <td>3595</td>\n",
       "      <td>8</td>\n",
       "      <td>22</td>\n",
       "      <td>2007-07-26 11:07:31</td>\n",
       "      <td>1</td>\n",
       "      <td>14</td>\n",
       "      <td>0.0</td>\n",
       "      <td>0.0</td>\n",
       "    </tr>\n",
       "    <tr>\n",
       "      <th>2</th>\n",
       "      <td>1100</td>\n",
       "      <td>38849</td>\n",
       "      <td>34504</td>\n",
       "      <td>41</td>\n",
       "      <td>1014</td>\n",
       "      <td>2007-10-18 18:36:00</td>\n",
       "      <td>1</td>\n",
       "      <td>14</td>\n",
       "      <td>0.0</td>\n",
       "      <td>0.0</td>\n",
       "    </tr>\n",
       "    <tr>\n",
       "      <th>3</th>\n",
       "      <td>6497</td>\n",
       "      <td>5902</td>\n",
       "      <td>5496</td>\n",
       "      <td>0</td>\n",
       "      <td>82</td>\n",
       "      <td>2007-12-02 17:53:26</td>\n",
       "      <td>1</td>\n",
       "      <td>14</td>\n",
       "      <td>0.0</td>\n",
       "      <td>0.0</td>\n",
       "    </tr>\n",
       "    <tr>\n",
       "      <th>4</th>\n",
       "      <td>3203</td>\n",
       "      <td>2570</td>\n",
       "      <td>2638</td>\n",
       "      <td>0</td>\n",
       "      <td>5</td>\n",
       "      <td>2008-04-30 08:22:14</td>\n",
       "      <td>1</td>\n",
       "      <td>13</td>\n",
       "      <td>0.0</td>\n",
       "      <td>0.0</td>\n",
       "    </tr>\n",
       "  </tbody>\n",
       "</table>\n",
       "</div>"
      ],
      "text/plain": [
       "   statuses_count  followers_count  friends_count  favourites_count  \\\n",
       "0            1259              837           1978              3200   \n",
       "1             770             3274           3595                 8   \n",
       "2            1100            38849          34504                41   \n",
       "3            6497             5902           5496                 0   \n",
       "4            3203             2570           2638                 0   \n",
       "\n",
       "   listed_count            timestamp  description_present  age  geo_enabled  \\\n",
       "0             9  2007-07-04 14:30:03                    1   14          0.0   \n",
       "1            22  2007-07-26 11:07:31                    1   14          0.0   \n",
       "2          1014  2007-10-18 18:36:00                    1   14          0.0   \n",
       "3            82  2007-12-02 17:53:26                    1   14          0.0   \n",
       "4             5  2008-04-30 08:22:14                    1   13          0.0   \n",
       "\n",
       "   default_profile  \n",
       "0              0.0  \n",
       "1              0.0  \n",
       "2              0.0  \n",
       "3              0.0  \n",
       "4              0.0  "
      ]
     },
     "execution_count": 24,
     "metadata": {},
     "output_type": "execute_result"
    }
   ],
   "source": [
    "df_model.head()"
   ]
  },
  {
   "cell_type": "code",
   "execution_count": 25,
   "metadata": {},
   "outputs": [
    {
     "name": "stderr",
     "output_type": "stream",
     "text": [
      "<ipython-input-25-5e4256e9cade>:1: SettingWithCopyWarning: \n",
      "A value is trying to be set on a copy of a slice from a DataFrame.\n",
      "Try using .loc[row_indexer,col_indexer] = value instead\n",
      "\n",
      "See the caveats in the documentation: https://pandas.pydata.org/pandas-docs/stable/user_guide/indexing.html#returning-a-view-versus-a-copy\n",
      "  df_model['id'] = df['id']\n"
     ]
    }
   ],
   "source": [
    "df_model['id'] = df['id'] "
   ]
  },
  {
   "cell_type": "code",
   "execution_count": 26,
   "metadata": {},
   "outputs": [
    {
     "name": "stdout",
     "output_type": "stream",
     "text": [
      "<class 'pandas.core.frame.DataFrame'>\n",
      "RangeIndex: 11017 entries, 0 to 11016\n",
      "Data columns (total 23 columns):\n",
      " #   Column                    Non-Null Count  Dtype  \n",
      "---  ------                    --------------  -----  \n",
      " 0   id                        11017 non-null  int64  \n",
      " 1   name                      11016 non-null  object \n",
      " 2   screen_name               11017 non-null  object \n",
      " 3   statuses_count            11017 non-null  int64  \n",
      " 4   followers_count           11017 non-null  int64  \n",
      " 5   friends_count             11017 non-null  int64  \n",
      " 6   favourites_count          11017 non-null  int64  \n",
      " 7   listed_count              11017 non-null  int64  \n",
      " 8   protected                 11017 non-null  int64  \n",
      " 9   verified                  11017 non-null  int64  \n",
      " 10  language = en             11017 non-null  int64  \n",
      " 11  less than 50 tweets       11017 non-null  int64  \n",
      " 12  contains_url              11017 non-null  int64  \n",
      " 13  friends follower ratio    11017 non-null  float64\n",
      " 14  absence_of_profile_image  11017 non-null  int64  \n",
      " 15  follower < 30             11017 non-null  int64  \n",
      " 16  geo_location              11017 non-null  int64  \n",
      " 17  age                       11017 non-null  int64  \n",
      " 18  listsperuser              11017 non-null  int64  \n",
      " 19  user_fav                  11017 non-null  int64  \n",
      " 20  default_profileimg        11017 non-null  int64  \n",
      " 21  description_presence      11017 non-null  int64  \n",
      " 22  class                     11017 non-null  int64  \n",
      "dtypes: float64(1), int64(20), object(2)\n",
      "memory usage: 1.9+ MB\n"
     ]
    }
   ],
   "source": [
    "df_1.info()"
   ]
  },
  {
   "cell_type": "code",
   "execution_count": 21,
   "metadata": {},
   "outputs": [
    {
     "name": "stderr",
     "output_type": "stream",
     "text": [
      "<ipython-input-21-f3ded082cc20>:1: SettingWithCopyWarning: \n",
      "A value is trying to be set on a copy of a slice from a DataFrame.\n",
      "Try using .loc[row_indexer,col_indexer] = value instead\n",
      "\n",
      "See the caveats in the documentation: https://pandas.pydata.org/pandas-docs/stable/user_guide/indexing.html#returning-a-view-versus-a-copy\n",
      "  df_model['id'] = df['id']\n",
      "<ipython-input-21-f3ded082cc20>:2: SettingWithCopyWarning: \n",
      "A value is trying to be set on a copy of a slice from a DataFrame.\n",
      "Try using .loc[row_indexer,col_indexer] = value instead\n",
      "\n",
      "See the caveats in the documentation: https://pandas.pydata.org/pandas-docs/stable/user_guide/indexing.html#returning-a-view-versus-a-copy\n",
      "  df_model['description_present'] = df_1['description_presence']\n",
      "<ipython-input-21-f3ded082cc20>:3: SettingWithCopyWarning: \n",
      "A value is trying to be set on a copy of a slice from a DataFrame.\n",
      "Try using .loc[row_indexer,col_indexer] = value instead\n",
      "\n",
      "See the caveats in the documentation: https://pandas.pydata.org/pandas-docs/stable/user_guide/indexing.html#returning-a-view-versus-a-copy\n",
      "  df_model['class'] = df_1['class']\n",
      "<ipython-input-21-f3ded082cc20>:4: SettingWithCopyWarning: \n",
      "A value is trying to be set on a copy of a slice from a DataFrame.\n",
      "Try using .loc[row_indexer,col_indexer] = value instead\n",
      "\n",
      "See the caveats in the documentation: https://pandas.pydata.org/pandas-docs/stable/user_guide/indexing.html#returning-a-view-versus-a-copy\n",
      "  df_model['verified'] = df_1['verified']\n",
      "<ipython-input-21-f3ded082cc20>:5: SettingWithCopyWarning: \n",
      "A value is trying to be set on a copy of a slice from a DataFrame.\n",
      "Try using .loc[row_indexer,col_indexer] = value instead\n",
      "\n",
      "See the caveats in the documentation: https://pandas.pydata.org/pandas-docs/stable/user_guide/indexing.html#returning-a-view-versus-a-copy\n",
      "  df_model['protected'] = df_1['protected']\n"
     ]
    }
   ],
   "source": [
    "df_model['id'] = df['id']\n",
    "df_model['description_present'] = df_1['description_presence']\n",
    "df_model['class'] = df_1['class']\n",
    "df_model['verified'] = df_1['verified']\n",
    "df_model['protected'] = df_1['protected']\n"
   ]
  },
  {
   "cell_type": "code",
   "execution_count": 27,
   "metadata": {},
   "outputs": [
    {
     "name": "stdout",
     "output_type": "stream",
     "text": [
      "<class 'pandas.core.frame.DataFrame'>\n",
      "RangeIndex: 11017 entries, 0 to 11016\n",
      "Data columns (total 11 columns):\n",
      " #   Column               Non-Null Count  Dtype  \n",
      "---  ------               --------------  -----  \n",
      " 0   statuses_count       11017 non-null  int64  \n",
      " 1   followers_count      11017 non-null  int64  \n",
      " 2   friends_count        11017 non-null  int64  \n",
      " 3   favourites_count     11017 non-null  int64  \n",
      " 4   listed_count         11017 non-null  int64  \n",
      " 5   timestamp            11017 non-null  object \n",
      " 6   description_present  11017 non-null  int64  \n",
      " 7   age                  11017 non-null  int64  \n",
      " 8   geo_enabled          11017 non-null  float64\n",
      " 9   default_profile      11017 non-null  float64\n",
      " 10  id                   11017 non-null  int64  \n",
      "dtypes: float64(2), int64(8), object(1)\n",
      "memory usage: 946.9+ KB\n"
     ]
    }
   ],
   "source": [
    "df_model.info()"
   ]
  },
  {
   "cell_type": "code",
   "execution_count": 28,
   "metadata": {},
   "outputs": [
    {
     "name": "stderr",
     "output_type": "stream",
     "text": [
      "/home/lenovo/virtualenv/venv/lib/python3.8/site-packages/pandas/core/frame.py:4163: SettingWithCopyWarning: \n",
      "A value is trying to be set on a copy of a slice from a DataFrame\n",
      "\n",
      "See the caveats in the documentation: https://pandas.pydata.org/pandas-docs/stable/user_guide/indexing.html#returning-a-view-versus-a-copy\n",
      "  return super().drop(\n"
     ]
    }
   ],
   "source": [
    "df_model.drop('timestamp', axis = 1, inplace = True)"
   ]
  },
  {
   "cell_type": "code",
   "execution_count": 29,
   "metadata": {},
   "outputs": [],
   "source": [
    "df['url'] = df['url'].fillna(0)"
   ]
  },
  {
   "cell_type": "code",
   "execution_count": 30,
   "metadata": {},
   "outputs": [],
   "source": [
    "# manipulating target variable by putting 0 and 1 values\n",
    "df.loc[df[\"url\"] == 0, \"url_present\"] = \"0\"\n",
    "df.loc[df[\"url\"] != 0, \"url_present\"] = \"1\""
   ]
  },
  {
   "cell_type": "code",
   "execution_count": 31,
   "metadata": {},
   "outputs": [
    {
     "data": {
      "text/plain": [
       "0    7509\n",
       "1    3508\n",
       "Name: url_present, dtype: int64"
      ]
     },
     "execution_count": 31,
     "metadata": {},
     "output_type": "execute_result"
    }
   ],
   "source": [
    "df['url_present'].value_counts()"
   ]
  },
  {
   "cell_type": "code",
   "execution_count": 32,
   "metadata": {},
   "outputs": [
    {
     "name": "stderr",
     "output_type": "stream",
     "text": [
      "<ipython-input-32-606b9c537474>:1: SettingWithCopyWarning: \n",
      "A value is trying to be set on a copy of a slice from a DataFrame.\n",
      "Try using .loc[row_indexer,col_indexer] = value instead\n",
      "\n",
      "See the caveats in the documentation: https://pandas.pydata.org/pandas-docs/stable/user_guide/indexing.html#returning-a-view-versus-a-copy\n",
      "  df_model['url_present'] = df['url_present']\n"
     ]
    }
   ],
   "source": [
    "df_model['url_present'] = df['url_present']"
   ]
  },
  {
   "cell_type": "code",
   "execution_count": 33,
   "metadata": {},
   "outputs": [
    {
     "data": {
      "image/png": "[encoded data removed]",
      "text/plain": [
       "<Figure size 432x288 with 1 Axes>"
      ]
     },
     "metadata": {
      "needs_background": "light"
     },
     "output_type": "display_data"
    }
   ],
   "source": [
    "fig_1 = sns.countplot(x = 'geo_enabled', data = df, hue = \"Category\")"
   ]
  },
  {
   "cell_type": "code",
   "execution_count": 35,
   "metadata": {},
   "outputs": [
    {
     "name": "stderr",
     "output_type": "stream",
     "text": [
      "<ipython-input-35-bf0a53c45170>:1: SettingWithCopyWarning: \n",
      "A value is trying to be set on a copy of a slice from a DataFrame.\n",
      "Try using .loc[row_indexer,col_indexer] = value instead\n",
      "\n",
      "See the caveats in the documentation: https://pandas.pydata.org/pandas-docs/stable/user_guide/indexing.html#returning-a-view-versus-a-copy\n",
      "  df_model['class'] = df_1['class']\n"
     ]
    }
   ],
   "source": [
    "df_model['class'] = df_1['class']"
   ]
  },
  {
   "cell_type": "code",
   "execution_count": 36,
   "metadata": {},
   "outputs": [
    {
     "data": {
      "image/png": "[encoded data removed]",
      "text/plain": [
       "<Figure size 432x288 with 1 Axes>"
      ]
     },
     "metadata": {
      "needs_background": "light"
     },
     "output_type": "display_data"
    }
   ],
   "source": [
    "fig_1 = sns.countplot(x = 'geo_enabled', data = df_model, hue = \"class\")"
   ]
  },
  {
   "cell_type": "code",
   "execution_count": null,
   "metadata": {},
   "outputs": [],
   "source": [
    "#df_model['url_present'].astype('category')"
   ]
  },
  {
   "cell_type": "code",
   "execution_count": 37,
   "metadata": {},
   "outputs": [
    {
     "name": "stdout",
     "output_type": "stream",
     "text": [
      "<class 'pandas.core.frame.DataFrame'>\n",
      "RangeIndex: 11017 entries, 0 to 11016\n",
      "Data columns (total 35 columns):\n",
      " #   Column                              Non-Null Count  Dtype  \n",
      "---  ------                              --------------  -----  \n",
      " 0   id                                  11017 non-null  int64  \n",
      " 1   name                                11016 non-null  object \n",
      " 2   screen_name                         11017 non-null  object \n",
      " 3   statuses_count                      11017 non-null  int64  \n",
      " 4   followers_count                     11017 non-null  int64  \n",
      " 5   friends_count                       11017 non-null  int64  \n",
      " 6   favourites_count                    11017 non-null  int64  \n",
      " 7   listed_count                        11017 non-null  int64  \n",
      " 8   url                                 11017 non-null  object \n",
      " 9   lang                                10017 non-null  object \n",
      " 10  time_zone                           5015 non-null   object \n",
      " 11  location                            4908 non-null   object \n",
      " 12  default_profile                     11017 non-null  float64\n",
      " 13  geo_enabled                         11017 non-null  float64\n",
      " 14  profile_image_url                   11017 non-null  object \n",
      " 15  profile_banner_url                  4819 non-null   object \n",
      " 16  profile_use_background_image        9503 non-null   float64\n",
      " 17  profile_background_image_url_https  10017 non-null  object \n",
      " 18  profile_text_color                  10017 non-null  object \n",
      " 19  profile_image_url_https             10017 non-null  object \n",
      " 20  profile_sidebar_border_color        10017 non-null  object \n",
      " 21  profile_background_tile             5331 non-null   float64\n",
      " 22  profile_sidebar_fill_color          10017 non-null  object \n",
      " 23  profile_background_image_url        11017 non-null  object \n",
      " 24  profile_background_color            10017 non-null  object \n",
      " 25  profile_link_color                  10017 non-null  object \n",
      " 26  utc_offset                          5015 non-null   float64\n",
      " 27  protected                           78 non-null     float64\n",
      " 28  verified                            11 non-null     float64\n",
      " 29  description                         6346 non-null   object \n",
      " 30  created_at                          11017 non-null  object \n",
      " 31  timestamp                           11017 non-null  object \n",
      " 32  updated                             11017 non-null  object \n",
      " 33  Category                            11017 non-null  object \n",
      " 34  url_present                         11017 non-null  object \n",
      "dtypes: float64(7), int64(6), object(22)\n",
      "memory usage: 2.9+ MB\n"
     ]
    }
   ],
   "source": [
    "df.info()"
   ]
  },
  {
   "cell_type": "code",
   "execution_count": 38,
   "metadata": {},
   "outputs": [
    {
     "name": "stdout",
     "output_type": "stream",
     "text": [
      "<class 'pandas.core.frame.DataFrame'>\n",
      "RangeIndex: 11017 entries, 0 to 11016\n",
      "Data columns (total 12 columns):\n",
      " #   Column               Non-Null Count  Dtype  \n",
      "---  ------               --------------  -----  \n",
      " 0   statuses_count       11017 non-null  int64  \n",
      " 1   followers_count      11017 non-null  int64  \n",
      " 2   friends_count        11017 non-null  int64  \n",
      " 3   favourites_count     11017 non-null  int64  \n",
      " 4   listed_count         11017 non-null  int64  \n",
      " 5   description_present  11017 non-null  int64  \n",
      " 6   age                  11017 non-null  int64  \n",
      " 7   geo_enabled          11017 non-null  float64\n",
      " 8   default_profile      11017 non-null  float64\n",
      " 9   id                   11017 non-null  int64  \n",
      " 10  url_present          11017 non-null  object \n",
      " 11  class                11017 non-null  int64  \n",
      "dtypes: float64(2), int64(9), object(1)\n",
      "memory usage: 1.0+ MB\n"
     ]
    }
   ],
   "source": [
    "df_model.info()"
   ]
  },
  {
   "cell_type": "code",
   "execution_count": 39,
   "metadata": {},
   "outputs": [],
   "source": [
    "df['profile_use_background_image'] = df['profile_use_background_image'].fillna(0)"
   ]
  },
  {
   "cell_type": "code",
   "execution_count": 40,
   "metadata": {},
   "outputs": [
    {
     "name": "stderr",
     "output_type": "stream",
     "text": [
      "<ipython-input-40-11e19398f81c>:1: SettingWithCopyWarning: \n",
      "A value is trying to be set on a copy of a slice from a DataFrame.\n",
      "Try using .loc[row_indexer,col_indexer] = value instead\n",
      "\n",
      "See the caveats in the documentation: https://pandas.pydata.org/pandas-docs/stable/user_guide/indexing.html#returning-a-view-versus-a-copy\n",
      "  df_model['profile_use_background_image'] = df['profile_use_background_image']\n"
     ]
    }
   ],
   "source": [
    "df_model['profile_use_background_image'] = df['profile_use_background_image']"
   ]
  },
  {
   "cell_type": "code",
   "execution_count": 38,
   "metadata": {},
   "outputs": [
    {
     "data": {
      "image/png": "[encoded data removed]",
      "text/plain": [
       "<Figure size 432x288 with 1 Axes>"
      ]
     },
     "metadata": {
      "needs_background": "light"
     },
     "output_type": "display_data"
    }
   ],
   "source": [
    "fig_1 = sns.countplot(x = 'profile_use_background_image', data = df, hue = 'Category')"
   ]
  },
  {
   "cell_type": "code",
   "execution_count": 41,
   "metadata": {},
   "outputs": [
    {
     "data": {
      "image/png": "[encoded data removed]",
      "text/plain": [
       "<Figure size 432x288 with 1 Axes>"
      ]
     },
     "metadata": {
      "needs_background": "light"
     },
     "output_type": "display_data"
    }
   ],
   "source": [
    "fig_1 = sns.countplot(x = 'profile_use_background_image', data = df_model, hue = 'class')"
   ]
  },
  {
   "cell_type": "code",
   "execution_count": 42,
   "metadata": {},
   "outputs": [
    {
     "name": "stdout",
     "output_type": "stream",
     "text": [
      "0000FF    3499\n",
      "C0DEED    1837\n",
      "253956    1125\n",
      "131516     496\n",
      "000000     427\n",
      "          ... \n",
      "181818       1\n",
      "1E87BB       1\n",
      "082330       1\n",
      "010A09       1\n",
      "C7C263       1\n",
      "Name: profile_background_color, Length: 532, dtype: int64\n"
     ]
    }
   ],
   "source": [
    "print(df['profile_background_color'].value_counts())"
   ]
  },
  {
   "cell_type": "code",
   "execution_count": 43,
   "metadata": {},
   "outputs": [],
   "source": [
    "# manipulating target variable by putting 0 and 1 values\n",
    "df.loc[df[\"profile_background_color\"] == '0000FF', \"background_color_class\"] = \"0000FF\"\n",
    "df.loc[df[\"profile_background_color\"] == 'C0DEED', \"background_color_class\"] = \"C0DEED\"\n",
    "df.loc[df[\"profile_background_color\"] == '131516', \"background_color_class\"] = \"131516\"\n",
    "df.loc[df[\"profile_background_color\"] == '000000', \"background_color_class\"] = \"000000\"\n",
    "#df.loc[np.logical_and(df[\"profile_background_color\"] != '131516', df[\"profile_background_color\"] != 'C0DEED',df[\"profile_background_color\"] != '0000FF') , \"background_color_class\"] = \"4\""
   ]
  },
  {
   "cell_type": "code",
   "execution_count": 44,
   "metadata": {},
   "outputs": [],
   "source": [
    "df['background_color_class'] = df['background_color_class'].fillna(\"others\")"
   ]
  },
  {
   "cell_type": "code",
   "execution_count": 45,
   "metadata": {},
   "outputs": [
    {
     "data": {
      "text/plain": [
       "others    4758\n",
       "0000FF    3499\n",
       "C0DEED    1837\n",
       "131516     496\n",
       "000000     427\n",
       "Name: background_color_class, dtype: int64"
      ]
     },
     "execution_count": 45,
     "metadata": {},
     "output_type": "execute_result"
    }
   ],
   "source": [
    "df['background_color_class'].value_counts()"
   ]
  },
  {
   "cell_type": "code",
   "execution_count": 46,
   "metadata": {},
   "outputs": [
    {
     "name": "stderr",
     "output_type": "stream",
     "text": [
      "<ipython-input-46-395a947897ff>:1: SettingWithCopyWarning: \n",
      "A value is trying to be set on a copy of a slice from a DataFrame.\n",
      "Try using .loc[row_indexer,col_indexer] = value instead\n",
      "\n",
      "See the caveats in the documentation: https://pandas.pydata.org/pandas-docs/stable/user_guide/indexing.html#returning-a-view-versus-a-copy\n",
      "  df_model['background_color_class']=df['background_color_class']\n"
     ]
    }
   ],
   "source": [
    "df_model['background_color_class']=df['background_color_class']"
   ]
  },
  {
   "cell_type": "code",
   "execution_count": 47,
   "metadata": {},
   "outputs": [
    {
     "data": {
      "image/png": "[encoded data removed]",
      "text/plain": [
       "<Figure size 432x288 with 1 Axes>"
      ]
     },
     "metadata": {
      "needs_background": "light"
     },
     "output_type": "display_data"
    }
   ],
   "source": [
    "fig_1 = sns.countplot(x = 'background_color_class', data = df_model, hue = 'class')"
   ]
  },
  {
   "cell_type": "code",
   "execution_count": 47,
   "metadata": {},
   "outputs": [
    {
     "name": "stdout",
     "output_type": "stream",
     "text": [
      "333333    6992\n",
      "0         1013\n",
      "000000     517\n",
      "666666     302\n",
      "3D1957     215\n",
      "          ... \n",
      "D421B8       1\n",
      "5CEDAC       1\n",
      "0C0CF0       1\n",
      "0A0909       1\n",
      "F508F5       1\n",
      "Name: profile_text_color, Length: 406, dtype: int64\n"
     ]
    }
   ],
   "source": [
    "print(df['profile_text_color'].value_counts())"
   ]
  },
  {
   "cell_type": "code",
   "execution_count": null,
   "metadata": {},
   "outputs": [],
   "source": [
    "### Need to change variable encoding for 0  and 000000, since 0 represents missing value and is category in itself"
   ]
  },
  {
   "cell_type": "code",
   "execution_count": 48,
   "metadata": {},
   "outputs": [],
   "source": [
    "# manipulating target variable by putting 0 and 1 values\n",
    "df.loc[df[\"profile_text_color\"] == '333333', \"text_color_class\"] = \"333333\"\n",
    "df.loc[np.logical_or(df[\"profile_text_color\"] == '0',df[\"profile_text_color\"] == '000000') , \"text_color_class\"] = \"000000\"\n",
    "df.loc[df[\"profile_text_color\"] == '3D1957', \"text_color_class\"] = \"3\"\n",
    "#df.loc[np.logical_and(df[\"profile_background_color\"] != '131516', df[\"profile_background_color\"] != 'C0DEED',df[\"profile_background_color\"] != '0000FF') , \"background_color_class\"] = \"4\""
   ]
  },
  {
   "cell_type": "code",
   "execution_count": 49,
   "metadata": {},
   "outputs": [],
   "source": [
    "df['text_color_class'] = df['text_color_class'].fillna(\"other\")"
   ]
  },
  {
   "cell_type": "code",
   "execution_count": 50,
   "metadata": {},
   "outputs": [
    {
     "data": {
      "text/plain": [
       "333333    6992\n",
       "other     2280\n",
       "000000    1530\n",
       "3          215\n",
       "Name: text_color_class, dtype: int64"
      ]
     },
     "execution_count": 50,
     "metadata": {},
     "output_type": "execute_result"
    }
   ],
   "source": [
    "df['text_color_class'].value_counts()"
   ]
  },
  {
   "cell_type": "code",
   "execution_count": 52,
   "metadata": {},
   "outputs": [
    {
     "name": "stderr",
     "output_type": "stream",
     "text": [
      "<ipython-input-52-039978c986db>:1: SettingWithCopyWarning: \n",
      "A value is trying to be set on a copy of a slice from a DataFrame.\n",
      "Try using .loc[row_indexer,col_indexer] = value instead\n",
      "\n",
      "See the caveats in the documentation: https://pandas.pydata.org/pandas-docs/stable/user_guide/indexing.html#returning-a-view-versus-a-copy\n",
      "  df_model['text_color_class'] = df['text_color_class']\n"
     ]
    }
   ],
   "source": [
    "df_model['text_color_class'] = df['text_color_class']"
   ]
  },
  {
   "cell_type": "code",
   "execution_count": 51,
   "metadata": {},
   "outputs": [
    {
     "data": {
      "image/png": "[encoded data removed]",
      "text/plain": [
       "<Figure size 432x288 with 1 Axes>"
      ]
     },
     "metadata": {
      "needs_background": "light"
     },
     "output_type": "display_data"
    }
   ],
   "source": [
    "fig_1 = sns.countplot(x = 'background_color_class', data = df_model, hue = 'class')"
   ]
  },
  {
   "cell_type": "code",
   "execution_count": 52,
   "metadata": {},
   "outputs": [
    {
     "name": "stdout",
     "output_type": "stream",
     "text": [
      "DDEEF6    5896\n",
      "407DB0    1012\n",
      "EFEFEF     479\n",
      "000000     380\n",
      "252429     303\n",
      "          ... \n",
      "F0F3F5       1\n",
      "8CB0B0       1\n",
      "141212       1\n",
      "050308       1\n",
      "F00C0C       1\n",
      "Name: profile_sidebar_fill_color, Length: 384, dtype: int64\n"
     ]
    }
   ],
   "source": [
    "print(df['profile_sidebar_fill_color'].value_counts())"
   ]
  },
  {
   "cell_type": "code",
   "execution_count": 53,
   "metadata": {},
   "outputs": [],
   "source": [
    "# manipulating target variable by putting 0 and 1 values\n",
    "df.loc[df[\"profile_sidebar_fill_color\"] == 'DDEEF6', \"sidebar_color_class\"] = \"DDEEF6\"\n",
    "df.loc[np.logical_or(df[\"profile_sidebar_fill_color\"] == '0',df[\"profile_sidebar_fill_color\"] == '000000') , \"sidebar_color_class\"] = \"000000\"\n",
    "df.loc[df[\"profile_sidebar_fill_color\"] == '407DB0', \"sidebar_color_class\"] = \"407DB0\"\n",
    "df.loc[df[\"profile_sidebar_fill_color\"] == 'EFEFEF', \"sidebar_color_class\"] = \"EFEFEF\"\n",
    "#df.loc[np.logical_and(df[\"profile_background_color\"] != '131516', df[\"profile_background_color\"] != 'C0DEED',df[\"profile_background_color\"] != '0000FF') , \"background_color_class\"] = \"4\""
   ]
  },
  {
   "cell_type": "code",
   "execution_count": 54,
   "metadata": {},
   "outputs": [],
   "source": [
    "df['sidebar_color_class'] = df['sidebar_color_class'].fillna('others')"
   ]
  },
  {
   "cell_type": "code",
   "execution_count": 55,
   "metadata": {},
   "outputs": [
    {
     "name": "stderr",
     "output_type": "stream",
     "text": [
      "<ipython-input-55-4b0baa6aef06>:1: SettingWithCopyWarning: \n",
      "A value is trying to be set on a copy of a slice from a DataFrame.\n",
      "Try using .loc[row_indexer,col_indexer] = value instead\n",
      "\n",
      "See the caveats in the documentation: https://pandas.pydata.org/pandas-docs/stable/user_guide/indexing.html#returning-a-view-versus-a-copy\n",
      "  df_model['sidebar_color_class'] = df['sidebar_color_class']\n"
     ]
    }
   ],
   "source": [
    "df_model['sidebar_color_class'] = df['sidebar_color_class']"
   ]
  },
  {
   "cell_type": "code",
   "execution_count": 56,
   "metadata": {},
   "outputs": [
    {
     "data": {
      "image/png": "[encoded data removed]",
      "text/plain": [
       "<Figure size 432x288 with 1 Axes>"
      ]
     },
     "metadata": {
      "needs_background": "light"
     },
     "output_type": "display_data"
    }
   ],
   "source": [
    "fig_1 = sns.countplot(x = 'sidebar_color_class', data = df_model, hue = 'class')"
   ]
  },
  {
   "cell_type": "code",
   "execution_count": 57,
   "metadata": {},
   "outputs": [
    {
     "name": "stdout",
     "output_type": "stream",
     "text": [
      "<class 'pandas.core.frame.DataFrame'>\n",
      "RangeIndex: 11017 entries, 0 to 11016\n",
      "Data columns (total 38 columns):\n",
      " #   Column                              Non-Null Count  Dtype  \n",
      "---  ------                              --------------  -----  \n",
      " 0   id                                  11017 non-null  int64  \n",
      " 1   name                                11016 non-null  object \n",
      " 2   screen_name                         11017 non-null  object \n",
      " 3   statuses_count                      11017 non-null  int64  \n",
      " 4   followers_count                     11017 non-null  int64  \n",
      " 5   friends_count                       11017 non-null  int64  \n",
      " 6   favourites_count                    11017 non-null  int64  \n",
      " 7   listed_count                        11017 non-null  int64  \n",
      " 8   url                                 11017 non-null  object \n",
      " 9   lang                                10017 non-null  object \n",
      " 10  time_zone                           5015 non-null   object \n",
      " 11  location                            4908 non-null   object \n",
      " 12  default_profile                     11017 non-null  float64\n",
      " 13  geo_enabled                         11017 non-null  float64\n",
      " 14  profile_image_url                   11017 non-null  object \n",
      " 15  profile_banner_url                  4819 non-null   object \n",
      " 16  profile_use_background_image        11017 non-null  float64\n",
      " 17  profile_background_image_url_https  10017 non-null  object \n",
      " 18  profile_text_color                  10017 non-null  object \n",
      " 19  profile_image_url_https             10017 non-null  object \n",
      " 20  profile_sidebar_border_color        10017 non-null  object \n",
      " 21  profile_background_tile             5331 non-null   float64\n",
      " 22  profile_sidebar_fill_color          10017 non-null  object \n",
      " 23  profile_background_image_url        11017 non-null  object \n",
      " 24  profile_background_color            10017 non-null  object \n",
      " 25  profile_link_color                  10017 non-null  object \n",
      " 26  utc_offset                          5015 non-null   float64\n",
      " 27  protected                           78 non-null     float64\n",
      " 28  verified                            11 non-null     float64\n",
      " 29  description                         6346 non-null   object \n",
      " 30  created_at                          11017 non-null  object \n",
      " 31  timestamp                           11017 non-null  object \n",
      " 32  updated                             11017 non-null  object \n",
      " 33  Category                            11017 non-null  object \n",
      " 34  url_present                         11017 non-null  object \n",
      " 35  background_color_class              11017 non-null  object \n",
      " 36  text_color_class                    11017 non-null  object \n",
      " 37  sidebar_color_class                 11017 non-null  object \n",
      "dtypes: float64(7), int64(6), object(25)\n",
      "memory usage: 3.2+ MB\n"
     ]
    }
   ],
   "source": [
    "df.info()"
   ]
  },
  {
   "cell_type": "code",
   "execution_count": 58,
   "metadata": {},
   "outputs": [
    {
     "name": "stdout",
     "output_type": "stream",
     "text": [
      "<class 'pandas.core.frame.DataFrame'>\n",
      "RangeIndex: 11017 entries, 0 to 11016\n",
      "Data columns (total 15 columns):\n",
      " #   Column                        Non-Null Count  Dtype  \n",
      "---  ------                        --------------  -----  \n",
      " 0   statuses_count                11017 non-null  int64  \n",
      " 1   followers_count               11017 non-null  int64  \n",
      " 2   friends_count                 11017 non-null  int64  \n",
      " 3   favourites_count              11017 non-null  int64  \n",
      " 4   listed_count                  11017 non-null  int64  \n",
      " 5   description_present           11017 non-null  int64  \n",
      " 6   age                           11017 non-null  int64  \n",
      " 7   geo_enabled                   11017 non-null  float64\n",
      " 8   default_profile               11017 non-null  float64\n",
      " 9   id                            11017 non-null  int64  \n",
      " 10  url_present                   11017 non-null  object \n",
      " 11  class                         11017 non-null  int64  \n",
      " 12  profile_use_background_image  11017 non-null  float64\n",
      " 13  background_color_class        11017 non-null  object \n",
      " 14  sidebar_color_class           11017 non-null  object \n",
      "dtypes: float64(3), int64(9), object(3)\n",
      "memory usage: 1.3+ MB\n"
     ]
    }
   ],
   "source": [
    "df_model.info()"
   ]
  },
  {
   "cell_type": "markdown",
   "metadata": {},
   "source": [
    "##### testing for hypothesis that newly created variables have significant impact on the class"
   ]
  },
  {
   "cell_type": "code",
   "execution_count": 72,
   "metadata": {},
   "outputs": [],
   "source": [
    "### create column with value count of class for the pivot table"
   ]
  },
  {
   "cell_type": "code",
   "execution_count": 60,
   "metadata": {},
   "outputs": [
    {
     "name": "stderr",
     "output_type": "stream",
     "text": [
      "<ipython-input-60-75937001f691>:1: SettingWithCopyWarning: \n",
      "A value is trying to be set on a copy of a slice from a DataFrame.\n",
      "Try using .loc[row_indexer,col_indexer] = value instead\n",
      "\n",
      "See the caveats in the documentation: https://pandas.pydata.org/pandas-docs/stable/user_guide/indexing.html#returning-a-view-versus-a-copy\n",
      "  df_model['protected'] = df_1['protected']\n"
     ]
    }
   ],
   "source": [
    "df_model['protected'] = df_1['protected']"
   ]
  },
  {
   "cell_type": "code",
   "execution_count": 61,
   "metadata": {},
   "outputs": [],
   "source": [
    "pivot_df = pd.crosstab(index = df_model['protected'], columns = df_model['class'])"
   ]
  },
  {
   "cell_type": "markdown",
   "metadata": {},
   "source": [
    "###### Hypothesis: variables 'protected and class are independent'"
   ]
  },
  {
   "cell_type": "code",
   "execution_count": 62,
   "metadata": {},
   "outputs": [
    {
     "name": "stdout",
     "output_type": "stream",
     "text": [
      "170.56684777777724 0.0000000000\n"
     ]
    }
   ],
   "source": [
    "chi2, p, dof, ex = chi2_contingency(pivot_df, correction=False)\n",
    "print(chi2, '{:.10f}'.format(p))"
   ]
  },
  {
   "cell_type": "markdown",
   "metadata": {},
   "source": [
    "###### Hypothesis: variables 'background_color_class and class are independent'"
   ]
  },
  {
   "cell_type": "code",
   "execution_count": 63,
   "metadata": {},
   "outputs": [
    {
     "name": "stdout",
     "output_type": "stream",
     "text": [
      "class                      0     1\n",
      "background_color_class            \n",
      "000000                   349    78\n",
      "0000FF                     0  3499\n",
      "131516                   198   298\n",
      "C0DEED                  1343   494\n",
      "others                  1584  3174\n",
      "3603.603165518076 0.0000000000\n"
     ]
    }
   ],
   "source": [
    "pivot_df = pd.crosstab(index = df_model['background_color_class'], columns = df_model['class'])\n",
    "\n",
    "chi2, p, dof, ex = chi2_contingency(pivot_df, correction=True)\n",
    "print(pivot_df)\n",
    "print(chi2, '{:.10f}'.format(p))"
   ]
  },
  {
   "cell_type": "markdown",
   "metadata": {},
   "source": [
    "#### One hot encoding for selected variables"
   ]
  },
  {
   "cell_type": "code",
   "execution_count": 64,
   "metadata": {},
   "outputs": [
    {
     "name": "stdout",
     "output_type": "stream",
     "text": [
      "<class 'pandas.core.frame.DataFrame'>\n",
      "RangeIndex: 11017 entries, 0 to 11016\n",
      "Data columns (total 38 columns):\n",
      " #   Column                              Non-Null Count  Dtype  \n",
      "---  ------                              --------------  -----  \n",
      " 0   id                                  11017 non-null  int64  \n",
      " 1   name                                11016 non-null  object \n",
      " 2   screen_name                         11017 non-null  object \n",
      " 3   statuses_count                      11017 non-null  int64  \n",
      " 4   followers_count                     11017 non-null  int64  \n",
      " 5   friends_count                       11017 non-null  int64  \n",
      " 6   favourites_count                    11017 non-null  int64  \n",
      " 7   listed_count                        11017 non-null  int64  \n",
      " 8   url                                 11017 non-null  object \n",
      " 9   lang                                10017 non-null  object \n",
      " 10  time_zone                           5015 non-null   object \n",
      " 11  location                            4908 non-null   object \n",
      " 12  default_profile                     11017 non-null  float64\n",
      " 13  geo_enabled                         11017 non-null  float64\n",
      " 14  profile_image_url                   11017 non-null  object \n",
      " 15  profile_banner_url                  4819 non-null   object \n",
      " 16  profile_use_background_image        11017 non-null  float64\n",
      " 17  profile_background_image_url_https  10017 non-null  object \n",
      " 18  profile_text_color                  10017 non-null  object \n",
      " 19  profile_image_url_https             10017 non-null  object \n",
      " 20  profile_sidebar_border_color        10017 non-null  object \n",
      " 21  profile_background_tile             5331 non-null   float64\n",
      " 22  profile_sidebar_fill_color          10017 non-null  object \n",
      " 23  profile_background_image_url        11017 non-null  object \n",
      " 24  profile_background_color            10017 non-null  object \n",
      " 25  profile_link_color                  10017 non-null  object \n",
      " 26  utc_offset                          5015 non-null   float64\n",
      " 27  protected                           78 non-null     float64\n",
      " 28  verified                            11 non-null     float64\n",
      " 29  description                         6346 non-null   object \n",
      " 30  created_at                          11017 non-null  object \n",
      " 31  timestamp                           11017 non-null  object \n",
      " 32  updated                             11017 non-null  object \n",
      " 33  Category                            11017 non-null  object \n",
      " 34  url_present                         11017 non-null  object \n",
      " 35  background_color_class              11017 non-null  object \n",
      " 36  text_color_class                    11017 non-null  object \n",
      " 37  sidebar_color_class                 11017 non-null  object \n",
      "dtypes: float64(7), int64(6), object(25)\n",
      "memory usage: 3.2+ MB\n"
     ]
    }
   ],
   "source": [
    "df.info()"
   ]
  },
  {
   "cell_type": "code",
   "execution_count": 3,
   "metadata": {},
   "outputs": [],
   "source": [
    "### https://scikit-learn.org/stable/modules/generated/sklearn.preprocessing.OneHotEncoder.html"
   ]
  },
  {
   "cell_type": "code",
   "execution_count": null,
   "metadata": {},
   "outputs": [],
   "source": []
  },
  {
   "cell_type": "code",
   "execution_count": null,
   "metadata": {},
   "outputs": [],
   "source": []
  },
  {
   "cell_type": "code",
   "execution_count": null,
   "metadata": {},
   "outputs": [],
   "source": []
  },
  {
   "cell_type": "code",
   "execution_count": null,
   "metadata": {},
   "outputs": [],
   "source": []
  },
  {
   "cell_type": "code",
   "execution_count": null,
   "metadata": {},
   "outputs": [],
   "source": []
  },
  {
   "cell_type": "code",
   "execution_count": null,
   "metadata": {},
   "outputs": [],
   "source": []
  },
  {
   "cell_type": "code",
   "execution_count": null,
   "metadata": {},
   "outputs": [],
   "source": []
  },
  {
   "cell_type": "code",
   "execution_count": null,
   "metadata": {},
   "outputs": [],
   "source": [
    "list = [['default_profile', 'default_profile_image', 'protected', 'verified', 'class']]\n",
    "for i in list:\n",
    "    df[i] = df[i].astype('category')"
   ]
  },
  {
   "cell_type": "markdown",
   "metadata": {},
   "source": [
    "### Exploratory Data Analysis on raw data for feature selection and data development"
   ]
  },
  {
   "cell_type": "code",
   "execution_count": null,
   "metadata": {},
   "outputs": [],
   "source": [
    "df.info()"
   ]
  },
  {
   "cell_type": "code",
   "execution_count": null,
   "metadata": {},
   "outputs": [],
   "source": [
    "pd.options.display.float_format = '{:.5f}'.format\n",
    "df.describe()"
   ]
  },
  {
   "cell_type": "code",
   "execution_count": null,
   "metadata": {},
   "outputs": [],
   "source": [
    "corrMatrix = df.corr()\n",
    "sns.set(rc = {'figure.figsize':(10, 10)} )\n",
    "sns.set(font_scale = 2)\n",
    "sns.heatmap(corrMatrix, vmin = -1, vmax = 1, center = 0, cmap = sns.diverging_palette(20, 220, n = 200), square = True, cbar_kws = {'shrink': 0.6}, annot = True)\n",
    "plt.show"
   ]
  },
  {
   "cell_type": "code",
   "execution_count": null,
   "metadata": {},
   "outputs": [],
   "source": [
    "df.info()"
   ]
  },
  {
   "cell_type": "code",
   "execution_count": null,
   "metadata": {
    "scrolled": true
   },
   "outputs": [],
   "source": [
    "list = ['statuses_count', 'followers_count', 'friends_count', 'favourites_count', 'listed_count']\n",
    "for i in list:\n",
    "    fig = plt.figure(figsize =(7, 7)) \n",
    "    # Creating axes instance \n",
    "    ax = fig.add_axes([1, 1, 1, 1]) \n",
    "    #change of origin by adding 1 to the original data \n",
    "    ax.boxplot(np.log(df[i] + 1 ))\n",
    "        \n"
   ]
  },
  {
   "cell_type": "code",
   "execution_count": null,
   "metadata": {},
   "outputs": [],
   "source": [
    "list = {'statuses_count', 'followers_count', 'friends_count', 'favourites_count', 'listed_count'}\n",
    "for i in list:\n",
    "    fig, ax = plt.subplots(1)\n",
    "    sns.histplot(df[i]+1, bins = 100, log_scale= True, kde = True)\n",
    "    #np.log(df[i]+1).plot.hist(bins = 100)\n"
   ]
  },
  {
   "cell_type": "code",
   "execution_count": null,
   "metadata": {},
   "outputs": [],
   "source": [
    "from scipy import stats"
   ]
  },
  {
   "cell_type": "code",
   "execution_count": null,
   "metadata": {},
   "outputs": [],
   "source": [
    "type(df['statuses_count'])"
   ]
  },
  {
   "cell_type": "code",
   "execution_count": null,
   "metadata": {},
   "outputs": [],
   "source": [
    "#look for details\n",
    "crim_boxcox = stats.boxcox(df['statuses_count']+1)[0]"
   ]
  },
  {
   "cell_type": "code",
   "execution_count": null,
   "metadata": {},
   "outputs": [],
   "source": [
    "sn.histplot(data = crim_boxcox, bins = 200, kde = True)"
   ]
  },
  {
   "cell_type": "code",
   "execution_count": null,
   "metadata": {
    "scrolled": true
   },
   "outputs": [],
   "source": [
    "pd.crosstab(df['verified'], df['protected'])"
   ]
  },
  {
   "cell_type": "code",
   "execution_count": null,
   "metadata": {
    "scrolled": false
   },
   "outputs": [],
   "source": [
    "pd.crosstab(df['default_profile'], df['protected'])"
   ]
  },
  {
   "cell_type": "code",
   "execution_count": null,
   "metadata": {
    "scrolled": true
   },
   "outputs": [],
   "source": [
    "pd.crosstab(df['default_profile'], df['protected'])"
   ]
  },
  {
   "cell_type": "code",
   "execution_count": null,
   "metadata": {},
   "outputs": [],
   "source": [
    "pd.crosstab(df['default_profile'], df['default_profile_image'])"
   ]
  },
  {
   "cell_type": "code",
   "execution_count": null,
   "metadata": {
    "scrolled": true
   },
   "outputs": [],
   "source": [
    "pd.crosstab(df['class'], df['verified'])"
   ]
  },
  {
   "cell_type": "code",
   "execution_count": null,
   "metadata": {},
   "outputs": [],
   "source": [
    "pd.crosstab(df['class'], df['protected'], margins = True)"
   ]
  },
  {
   "cell_type": "code",
   "execution_count": null,
   "metadata": {},
   "outputs": [],
   "source": [
    "pd.crosstab(df['protected'], df['verified'], margins = True)"
   ]
  },
  {
   "cell_type": "code",
   "execution_count": null,
   "metadata": {},
   "outputs": [],
   "source": [
    "pd.crosstab(df['verified'], df['class'], margins = True)"
   ]
  },
  {
   "cell_type": "code",
   "execution_count": null,
   "metadata": {},
   "outputs": [],
   "source": [
    "plt.clf()"
   ]
  },
  {
   "cell_type": "code",
   "execution_count": null,
   "metadata": {},
   "outputs": [],
   "source": [
    "plt.clf()\n",
    "cross = pd.crosstab(index = [df['verified'], df['protected'], df['default_profile'], df['default_profile_image']], columns = df['class'])\n",
    "plt.subplots(figsize=(10,10))\n",
    "plt.tick_params(labelsize = 10)\n",
    "sns.heatmap(cross, cmap = 'YlOrBr', cbar_kws = {'shrink': 0.8})\n",
    "cross"
   ]
  },
  {
   "cell_type": "code",
   "execution_count": null,
   "metadata": {},
   "outputs": [],
   "source": [
    "df_bar = df[['verified', 'protected', 'class', 'default_profile', 'default_profile_image']]\n",
    "\n",
    "fig_1 = sns.countplot(x = 'protected', data = df_bar, hue = 'class')\n",
    "fig_2 = sns.countplot(x = 'default_profile', data = df_bar)\n",
    "plt.show()"
   ]
  },
  {
   "cell_type": "code",
   "execution_count": null,
   "metadata": {},
   "outputs": [],
   "source": [
    "plt.close()"
   ]
  },
  {
   "cell_type": "code",
   "execution_count": null,
   "metadata": {},
   "outputs": [],
   "source": [
    "gc.collect()"
   ]
  },
  {
   "cell_type": "code",
   "execution_count": null,
   "metadata": {},
   "outputs": [],
   "source": [
    "df_p"
   ]
  },
  {
   "cell_type": "code",
   "execution_count": null,
   "metadata": {},
   "outputs": [],
   "source": [
    "df_pairplot = df[['statuses_count', 'followers_count', 'friends_count', 'favourites_count', 'listed_count', 'class']]"
   ]
  },
  {
   "cell_type": "code",
   "execution_count": null,
   "metadata": {},
   "outputs": [],
   "source": [
    "df_pairplot['statuses_count'] = np.log(df_pairplot['statuses_count']+1)\n",
    "df_pairplot['followers_count'] = np.log(df_pairplot['followers_count']+1)\n",
    "df_pairplot['friends_count'] = np.log(df_pairplot['friends_count']+1)\n",
    "df_pairplot['favourites_count'] = np.log(df_pairplot['favourites_count']+1)\n",
    "df_pairplot['listed_count'] = np.log(df_pairplot['listed_count']+1)"
   ]
  },
  {
   "cell_type": "code",
   "execution_count": null,
   "metadata": {},
   "outputs": [],
   "source": [
    "sns.pairplot(df_pairplot)"
   ]
  },
  {
   "cell_type": "code",
   "execution_count": null,
   "metadata": {},
   "outputs": [],
   "source": [
    "plt.close()"
   ]
  },
  {
   "cell_type": "code",
   "execution_count": null,
   "metadata": {},
   "outputs": [],
   "source": [
    "sns.pairplot(df_pairplot, hue = 'class')"
   ]
  },
  {
   "cell_type": "code",
   "execution_count": null,
   "metadata": {
    "scrolled": true
   },
   "outputs": [],
   "source": [
    "fig = plt.figure()\n",
    "ax = fig.add_subplot(111, projection='3d')\n",
    "ax.scatter(np.log(df['followers_count']+1), np.log(df['listed_count']+1), np.log(df['favourites_count']+1), c='r', marker='o')\n",
    "\n",
    "ax.set_xlabel('X Label')\n",
    "ax.set_ylabel('Y Label')\n",
    "ax.set_zlabel('Z Label')"
   ]
  },
  {
   "cell_type": "code",
   "execution_count": null,
   "metadata": {
    "scrolled": false
   },
   "outputs": [],
   "source": [
    "fig = px.scatter_3d(df, x=np.log(df['statuses_count']+1), y=np.log(df['followers_count']+1), z=np.log(df['listed_count']+1),color=df['Category'],labels= True)\n",
    "fig.show()"
   ]
  },
  {
   "cell_type": "code",
   "execution_count": null,
   "metadata": {},
   "outputs": [],
   "source": [
    "fig_5 = sm.qqplot(np.log(df['favourites_count']+1), line = '45')\n",
    "fig_4 = sm.qqplot(np.log(df['listed_count']+1), line = '45')\n",
    "fig_3 = sm.qqplot(np.log(df['followers_count']+1), line = '45')\n",
    "fig_2 = sm.qqplot(np.log(df['statuses_count']+1), line = '45')\n",
    "fig_1 = sm.qqplot(np.log(df['friends_count']+1), line = '45')\n",
    "plt.show()"
   ]
  },
  {
   "cell_type": "code",
   "execution_count": null,
   "metadata": {},
   "outputs": [],
   "source": [
    "plt.scatter(np.log(df['followers_count']+1), np.log(df['friends_count']+1))"
   ]
  }
 ],
 "metadata": {
  "kernelspec": {
   "display_name": "Python 3",
   "language": "python",
   "name": "python3"
  },
  "language_info": {
   "codemirror_mode": {
    "name": "ipython",
    "version": 3
   },
   "file_extension": ".py",
   "mimetype": "text/x-python",
   "name": "python",
   "nbconvert_exporter": "python",
   "pygments_lexer": "ipython3",
   "version": "3.8.5"
  }
 },
 "nbformat": 4,
 "nbformat_minor": 4
}
