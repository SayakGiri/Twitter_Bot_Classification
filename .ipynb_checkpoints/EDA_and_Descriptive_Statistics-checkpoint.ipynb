{
 "cells": [
  {
   "cell_type": "markdown",
   "metadata": {},
   "source": [
    "\n",
    "### Importing Packages for the Project"
   ]
  },
  {
   "cell_type": "code",
   "execution_count": 1,
   "metadata": {},
   "outputs": [],
   "source": [
    "# Basic packages required for data manipulation and Feature Engineering\n",
    "\n",
    "import pandas as pd\n",
    "import numpy as np\n",
    "# for plotting graphs\n",
    "import matplotlib.pyplot as plt\n",
    "import seaborn as sns\n",
    "from mpl_toolkits.mplot3d import Axes3D\n",
    "import plotly.express as px\n",
    "import pylab as py\n",
    "\n",
    "# statistical package for conducting hypothesis tests and other tasks \n",
    "import statsmodels.api as sm\n",
    "from scipy.stats import chi2_contingency\n",
    "from scipy.stats import norm\n",
    "\n",
    "#package for model building\n",
    "from sklearn.model_selection import train_test_split \n",
    "from sklearn.linear_model import LogisticRegression \n",
    "from sklearn.preprocessing import StandardScaler \n",
    "from sklearn.metrics import confusion_matrix, classification_report \n"
   ]
  },
  {
   "cell_type": "code",
   "execution_count": 80,
   "metadata": {},
   "outputs": [],
   "source": [
    "#package for Feature Engeeniring/Categorical Data Transformation\n",
    "from sklearn.preprocessing import OneHotEncoder\n",
    "from sklearn.preprocessing import LabelEncoder\n",
    "\n",
    "\n",
    "# import SMOTE module from imblearn library \n",
    "# pip install imblearn (if you don't have imblearn in your system) \n",
    "from imblearn.over_sampling import SMOTE"
   ]
  },
  {
   "cell_type": "code",
   "execution_count": 8,
   "metadata": {},
   "outputs": [],
   "source": [
    "from IPython.core.interactiveshell import InteractiveShell\n",
    "InteractiveShell.ast_node_interactivity = \"all\""
   ]
  },
  {
   "cell_type": "markdown",
   "metadata": {},
   "source": [
    "### Reading the data ustilised for training the model"
   ]
  },
  {
   "cell_type": "code",
   "execution_count": 3,
   "metadata": {},
   "outputs": [],
   "source": [
    "#df=pd.read_csv(\"D:/Sitanshu/Python/Twitter_Bot_Classification/finaldata.csv\")\n",
    "df=pd.read_csv(\"~/virtualenv/Twitter_Project/Twitter_Bot_Classification/finaldata.csv\")\n",
    "#df_1=pd.read_csv(\"D:/Sitanshu/Python/Twitter_Bot_Classification/model_data.csv\")\n",
    "df_1=pd.read_csv(\"~/virtualenv/Twitter_Project/Twitter_Bot_Classification/model_data.csv\")\n",
    "df_1 = df_1.drop('Unnamed: 0', axis =1)\n",
    "df.drop(['Unnamed: 0', 'crawled_at', 'contributors_enabled','testset', 'random', 'default_profile_image', 'notifications', 'following', 'follow_request_sent', 'is_translator'], axis = 1, inplace = True)"
   ]
  },
  {
   "cell_type": "code",
   "execution_count": 5,
   "metadata": {
    "scrolled": true
   },
   "outputs": [
    {
     "name": "stdout",
     "output_type": "stream",
     "text": [
      "<class 'pandas.core.frame.DataFrame'>\n",
      "RangeIndex: 11017 entries, 0 to 11016\n",
      "Data columns (total 34 columns):\n",
      " #   Column                              Non-Null Count  Dtype  \n",
      "---  ------                              --------------  -----  \n",
      " 0   id                                  11017 non-null  int64  \n",
      " 1   name                                11016 non-null  object \n",
      " 2   screen_name                         11017 non-null  object \n",
      " 3   statuses_count                      11017 non-null  int64  \n",
      " 4   followers_count                     11017 non-null  int64  \n",
      " 5   friends_count                       11017 non-null  int64  \n",
      " 6   favourites_count                    11017 non-null  int64  \n",
      " 7   listed_count                        11017 non-null  int64  \n",
      " 8   url                                 3508 non-null   object \n",
      " 9   lang                                10017 non-null  object \n",
      " 10  time_zone                           5015 non-null   object \n",
      " 11  location                            4908 non-null   object \n",
      " 12  default_profile                     1477 non-null   float64\n",
      " 13  geo_enabled                         3294 non-null   float64\n",
      " 14  profile_image_url                   11017 non-null  object \n",
      " 15  profile_banner_url                  4819 non-null   object \n",
      " 16  profile_use_background_image        9503 non-null   float64\n",
      " 17  profile_background_image_url_https  10017 non-null  object \n",
      " 18  profile_text_color                  10017 non-null  object \n",
      " 19  profile_image_url_https             10017 non-null  object \n",
      " 20  profile_sidebar_border_color        10017 non-null  object \n",
      " 21  profile_background_tile             5331 non-null   float64\n",
      " 22  profile_sidebar_fill_color          10017 non-null  object \n",
      " 23  profile_background_image_url        11017 non-null  object \n",
      " 24  profile_background_color            10017 non-null  object \n",
      " 25  profile_link_color                  10017 non-null  object \n",
      " 26  utc_offset                          5015 non-null   float64\n",
      " 27  protected                           78 non-null     float64\n",
      " 28  verified                            11 non-null     float64\n",
      " 29  description                         6346 non-null   object \n",
      " 30  created_at                          11017 non-null  object \n",
      " 31  timestamp                           11017 non-null  object \n",
      " 32  updated                             11017 non-null  object \n",
      " 33  Category                            11017 non-null  object \n",
      "dtypes: float64(7), int64(6), object(21)\n",
      "memory usage: 2.9+ MB\n"
     ]
    }
   ],
   "source": [
    "df.info()"
   ]
  },
  {
   "cell_type": "code",
   "execution_count": 11,
   "metadata": {},
   "outputs": [],
   "source": [
    "#if not using df_1 then uncomment\n",
    "\n",
    "# manipulating target variable by putting 0 and 1 values\n",
    "#df.loc[df[\"Category\"] == 'genuine', \"class\"] = \"0\"\n",
    "#df.loc[df[\"Category\"] != 'genuine', \"class\"] = \"1\""
   ]
  },
  {
   "cell_type": "code",
   "execution_count": 21,
   "metadata": {},
   "outputs": [],
   "source": [
    "df_model = df[['id','screen_name','statuses_count', 'followers_count', 'friends_count', 'favourites_count', 'listed_count']]"
   ]
  },
  {
   "cell_type": "code",
   "execution_count": 34,
   "metadata": {
    "scrolled": true
   },
   "outputs": [],
   "source": [
    "# Dropping id column is viable option as it doesn't add value to the data\n",
    "#df_model.set_index('id', inplace = True)\n",
    "#df.set_index('id', inplace = True)\n",
    "#df_1.set_index('id', inplace = True)"
   ]
  },
  {
   "cell_type": "markdown",
   "metadata": {},
   "source": [
    "##### Ignore warning should be implemented or not?"
   ]
  },
  {
   "cell_type": "code",
   "execution_count": 6,
   "metadata": {},
   "outputs": [
    {
     "name": "stderr",
     "output_type": "stream",
     "text": [
      "<ipython-input-6-13a7ddabf1b0>:1: SettingWithCopyWarning: \n",
      "A value is trying to be set on a copy of a slice from a DataFrame.\n",
      "Try using .loc[row_indexer,col_indexer] = value instead\n",
      "\n",
      "See the caveats in the documentation: https://pandas.pydata.org/pandas-docs/stable/user_guide/indexing.html#returning-a-view-versus-a-copy\n",
      "  df_model['description_present'] = df_1['description_presence']\n",
      "<ipython-input-6-13a7ddabf1b0>:2: SettingWithCopyWarning: \n",
      "A value is trying to be set on a copy of a slice from a DataFrame.\n",
      "Try using .loc[row_indexer,col_indexer] = value instead\n",
      "\n",
      "See the caveats in the documentation: https://pandas.pydata.org/pandas-docs/stable/user_guide/indexing.html#returning-a-view-versus-a-copy\n",
      "  df_model['age'] = df_1['age']\n",
      "<ipython-input-6-13a7ddabf1b0>:3: SettingWithCopyWarning: \n",
      "A value is trying to be set on a copy of a slice from a DataFrame.\n",
      "Try using .loc[row_indexer,col_indexer] = value instead\n",
      "\n",
      "See the caveats in the documentation: https://pandas.pydata.org/pandas-docs/stable/user_guide/indexing.html#returning-a-view-versus-a-copy\n",
      "  df_model['class'] = df_1['class']\n"
     ]
    }
   ],
   "source": [
    "df_model['description_present'] = df_1['description_presence']\n",
    "df_model['age'] = df_1['age']\n",
    "df_model['class'] = df_1['class']"
   ]
  },
  {
   "cell_type": "code",
   "execution_count": null,
   "metadata": {},
   "outputs": [],
   "source": [
    "#dropping column with description as we are not working on language and text recognition for the model.\n",
    "#df = df.drop(['description'], axis = 1)"
   ]
  },
  {
   "cell_type": "markdown",
   "metadata": {},
   "source": [
    "### Using EDA to create new Features"
   ]
  },
  {
   "cell_type": "code",
   "execution_count": null,
   "metadata": {},
   "outputs": [],
   "source": [
    "df.info()"
   ]
  },
  {
   "cell_type": "code",
   "execution_count": null,
   "metadata": {},
   "outputs": [],
   "source": [
    "pd.options.display.float_format = '{:.5f}'.format\n",
    "df.describe()"
   ]
  },
  {
   "cell_type": "code",
   "execution_count": null,
   "metadata": {},
   "outputs": [],
   "source": [
    "corrMatrix = df.corr()\n",
    "sns.set(rc = {'figure.figsize':(10, 10)} )\n",
    "sns.set(font_scale = 2)\n",
    "sns.heatmap(corrMatrix, vmin = -1, vmax = 1, center = 0, cmap = sns.diverging_palette(20, 220, n = 200), square = True, cbar_kws = {'shrink': 0.6}, annot = True)\n",
    "plt.show"
   ]
  },
  {
   "cell_type": "code",
   "execution_count": null,
   "metadata": {},
   "outputs": [],
   "source": [
    "df.info()"
   ]
  },
  {
   "cell_type": "code",
   "execution_count": null,
   "metadata": {
    "scrolled": true
   },
   "outputs": [],
   "source": [
    "list = ['statuses_count', 'followers_count', 'friends_count', 'favourites_count', 'listed_count']\n",
    "for i in list:\n",
    "    fig = plt.figure(figsize =(7, 7)) \n",
    "    # Creating axes instance \n",
    "    ax = fig.add_axes([1, 1, 1, 1]) \n",
    "    #change of origin by adding 1 to the original data \n",
    "    ax.boxplot(np.log(df[i] + 1 ))\n",
    "        \n"
   ]
  },
  {
   "cell_type": "code",
   "execution_count": null,
   "metadata": {},
   "outputs": [],
   "source": [
    "list = {'statuses_count', 'followers_count', 'friends_count', 'favourites_count', 'listed_count'}\n",
    "for i in list:\n",
    "    fig, ax = plt.subplots(1)\n",
    "    sns.histplot(df[i]+1, bins = 100, log_scale= True, kde = True)\n",
    "    #np.log(df[i]+1).plot.hist(bins = 100)\n"
   ]
  },
  {
   "cell_type": "code",
   "execution_count": null,
   "metadata": {},
   "outputs": [],
   "source": [
    "from scipy import stats"
   ]
  },
  {
   "cell_type": "code",
   "execution_count": null,
   "metadata": {},
   "outputs": [],
   "source": [
    "type(df['statuses_count'])"
   ]
  },
  {
   "cell_type": "code",
   "execution_count": null,
   "metadata": {},
   "outputs": [],
   "source": [
    "#look for details\n",
    "crim_boxcox = stats.boxcox(df['statuses_count']+1)[0]"
   ]
  },
  {
   "cell_type": "code",
   "execution_count": null,
   "metadata": {},
   "outputs": [],
   "source": [
    "sn.histplot(data = crim_boxcox, bins = 200, kde = True)"
   ]
  },
  {
   "cell_type": "code",
   "execution_count": null,
   "metadata": {
    "scrolled": true
   },
   "outputs": [],
   "source": [
    "pd.crosstab(df['verified'], df['protected'])"
   ]
  },
  {
   "cell_type": "code",
   "execution_count": null,
   "metadata": {
    "scrolled": false
   },
   "outputs": [],
   "source": [
    "pd.crosstab(df['default_profile'], df['protected'])"
   ]
  },
  {
   "cell_type": "code",
   "execution_count": null,
   "metadata": {
    "scrolled": true
   },
   "outputs": [],
   "source": [
    "pd.crosstab(df['default_profile'], df['protected'])"
   ]
  },
  {
   "cell_type": "code",
   "execution_count": null,
   "metadata": {},
   "outputs": [],
   "source": [
    "pd.crosstab(df['default_profile'], df['default_profile_image'])"
   ]
  },
  {
   "cell_type": "code",
   "execution_count": null,
   "metadata": {
    "scrolled": true
   },
   "outputs": [],
   "source": [
    "pd.crosstab(df['class'], df['verified'])"
   ]
  },
  {
   "cell_type": "code",
   "execution_count": null,
   "metadata": {},
   "outputs": [],
   "source": [
    "pd.crosstab(df['class'], df['protected'], margins = True)"
   ]
  },
  {
   "cell_type": "code",
   "execution_count": null,
   "metadata": {},
   "outputs": [],
   "source": [
    "pd.crosstab(df['protected'], df['verified'], margins = True)"
   ]
  },
  {
   "cell_type": "code",
   "execution_count": null,
   "metadata": {},
   "outputs": [],
   "source": [
    "pd.crosstab(df['verified'], df['class'], margins = True)"
   ]
  },
  {
   "cell_type": "code",
   "execution_count": null,
   "metadata": {},
   "outputs": [],
   "source": [
    "plt.clf()"
   ]
  },
  {
   "cell_type": "code",
   "execution_count": null,
   "metadata": {},
   "outputs": [],
   "source": [
    "plt.clf()\n",
    "cross = pd.crosstab(index = [df['verified'], df['protected'], df['default_profile'], df['default_profile_image']], columns = df['class'])\n",
    "plt.subplots(figsize=(10,10))\n",
    "plt.tick_params(labelsize = 10)\n",
    "sns.heatmap(cross, cmap = 'YlOrBr', cbar_kws = {'shrink': 0.8})\n",
    "cross"
   ]
  },
  {
   "cell_type": "code",
   "execution_count": null,
   "metadata": {},
   "outputs": [],
   "source": [
    "df_bar = df[['verified', 'protected', 'class', 'default_profile', 'default_profile_image']]\n",
    "\n",
    "fig_1 = sns.countplot(x = 'protected', data = df_bar, hue = 'class')\n",
    "fig_2 = sns.countplot(x = 'default_profile', data = df_bar)\n",
    "plt.show()"
   ]
  },
  {
   "cell_type": "code",
   "execution_count": null,
   "metadata": {},
   "outputs": [],
   "source": [
    "plt.close()"
   ]
  },
  {
   "cell_type": "code",
   "execution_count": null,
   "metadata": {},
   "outputs": [],
   "source": [
    "gc.collect()"
   ]
  },
  {
   "cell_type": "code",
   "execution_count": null,
   "metadata": {},
   "outputs": [],
   "source": [
    "df_p"
   ]
  },
  {
   "cell_type": "code",
   "execution_count": null,
   "metadata": {},
   "outputs": [],
   "source": [
    "df_pairplot = df[['statuses_count', 'followers_count', 'friends_count', 'favourites_count', 'listed_count', 'class']]"
   ]
  },
  {
   "cell_type": "code",
   "execution_count": null,
   "metadata": {},
   "outputs": [],
   "source": [
    "df_pairplot['statuses_count'] = np.log(df_pairplot['statuses_count']+1)\n",
    "df_pairplot['followers_count'] = np.log(df_pairplot['followers_count']+1)\n",
    "df_pairplot['friends_count'] = np.log(df_pairplot['friends_count']+1)\n",
    "df_pairplot['favourites_count'] = np.log(df_pairplot['favourites_count']+1)\n",
    "df_pairplot['listed_count'] = np.log(df_pairplot['listed_count']+1)"
   ]
  },
  {
   "cell_type": "code",
   "execution_count": null,
   "metadata": {},
   "outputs": [],
   "source": [
    "sns.pairplot(df_pairplot)"
   ]
  },
  {
   "cell_type": "code",
   "execution_count": null,
   "metadata": {},
   "outputs": [],
   "source": [
    "plt.close()"
   ]
  },
  {
   "cell_type": "code",
   "execution_count": null,
   "metadata": {},
   "outputs": [],
   "source": [
    "sns.pairplot(df_pairplot, hue = 'class')"
   ]
  },
  {
   "cell_type": "code",
   "execution_count": null,
   "metadata": {
    "scrolled": true
   },
   "outputs": [],
   "source": [
    "fig = plt.figure()\n",
    "ax = fig.add_subplot(111, projection='3d')\n",
    "ax.scatter(np.log(df['followers_count']+1), np.log(df['listed_count']+1), np.log(df['favourites_count']+1), c='r', marker='o')\n",
    "\n",
    "ax.set_xlabel('X Label')\n",
    "ax.set_ylabel('Y Label')\n",
    "ax.set_zlabel('Z Label')"
   ]
  },
  {
   "cell_type": "code",
   "execution_count": null,
   "metadata": {
    "scrolled": false
   },
   "outputs": [],
   "source": [
    "fig = px.scatter_3d(df, x=np.log(df['statuses_count']+1), y=np.log(df['followers_count']+1), z=np.log(df['listed_count']+1),color=df['Category'],labels= True)\n",
    "fig.show()"
   ]
  },
  {
   "cell_type": "code",
   "execution_count": null,
   "metadata": {},
   "outputs": [],
   "source": [
    "fig_5 = sm.qqplot(np.log(df['favourites_count']+1), line = '45')\n",
    "fig_4 = sm.qqplot(np.log(df['listed_count']+1), line = '45')\n",
    "fig_3 = sm.qqplot(np.log(df['followers_count']+1), line = '45')\n",
    "fig_2 = sm.qqplot(np.log(df['statuses_count']+1), line = '45')\n",
    "fig_1 = sm.qqplot(np.log(df['friends_count']+1), line = '45')\n",
    "plt.show()"
   ]
  },
  {
   "cell_type": "code",
   "execution_count": null,
   "metadata": {},
   "outputs": [],
   "source": [
    "plt.scatter(np.log(df['followers_count']+1), np.log(df['friends_count']+1))"
   ]
  },
  {
   "cell_type": "code",
   "execution_count": null,
   "metadata": {},
   "outputs": [],
   "source": []
  },
  {
   "cell_type": "code",
   "execution_count": null,
   "metadata": {},
   "outputs": [],
   "source": []
  },
  {
   "cell_type": "code",
   "execution_count": null,
   "metadata": {},
   "outputs": [],
   "source": []
  },
  {
   "cell_type": "markdown",
   "metadata": {},
   "source": [
    "#### Feature Creation"
   ]
  },
  {
   "cell_type": "code",
   "execution_count": 28,
   "metadata": {},
   "outputs": [
    {
     "name": "stdout",
     "output_type": "stream",
     "text": [
      "The unique count of geo_enabled accounts classification is:\n"
     ]
    },
    {
     "data": {
      "text/plain": [
       "0.0    7723\n",
       "1.0    3294\n",
       "Name: geo_enabled, dtype: int64"
      ]
     },
     "execution_count": 28,
     "metadata": {},
     "output_type": "execute_result"
    },
    {
     "name": "stderr",
     "output_type": "stream",
     "text": [
      "<ipython-input-28-f806a4fa0494>:6: SettingWithCopyWarning: \n",
      "A value is trying to be set on a copy of a slice from a DataFrame.\n",
      "Try using .loc[row_indexer,col_indexer] = value instead\n",
      "\n",
      "See the caveats in the documentation: https://pandas.pydata.org/pandas-docs/stable/user_guide/indexing.html#returning-a-view-versus-a-copy\n",
      "  df_model['geo_enabled'] = df['geo_enabled']\n"
     ]
    },
    {
     "data": {
      "image/png": "[encoded data removed]",
      "text/plain": [
       "<Figure size 432x288 with 1 Axes>"
      ]
     },
     "metadata": {
      "needs_background": "light"
     },
     "output_type": "display_data"
    }
   ],
   "source": [
    "df['geo_enabled'] = df['geo_enabled'].fillna(0)\n",
    "\n",
    "print('The unique count of geo_enabled accounts classification is:')\n",
    "df['geo_enabled'].value_counts()\n",
    "fig_1 = sns.countplot(x = 'geo_enabled', data = df, hue = \"class\")\n",
    "df_model['geo_enabled'] = df['geo_enabled']"
   ]
  },
  {
   "cell_type": "code",
   "execution_count": 247,
   "metadata": {},
   "outputs": [
    {
     "name": "stderr",
     "output_type": "stream",
     "text": [
      "<ipython-input-247-b0e292c13f1d>:1: SettingWithCopyWarning: \n",
      "A value is trying to be set on a copy of a slice from a DataFrame.\n",
      "Try using .loc[row_indexer,col_indexer] = value instead\n",
      "\n",
      "See the caveats in the documentation: https://pandas.pydata.org/pandas-docs/stable/user_guide/indexing.html#returning-a-view-versus-a-copy\n",
      "  df_model['geo_enabled'] = df['geo_enabled']\n"
     ]
    }
   ],
   "source": [
    "df_model['geo_enabled'] = df['geo_enabled']"
   ]
  },
  {
   "cell_type": "code",
   "execution_count": 26,
   "metadata": {},
   "outputs": [
    {
     "data": {
      "text/plain": [
       "0.0    9540\n",
       "1.0    1477\n",
       "Name: default_profile, dtype: int64"
      ]
     },
     "execution_count": 26,
     "metadata": {},
     "output_type": "execute_result"
    },
    {
     "name": "stderr",
     "output_type": "stream",
     "text": [
      "<ipython-input-26-97f83e4320d0>:6: SettingWithCopyWarning: \n",
      "A value is trying to be set on a copy of a slice from a DataFrame.\n",
      "Try using .loc[row_indexer,col_indexer] = value instead\n",
      "\n",
      "See the caveats in the documentation: https://pandas.pydata.org/pandas-docs/stable/user_guide/indexing.html#returning-a-view-versus-a-copy\n",
      "  df_model['default_profile'] =df['default_profile']\n"
     ]
    },
    {
     "data": {
      "image/png": "[encoded data removed]",
      "text/plain": [
       "<Figure size 432x288 with 1 Axes>"
      ]
     },
     "metadata": {
      "needs_background": "light"
     },
     "output_type": "display_data"
    }
   ],
   "source": [
    "# Working on Feature Default profile\n",
    "\n",
    "df['default_profile'] = df['default_profile'].fillna(0)\n",
    "df['default_profile'].value_counts()\n",
    "fig_1 = sns.countplot(x = 'default_profile', data = df, hue = \"class\")\n",
    "df_model['default_profile'] =df['default_profile']"
   ]
  },
  {
   "cell_type": "code",
   "execution_count": 30,
   "metadata": {},
   "outputs": [
    {
     "name": "stderr",
     "output_type": "stream",
     "text": [
      "<ipython-input-30-bf3e66b24202>:1: SettingWithCopyWarning: \n",
      "A value is trying to be set on a copy of a slice from a DataFrame.\n",
      "Try using .loc[row_indexer,col_indexer] = value instead\n",
      "\n",
      "See the caveats in the documentation: https://pandas.pydata.org/pandas-docs/stable/user_guide/indexing.html#returning-a-view-versus-a-copy\n",
      "  df_model['description_present'] = df_1['description_presence']\n",
      "<ipython-input-30-bf3e66b24202>:2: SettingWithCopyWarning: \n",
      "A value is trying to be set on a copy of a slice from a DataFrame.\n",
      "Try using .loc[row_indexer,col_indexer] = value instead\n",
      "\n",
      "See the caveats in the documentation: https://pandas.pydata.org/pandas-docs/stable/user_guide/indexing.html#returning-a-view-versus-a-copy\n",
      "  df_model['verified'] = df_1['verified']\n",
      "<ipython-input-30-bf3e66b24202>:3: SettingWithCopyWarning: \n",
      "A value is trying to be set on a copy of a slice from a DataFrame.\n",
      "Try using .loc[row_indexer,col_indexer] = value instead\n",
      "\n",
      "See the caveats in the documentation: https://pandas.pydata.org/pandas-docs/stable/user_guide/indexing.html#returning-a-view-versus-a-copy\n",
      "  df_model['protected'] = df_1['protected']\n"
     ]
    }
   ],
   "source": [
    "#description_presence was not correct in the end, look into it\n",
    "#df_model['description_present'] = df_1['description_presence']\n",
    "df_model['verified'] = df_1['verified']\n",
    "df_model['protected'] = df_1['protected']"
   ]
  },
  {
   "cell_type": "code",
   "execution_count": 47,
   "metadata": {},
   "outputs": [],
   "source": [
    "# manipulating target variable 'url' by putting 0 and 1 values\n",
    "df['url'] = df['url'].fillna(0)\n",
    "df.loc[df[\"url\"] == 0, \"url_present\"] = 0\n",
    "df.loc[df[\"url\"] != 0, \"url_present\"] = 1"
   ]
  },
  {
   "cell_type": "code",
   "execution_count": 48,
   "metadata": {
    "scrolled": true
   },
   "outputs": [
    {
     "data": {
      "text/plain": [
       "0.0    7509\n",
       "1.0    3508\n",
       "Name: url_present, dtype: int64"
      ]
     },
     "execution_count": 48,
     "metadata": {},
     "output_type": "execute_result"
    },
    {
     "data": {
      "image/png": "[encoded data removed]",
      "text/plain": [
       "<Figure size 432x288 with 1 Axes>"
      ]
     },
     "metadata": {
      "needs_background": "light"
     },
     "output_type": "display_data"
    }
   ],
   "source": [
    "df['url_present'].value_counts()\n",
    "fig_1 = sns.countplot(x = 'url_present', data = df, hue = \"class\")"
   ]
  },
  {
   "cell_type": "markdown",
   "metadata": {},
   "source": [
    "#### Use Hypothesis testing to asses if there is any significant difference between the data used to plot the above graph.\n"
   ]
  },
  {
   "cell_type": "code",
   "execution_count": 46,
   "metadata": {},
   "outputs": [],
   "source": [
    "#url_present is string based text and not analysing the data at present \n",
    "df.drop('url_present', axis =1, inplace = True)"
   ]
  },
  {
   "cell_type": "code",
   "execution_count": 49,
   "metadata": {},
   "outputs": [
    {
     "name": "stderr",
     "output_type": "stream",
     "text": [
      "<ipython-input-49-606b9c537474>:1: SettingWithCopyWarning: \n",
      "A value is trying to be set on a copy of a slice from a DataFrame.\n",
      "Try using .loc[row_indexer,col_indexer] = value instead\n",
      "\n",
      "See the caveats in the documentation: https://pandas.pydata.org/pandas-docs/stable/user_guide/indexing.html#returning-a-view-versus-a-copy\n",
      "  df_model['url_present'] = df['url_present']\n"
     ]
    }
   ],
   "source": [
    "#df_model['url_present'] = df['url_present']"
   ]
  },
  {
   "cell_type": "code",
   "execution_count": 50,
   "metadata": {},
   "outputs": [
    {
     "name": "stdout",
     "output_type": "stream",
     "text": [
      "<class 'pandas.core.frame.DataFrame'>\n",
      "Int64Index: 11017 entries, 7248952 to 2910276853\n",
      "Data columns (total 12 columns):\n",
      " #   Column               Non-Null Count  Dtype  \n",
      "---  ------               --------------  -----  \n",
      " 0   screen_name          11017 non-null  object \n",
      " 1   statuses_count       11017 non-null  int64  \n",
      " 2   followers_count      11017 non-null  int64  \n",
      " 3   friends_count        11017 non-null  int64  \n",
      " 4   favourites_count     11017 non-null  int64  \n",
      " 5   listed_count         11017 non-null  int64  \n",
      " 6   default_profile      11017 non-null  float64\n",
      " 7   geo_enabled          11017 non-null  float64\n",
      " 8   description_present  11017 non-null  int64  \n",
      " 9   verified             11017 non-null  int64  \n",
      " 10  protected            11017 non-null  int64  \n",
      " 11  url_present          11017 non-null  float64\n",
      "dtypes: float64(3), int64(8), object(1)\n",
      "memory usage: 1.1+ MB\n"
     ]
    }
   ],
   "source": [
    "df_model.info()"
   ]
  },
  {
   "cell_type": "code",
   "execution_count": 51,
   "metadata": {},
   "outputs": [],
   "source": [
    "df['profile_use_background_image'].fillna(0, inplace = True)"
   ]
  },
  {
   "cell_type": "code",
   "execution_count": 53,
   "metadata": {},
   "outputs": [
    {
     "data": {
      "text/plain": [
       "1.0    9503\n",
       "0.0    1514\n",
       "Name: profile_use_background_image, dtype: int64"
      ]
     },
     "execution_count": 53,
     "metadata": {},
     "output_type": "execute_result"
    },
    {
     "data": {
      "image/png": "[encoded data removed]",
      "text/plain": [
       "<Figure size 432x288 with 1 Axes>"
      ]
     },
     "metadata": {
      "needs_background": "light"
     },
     "output_type": "display_data"
    }
   ],
   "source": [
    "df['profile_use_background_image'].value_counts()\n",
    "fig_1 = sns.countplot(x = 'profile_use_background_image', data = df, hue = 'class')"
   ]
  },
  {
   "cell_type": "markdown",
   "metadata": {},
   "source": [
    "#### Hypothesis Testing and significance of Variable"
   ]
  },
  {
   "cell_type": "code",
   "execution_count": 54,
   "metadata": {},
   "outputs": [
    {
     "name": "stderr",
     "output_type": "stream",
     "text": [
      "<ipython-input-54-11e19398f81c>:1: SettingWithCopyWarning: \n",
      "A value is trying to be set on a copy of a slice from a DataFrame.\n",
      "Try using .loc[row_indexer,col_indexer] = value instead\n",
      "\n",
      "See the caveats in the documentation: https://pandas.pydata.org/pandas-docs/stable/user_guide/indexing.html#returning-a-view-versus-a-copy\n",
      "  df_model['profile_use_background_image'] = df['profile_use_background_image']\n"
     ]
    }
   ],
   "source": [
    "df_model['profile_use_background_image'] = df['profile_use_background_image']"
   ]
  },
  {
   "cell_type": "code",
   "execution_count": null,
   "metadata": {},
   "outputs": [],
   "source": [
    "print(df['profile_background_color'].value_counts())"
   ]
  },
  {
   "cell_type": "code",
   "execution_count": 56,
   "metadata": {},
   "outputs": [],
   "source": [
    "# Since we are using training data to set variables, we may not find the variable highly effective in the testing set."
   ]
  },
  {
   "cell_type": "code",
   "execution_count": 57,
   "metadata": {},
   "outputs": [],
   "source": [
    "# manipulating color_codes of the text to create the feature assiciated with background text color. \n",
    "df.loc[df[\"profile_background_color\"] == '0000FF', \"background_color_class\"] = \"0000FF\"\n",
    "df.loc[df[\"profile_background_color\"] == 'C0DEED', \"background_color_class\"] = \"C0DEED\"\n",
    "df.loc[df[\"profile_background_color\"] == '131516', \"background_color_class\"] = \"131516\"\n",
    "df.loc[df[\"profile_background_color\"] == '000000', \"background_color_class\"] = \"000000\"\n",
    "#df.loc[np.logical_and(df[\"profile_background_color\"] != '131516', df[\"profile_background_color\"] != 'C0DEED',df[\"profile_background_color\"] != '0000FF') , \"background_color_class\"] = \"4\""
   ]
  },
  {
   "cell_type": "code",
   "execution_count": 63,
   "metadata": {},
   "outputs": [
    {
     "data": {
      "text/plain": [
       "others    4758\n",
       "0000FF    3499\n",
       "C0DEED    1837\n",
       "131516     496\n",
       "000000     427\n",
       "Name: background_color_class, dtype: int64"
      ]
     },
     "execution_count": 63,
     "metadata": {},
     "output_type": "execute_result"
    },
    {
     "data": {
      "image/png": "[encoded data removed]",
      "text/plain": [
       "<Figure size 432x288 with 1 Axes>"
      ]
     },
     "metadata": {
      "needs_background": "light"
     },
     "output_type": "display_data"
    }
   ],
   "source": [
    "df['background_color_class'] = df['background_color_class'].fillna(\"others\")\n",
    "df['background_color_class'].value_counts()\n",
    "fig_1 = sns.countplot(x = 'background_color_class', data = df, hue = 'class')"
   ]
  },
  {
   "cell_type": "code",
   "execution_count": 60,
   "metadata": {},
   "outputs": [
    {
     "name": "stderr",
     "output_type": "stream",
     "text": [
      "<ipython-input-60-395a947897ff>:1: SettingWithCopyWarning: \n",
      "A value is trying to be set on a copy of a slice from a DataFrame.\n",
      "Try using .loc[row_indexer,col_indexer] = value instead\n",
      "\n",
      "See the caveats in the documentation: https://pandas.pydata.org/pandas-docs/stable/user_guide/indexing.html#returning-a-view-versus-a-copy\n",
      "  df_model['background_color_class']=df['background_color_class']\n"
     ]
    }
   ],
   "source": [
    "df_model['background_color_class']=df['background_color_class']"
   ]
  },
  {
   "cell_type": "code",
   "execution_count": null,
   "metadata": {},
   "outputs": [],
   "source": [
    "print(df['profile_text_color'].value_counts())"
   ]
  },
  {
   "cell_type": "code",
   "execution_count": null,
   "metadata": {},
   "outputs": [],
   "source": [
    "### Need to change variable encoding for 0  and 000000, since 0 represents missing value and is category in itself"
   ]
  },
  {
   "cell_type": "code",
   "execution_count": 64,
   "metadata": {},
   "outputs": [],
   "source": [
    "# manipulating target variable by putting 0 and 1 values\n",
    "df.loc[df[\"profile_text_color\"] == '333333', \"text_color_class\"] = \"333333\"\n",
    "df.loc[np.logical_or(df[\"profile_text_color\"] == '0',df[\"profile_text_color\"] == '000000') , \"text_color_class\"] = \"000000\"\n",
    "df.loc[df[\"profile_text_color\"] == '3D1957', \"text_color_class\"] = \"3\"\n",
    "#df.loc[np.logical_and(df[\"profile_background_color\"] != '131516', df[\"profile_background_color\"] != 'C0DEED',df[\"profile_background_color\"] != '0000FF') , \"background_color_class\"] = \"4\""
   ]
  },
  {
   "cell_type": "code",
   "execution_count": 67,
   "metadata": {},
   "outputs": [
    {
     "data": {
      "text/plain": [
       "333333    6992\n",
       "other     2280\n",
       "000000    1530\n",
       "3          215\n",
       "Name: text_color_class, dtype: int64"
      ]
     },
     "execution_count": 67,
     "metadata": {},
     "output_type": "execute_result"
    },
    {
     "data": {
      "image/png": "[encoded data removed]",
      "text/plain": [
       "<Figure size 432x288 with 1 Axes>"
      ]
     },
     "metadata": {
      "needs_background": "light"
     },
     "output_type": "display_data"
    }
   ],
   "source": [
    "df['text_color_class'] = df['text_color_class'].fillna(\"other\")\n",
    "df['text_color_class'].value_counts()\n",
    "fig_1 = sns.countplot(x = 'background_color_class', data = df, hue = 'class')"
   ]
  },
  {
   "cell_type": "code",
   "execution_count": 68,
   "metadata": {},
   "outputs": [
    {
     "name": "stderr",
     "output_type": "stream",
     "text": [
      "<ipython-input-68-039978c986db>:1: SettingWithCopyWarning: \n",
      "A value is trying to be set on a copy of a slice from a DataFrame.\n",
      "Try using .loc[row_indexer,col_indexer] = value instead\n",
      "\n",
      "See the caveats in the documentation: https://pandas.pydata.org/pandas-docs/stable/user_guide/indexing.html#returning-a-view-versus-a-copy\n",
      "  df_model['text_color_class'] = df['text_color_class']\n"
     ]
    }
   ],
   "source": [
    "df_model['text_color_class'] = df['text_color_class']"
   ]
  },
  {
   "cell_type": "code",
   "execution_count": null,
   "metadata": {},
   "outputs": [],
   "source": [
    "print(df['profile_sidebar_fill_color'].value_counts())"
   ]
  },
  {
   "cell_type": "code",
   "execution_count": 69,
   "metadata": {},
   "outputs": [],
   "source": [
    "# manipulating target variable by putting 0 and 1 values\n",
    "df.loc[df[\"profile_sidebar_fill_color\"] == 'DDEEF6', \"sidebar_color_class\"] = \"DDEEF6\"\n",
    "df.loc[np.logical_or(df[\"profile_sidebar_fill_color\"] == '0',df[\"profile_sidebar_fill_color\"] == '000000') , \"sidebar_color_class\"] = \"000000\"\n",
    "df.loc[df[\"profile_sidebar_fill_color\"] == '407DB0', \"sidebar_color_class\"] = \"407DB0\"\n",
    "df.loc[df[\"profile_sidebar_fill_color\"] == 'EFEFEF', \"sidebar_color_class\"] = \"EFEFEF\"\n",
    "#df.loc[np.logical_and(df[\"profile_background_color\"] != '131516', df[\"profile_background_color\"] != 'C0DEED',df[\"profile_background_color\"] != '0000FF') , \"background_color_class\"] = \"4\""
   ]
  },
  {
   "cell_type": "code",
   "execution_count": 71,
   "metadata": {},
   "outputs": [
    {
     "data": {
      "image/png": "[encoded data removed]",
      "text/plain": [
       "<Figure size 432x288 with 1 Axes>"
      ]
     },
     "metadata": {
      "needs_background": "light"
     },
     "output_type": "display_data"
    }
   ],
   "source": [
    "df['sidebar_color_class'] = df['sidebar_color_class'].fillna('others')\n",
    "fig_1 = sns.countplot(x = 'sidebar_color_class', data = df, hue = 'class')"
   ]
  },
  {
   "cell_type": "code",
   "execution_count": 72,
   "metadata": {},
   "outputs": [
    {
     "name": "stderr",
     "output_type": "stream",
     "text": [
      "<ipython-input-72-4b0baa6aef06>:1: SettingWithCopyWarning: \n",
      "A value is trying to be set on a copy of a slice from a DataFrame.\n",
      "Try using .loc[row_indexer,col_indexer] = value instead\n",
      "\n",
      "See the caveats in the documentation: https://pandas.pydata.org/pandas-docs/stable/user_guide/indexing.html#returning-a-view-versus-a-copy\n",
      "  df_model['sidebar_color_class'] = df['sidebar_color_class']\n"
     ]
    }
   ],
   "source": [
    "df_model['sidebar_color_class'] = df['sidebar_color_class']"
   ]
  },
  {
   "cell_type": "markdown",
   "metadata": {},
   "source": [
    "### testing for hypothesis that newly created variables have significant impact on the class"
   ]
  },
  {
   "cell_type": "code",
   "execution_count": 249,
   "metadata": {},
   "outputs": [],
   "source": [
    "# https://towardsdatascience.com/how-to-test-for-statistically-significant-relationships-between-categorical-variables-with-chi-66c3ebeda7cc"
   ]
  },
  {
   "cell_type": "code",
   "execution_count": null,
   "metadata": {},
   "outputs": [],
   "source": [
    "### create column with value count of class for the pivot table"
   ]
  },
  {
   "cell_type": "code",
   "execution_count": null,
   "metadata": {},
   "outputs": [],
   "source": [
    "df_model['protected'] = df_1['protected']"
   ]
  },
  {
   "cell_type": "code",
   "execution_count": null,
   "metadata": {},
   "outputs": [],
   "source": [
    "pivot_df = pd.crosstab(index = df_model['protected'], columns = df_model['class'])"
   ]
  },
  {
   "cell_type": "markdown",
   "metadata": {},
   "source": [
    "###### Hypothesis: variables 'protected and class are independent'"
   ]
  },
  {
   "cell_type": "code",
   "execution_count": null,
   "metadata": {},
   "outputs": [],
   "source": [
    "chi2, p, dof, ex = chi2_contingency(pivot_df, correction=False)\n",
    "print(chi2, '{:.10f}'.format(p))"
   ]
  },
  {
   "cell_type": "markdown",
   "metadata": {},
   "source": [
    "###### Hypothesis: variables 'background_color_class and class are independent'"
   ]
  },
  {
   "cell_type": "code",
   "execution_count": null,
   "metadata": {},
   "outputs": [],
   "source": [
    "pivot_df = pd.crosstab(index = df_model['background_color_class'], columns = df_model['class'])\n",
    "\n",
    "chi2, p, dof, ex = chi2_contingency(pivot_df, correction=True)\n",
    "print(pivot_df)\n",
    "print(chi2, '{:.10f}'.format(p))"
   ]
  },
  {
   "cell_type": "markdown",
   "metadata": {},
   "source": [
    "###  Variable Encoding for Categorical Variables and Creates features"
   ]
  },
  {
   "cell_type": "code",
   "execution_count": null,
   "metadata": {},
   "outputs": [],
   "source": [
    "### https://scikit-learn.org/stable/modules/generated/sklearn.preprocessing.OneHotEncoder.html"
   ]
  },
  {
   "cell_type": "code",
   "execution_count": 75,
   "metadata": {
    "scrolled": true
   },
   "outputs": [
    {
     "name": "stdout",
     "output_type": "stream",
     "text": [
      "<class 'pandas.core.frame.DataFrame'>\n",
      "Int64Index: 11017 entries, 7248952 to 2910276853\n",
      "Data columns (total 16 columns):\n",
      " #   Column                        Non-Null Count  Dtype  \n",
      "---  ------                        --------------  -----  \n",
      " 0   screen_name                   11017 non-null  object \n",
      " 1   statuses_count                11017 non-null  int64  \n",
      " 2   followers_count               11017 non-null  int64  \n",
      " 3   friends_count                 11017 non-null  int64  \n",
      " 4   favourites_count              11017 non-null  int64  \n",
      " 5   listed_count                  11017 non-null  int64  \n",
      " 6   default_profile               11017 non-null  float64\n",
      " 7   geo_enabled                   11017 non-null  float64\n",
      " 8   description_present           11017 non-null  int64  \n",
      " 9   verified                      11017 non-null  int64  \n",
      " 10  protected                     11017 non-null  int64  \n",
      " 11  url_present                   11017 non-null  float64\n",
      " 12  profile_use_background_image  11017 non-null  float64\n",
      " 13  background_color_class        11017 non-null  object \n",
      " 14  text_color_class              11017 non-null  object \n",
      " 15  sidebar_color_class           11017 non-null  object \n",
      "dtypes: float64(4), int64(8), object(4)\n",
      "memory usage: 1.4+ MB\n"
     ]
    }
   ],
   "source": [
    "df_model.info()"
   ]
  },
  {
   "cell_type": "code",
   "execution_count": 83,
   "metadata": {},
   "outputs": [
    {
     "data": {
      "text/plain": [
       "{0: '000000', 1: '407DB0', 2: 'DDEEF6', 3: 'EFEFEF', 4: 'others'}"
      ]
     },
     "execution_count": 83,
     "metadata": {},
     "output_type": "execute_result"
    }
   ],
   "source": [
    "# Label Encoding for nominal data \n",
    "gle = LabelEncoder()\n",
    "s_color_labels = gle.fit_transform(df_model['sidebar_color_class'])\n",
    "s_color_mappings = {index: label for index, label in \n",
    "                  enumerate(gle.classes_)}\n",
    "s_color_mappings"
   ]
  },
  {
   "cell_type": "code",
   "execution_count": 85,
   "metadata": {
    "scrolled": false
   },
   "outputs": [
    {
     "name": "stderr",
     "output_type": "stream",
     "text": [
      "<ipython-input-85-ea3b686a195a>:1: SettingWithCopyWarning: \n",
      "A value is trying to be set on a copy of a slice from a DataFrame.\n",
      "Try using .loc[row_indexer,col_indexer] = value instead\n",
      "\n",
      "See the caveats in the documentation: https://pandas.pydata.org/pandas-docs/stable/user_guide/indexing.html#returning-a-view-versus-a-copy\n",
      "  df_model['s_color_labels'] = s_color_labels\n"
     ]
    }
   ],
   "source": [
    "df_model['s_color_labels'] = s_color_labels"
   ]
  },
  {
   "cell_type": "code",
   "execution_count": 91,
   "metadata": {},
   "outputs": [],
   "source": [
    "gen_ohe = OneHotEncoder()\n",
    "s_color_f_arr = gen_ohe.fit_transform(\n",
    "                              df_model[['s_color_labels']]).toarray()\n",
    "feature_labels = list(gle.classes_)\n",
    "gen_features = pd.DataFrame(s_color_f_arr, \n",
    "                            columns=feature_labels)"
   ]
  },
  {
   "cell_type": "code",
   "execution_count": 106,
   "metadata": {},
   "outputs": [
    {
     "data": {
      "text/html": [
       "<div>\n",
       "<style scoped>\n",
       "    .dataframe tbody tr th:only-of-type {\n",
       "        vertical-align: middle;\n",
       "    }\n",
       "\n",
       "    .dataframe tbody tr th {\n",
       "        vertical-align: top;\n",
       "    }\n",
       "\n",
       "    .dataframe thead th {\n",
       "        text-align: right;\n",
       "    }\n",
       "</style>\n",
       "<table border=\"1\" class=\"dataframe\">\n",
       "  <thead>\n",
       "    <tr style=\"text-align: right;\">\n",
       "      <th></th>\n",
       "      <th>000000</th>\n",
       "      <th>407DB0</th>\n",
       "      <th>DDEEF6</th>\n",
       "      <th>EFEFEF</th>\n",
       "      <th>others</th>\n",
       "    </tr>\n",
       "  </thead>\n",
       "  <tbody>\n",
       "    <tr>\n",
       "      <th>0</th>\n",
       "      <td>0.0</td>\n",
       "      <td>0.0</td>\n",
       "      <td>0.0</td>\n",
       "      <td>0.0</td>\n",
       "      <td>1.0</td>\n",
       "    </tr>\n",
       "    <tr>\n",
       "      <th>1</th>\n",
       "      <td>0.0</td>\n",
       "      <td>0.0</td>\n",
       "      <td>0.0</td>\n",
       "      <td>0.0</td>\n",
       "      <td>1.0</td>\n",
       "    </tr>\n",
       "    <tr>\n",
       "      <th>2</th>\n",
       "      <td>0.0</td>\n",
       "      <td>0.0</td>\n",
       "      <td>0.0</td>\n",
       "      <td>0.0</td>\n",
       "      <td>1.0</td>\n",
       "    </tr>\n",
       "    <tr>\n",
       "      <th>3</th>\n",
       "      <td>0.0</td>\n",
       "      <td>0.0</td>\n",
       "      <td>0.0</td>\n",
       "      <td>0.0</td>\n",
       "      <td>1.0</td>\n",
       "    </tr>\n",
       "    <tr>\n",
       "      <th>4</th>\n",
       "      <td>0.0</td>\n",
       "      <td>0.0</td>\n",
       "      <td>0.0</td>\n",
       "      <td>0.0</td>\n",
       "      <td>1.0</td>\n",
       "    </tr>\n",
       "  </tbody>\n",
       "</table>\n",
       "</div>"
      ],
      "text/plain": [
       "   000000  407DB0  DDEEF6  EFEFEF  others\n",
       "0     0.0     0.0     0.0     0.0     1.0\n",
       "1     0.0     0.0     0.0     0.0     1.0\n",
       "2     0.0     0.0     0.0     0.0     1.0\n",
       "3     0.0     0.0     0.0     0.0     1.0\n",
       "4     0.0     0.0     0.0     0.0     1.0"
      ]
     },
     "execution_count": 106,
     "metadata": {},
     "output_type": "execute_result"
    }
   ],
   "source": [
    "gen_features.head()"
   ]
  },
  {
   "cell_type": "code",
   "execution_count": 116,
   "metadata": {},
   "outputs": [
    {
     "data": {
      "text/plain": [
       "(11017, 17)"
      ]
     },
     "execution_count": 116,
     "metadata": {},
     "output_type": "execute_result"
    }
   ],
   "source": [
    "df_model.shape"
   ]
  },
  {
   "cell_type": "code",
   "execution_count": 117,
   "metadata": {},
   "outputs": [],
   "source": [
    "df_model_1 = pd.concat([df_model.reset_index(drop=True), gen_features], axis = 1)"
   ]
  },
  {
   "cell_type": "code",
   "execution_count": 121,
   "metadata": {
    "scrolled": false
   },
   "outputs": [
    {
     "name": "stdout",
     "output_type": "stream",
     "text": [
      "<class 'pandas.core.frame.DataFrame'>\n",
      "RangeIndex: 11017 entries, 0 to 11016\n",
      "Data columns (total 22 columns):\n",
      " #   Column                        Non-Null Count  Dtype  \n",
      "---  ------                        --------------  -----  \n",
      " 0   screen_name                   11017 non-null  object \n",
      " 1   statuses_count                11017 non-null  int64  \n",
      " 2   followers_count               11017 non-null  int64  \n",
      " 3   friends_count                 11017 non-null  int64  \n",
      " 4   favourites_count              11017 non-null  int64  \n",
      " 5   listed_count                  11017 non-null  int64  \n",
      " 6   default_profile               11017 non-null  float64\n",
      " 7   geo_enabled                   11017 non-null  float64\n",
      " 8   description_present           11017 non-null  int64  \n",
      " 9   verified                      11017 non-null  int64  \n",
      " 10  protected                     11017 non-null  int64  \n",
      " 11  url_present                   11017 non-null  float64\n",
      " 12  profile_use_background_image  11017 non-null  float64\n",
      " 13  background_color_class        11017 non-null  object \n",
      " 14  text_color_class              11017 non-null  object \n",
      " 15  sidebar_color_class           11017 non-null  object \n",
      " 16  s_color_labels                11017 non-null  int64  \n",
      " 17  000000                        11017 non-null  float64\n",
      " 18  407DB0                        11017 non-null  float64\n",
      " 19  DDEEF6                        11017 non-null  float64\n",
      " 20  EFEFEF                        11017 non-null  float64\n",
      " 21  others                        11017 non-null  float64\n",
      "dtypes: float64(9), int64(9), object(4)\n",
      "memory usage: 1.8+ MB\n"
     ]
    }
   ],
   "source": [
    "df_model_1.info()"
   ]
  },
  {
   "cell_type": "code",
   "execution_count": 126,
   "metadata": {},
   "outputs": [],
   "source": [
    "df_model_1.drop(labels = ['s_color_labels', 'sidebar_color_class', 'text_color_class', 'background_color_class'],axis = 1, inplace = True)"
   ]
  },
  {
   "cell_type": "markdown",
   "metadata": {},
   "source": [
    "### Exploratory Data Analysis on raw data for feature selection and data development"
   ]
  },
  {
   "cell_type": "code",
   "execution_count": null,
   "metadata": {},
   "outputs": [],
   "source": []
  },
  {
   "cell_type": "code",
   "execution_count": null,
   "metadata": {},
   "outputs": [],
   "source": []
  },
  {
   "cell_type": "code",
   "execution_count": null,
   "metadata": {},
   "outputs": [],
   "source": []
  },
  {
   "cell_type": "code",
   "execution_count": null,
   "metadata": {},
   "outputs": [],
   "source": []
  },
  {
   "cell_type": "code",
   "execution_count": null,
   "metadata": {},
   "outputs": [],
   "source": []
  },
  {
   "cell_type": "code",
   "execution_count": null,
   "metadata": {},
   "outputs": [],
   "source": []
  },
  {
   "cell_type": "markdown",
   "metadata": {},
   "source": [
    "### Logistics model Training and testing"
   ]
  },
  {
   "cell_type": "code",
   "execution_count": 231,
   "metadata": {},
   "outputs": [],
   "source": [
    "df_model_1['class']= df_1['class'].reset_index(drop =True)"
   ]
  },
  {
   "cell_type": "code",
   "execution_count": 233,
   "metadata": {},
   "outputs": [],
   "source": [
    "#features\n",
    "X=df_model_1.drop(columns = ['class', 'screen_name'], axis =1)\n",
    "#target variable\n",
    "y=df_model_1[['class']].values"
   ]
  },
  {
   "cell_type": "markdown",
   "metadata": {},
   "source": [
    "##### Training the model on raw data"
   ]
  },
  {
   "cell_type": "code",
   "execution_count": 234,
   "metadata": {},
   "outputs": [
    {
     "name": "stdout",
     "output_type": "stream",
     "text": [
      "Number transactions X_train dataset:  (7711, 17)\n",
      "Number transactions y_train dataset:  (7711, 1)\n",
      "Number transactions X_test dataset:  (3306, 17)\n",
      "Number transactions y_test dataset:  (3306, 1)\n"
     ]
    }
   ],
   "source": [
    "# split into 70:30 ration \n",
    "X_train, X_test, y_train, y_test = train_test_split(X, y, test_size = 0.3, random_state = 0) \n",
    "\n",
    "# describes info about train and test set \n",
    "print(\"Number transactions X_train dataset: \", X_train.shape) \n",
    "print(\"Number transactions y_train dataset: \", y_train.shape) \n",
    "print(\"Number transactions X_test dataset: \", X_test.shape) \n",
    "print(\"Number transactions y_test dataset: \", y_test.shape) "
   ]
  },
  {
   "cell_type": "code",
   "execution_count": 235,
   "metadata": {},
   "outputs": [
    {
     "name": "stderr",
     "output_type": "stream",
     "text": [
      "/home/lenovo/virtualenv/venv/lib/python3.8/site-packages/sklearn/utils/validation.py:63: DataConversionWarning: A column-vector y was passed when a 1d array was expected. Please change the shape of y to (n_samples, ), for example using ravel().\n",
      "  return f(*args, **kwargs)\n"
     ]
    },
    {
     "name": "stdout",
     "output_type": "stream",
     "text": [
      "              precision    recall  f1-score   support\n",
      "\n",
      "           0       0.97      0.69      0.81      1095\n",
      "           1       0.87      0.99      0.93      2211\n",
      "\n",
      "    accuracy                           0.89      3306\n",
      "   macro avg       0.92      0.84      0.87      3306\n",
      "weighted avg       0.90      0.89      0.89      3306\n",
      "\n"
     ]
    },
    {
     "name": "stderr",
     "output_type": "stream",
     "text": [
      "/home/lenovo/virtualenv/venv/lib/python3.8/site-packages/sklearn/linear_model/_logistic.py:763: ConvergenceWarning: lbfgs failed to converge (status=1):\n",
      "STOP: TOTAL NO. of ITERATIONS REACHED LIMIT.\n",
      "\n",
      "Increase the number of iterations (max_iter) or scale the data as shown in:\n",
      "    https://scikit-learn.org/stable/modules/preprocessing.html\n",
      "Please also refer to the documentation for alternative solver options:\n",
      "    https://scikit-learn.org/stable/modules/linear_model.html#logistic-regression\n",
      "  n_iter_i = _check_optimize_result(\n"
     ]
    }
   ],
   "source": [
    "# train the model on train set\n",
    "lr1 = LogisticRegression() \n",
    "fit_model = lr1.fit(X_train, y_train)\n",
    "predictions = lr1.predict(X_test) \n",
    "\n",
    "# print classification report \n",
    "print(classification_report(y_test, predictions)) "
   ]
  },
  {
   "cell_type": "markdown",
   "metadata": {},
   "source": [
    "##### Using Oversampling technique to increase the label count for training data"
   ]
  },
  {
   "cell_type": "code",
   "execution_count": 236,
   "metadata": {
    "scrolled": true
   },
   "outputs": [
    {
     "name": "stdout",
     "output_type": "stream",
     "text": [
      "Before OverSampling, counts of label '1': [5332]\n",
      "Before OverSampling, counts of label '0': [2379] \n",
      "\n",
      "After OverSampling, the shape of train_X: (10664, 17)\n",
      "After OverSampling, the shape of train_y: (10664,) \n",
      "\n",
      "After OverSampling, counts of label '1': 5332\n",
      "After OverSampling, counts of label '0': 5332\n"
     ]
    }
   ],
   "source": [
    "print(\"Before OverSampling, counts of label '1': {}\".format(sum(y_train == 1))) \n",
    "print(\"Before OverSampling, counts of label '0': {} \\n\".format(sum(y_train == 0))) \n",
    "\n",
    "sm = SMOTE(random_state = 2) \n",
    "X_train_res, y_train_res = sm.fit_resample(X_train, y_train.ravel()) \n",
    "\n",
    "print('After OverSampling, the shape of train_X: {}'.format(X_train_res.shape)) \n",
    "print('After OverSampling, the shape of train_y: {} \\n'.format(y_train_res.shape)) \n",
    "\n",
    "print(\"After OverSampling, counts of label '1': {}\".format(sum(y_train_res == 1))) \n",
    "print(\"After OverSampling, counts of label '0': {}\".format(sum(y_train_res == 0))) "
   ]
  },
  {
   "cell_type": "code",
   "execution_count": 237,
   "metadata": {},
   "outputs": [
    {
     "name": "stdout",
     "output_type": "stream",
     "text": [
      "              precision    recall  f1-score   support\n",
      "\n",
      "           0       0.96      0.78      0.86      1095\n",
      "           1       0.90      0.99      0.94      2211\n",
      "\n",
      "    accuracy                           0.92      3306\n",
      "   macro avg       0.93      0.88      0.90      3306\n",
      "weighted avg       0.92      0.92      0.91      3306\n",
      "\n"
     ]
    },
    {
     "name": "stderr",
     "output_type": "stream",
     "text": [
      "/home/lenovo/virtualenv/venv/lib/python3.8/site-packages/sklearn/linear_model/_logistic.py:763: ConvergenceWarning: lbfgs failed to converge (status=1):\n",
      "STOP: TOTAL NO. of ITERATIONS REACHED LIMIT.\n",
      "\n",
      "Increase the number of iterations (max_iter) or scale the data as shown in:\n",
      "    https://scikit-learn.org/stable/modules/preprocessing.html\n",
      "Please also refer to the documentation for alternative solver options:\n",
      "    https://scikit-learn.org/stable/modules/linear_model.html#logistic-regression\n",
      "  n_iter_i = _check_optimize_result(\n"
     ]
    }
   ],
   "source": [
    "# train the model on train set\n",
    "lr1 = LogisticRegression() \n",
    "fit_model = lr1.fit(X_train_res, y_train_res)\n",
    "predictions = lr1.predict(X_test) \n",
    "\n",
    "\n",
    "# print classification report \n",
    "print(classification_report(y_test, predictions)) "
   ]
  },
  {
   "cell_type": "markdown",
   "metadata": {},
   "source": [
    "##### Undersampling to assess the model accuracy when less data is present "
   ]
  },
  {
   "cell_type": "code",
   "execution_count": 238,
   "metadata": {},
   "outputs": [
    {
     "name": "stdout",
     "output_type": "stream",
     "text": [
      "Before Undersampling, counts of label '1': [5332]\n",
      "Before Undersampling, counts of label '0': [2379] \n",
      "\n",
      "After Undersampling, the shape of train_X: (4758, 17)\n",
      "After Undersampling, the shape of train_y: (4758,) \n",
      "\n",
      "After Undersampling, counts of label '1': 2379\n",
      "After Undersampling, counts of label '0': 2379\n"
     ]
    }
   ],
   "source": [
    "print(\"Before Undersampling, counts of label '1': {}\".format(sum(y_train == 1))) \n",
    "print(\"Before Undersampling, counts of label '0': {} \\n\".format(sum(y_train == 0))) \n",
    "\n",
    "# apply near miss \n",
    "from imblearn.under_sampling import NearMiss \n",
    "nr = NearMiss() \n",
    "\n",
    "X_train_miss, y_train_miss = nr.fit_resample(X_train, y_train.ravel()) \n",
    "\n",
    "print('After Undersampling, the shape of train_X: {}'.format(X_train_miss.shape)) \n",
    "print('After Undersampling, the shape of train_y: {} \\n'.format(y_train_miss.shape)) \n",
    "\n",
    "print(\"After Undersampling, counts of label '1': {}\".format(sum(y_train_miss == 1))) \n",
    "print(\"After Undersampling, counts of label '0': {}\".format(sum(y_train_miss == 0))) "
   ]
  },
  {
   "cell_type": "code",
   "execution_count": 240,
   "metadata": {
    "scrolled": true
   },
   "outputs": [
    {
     "name": "stderr",
     "output_type": "stream",
     "text": [
      "/home/lenovo/virtualenv/venv/lib/python3.8/site-packages/sklearn/linear_model/_logistic.py:763: ConvergenceWarning: lbfgs failed to converge (status=1):\n",
      "STOP: TOTAL NO. of ITERATIONS REACHED LIMIT.\n",
      "\n",
      "Increase the number of iterations (max_iter) or scale the data as shown in:\n",
      "    https://scikit-learn.org/stable/modules/preprocessing.html\n",
      "Please also refer to the documentation for alternative solver options:\n",
      "    https://scikit-learn.org/stable/modules/linear_model.html#logistic-regression\n",
      "  n_iter_i = _check_optimize_result(\n"
     ]
    },
    {
     "data": {
      "text/plain": [
       "LogisticRegression()"
      ]
     },
     "execution_count": 240,
     "metadata": {},
     "output_type": "execute_result"
    },
    {
     "name": "stdout",
     "output_type": "stream",
     "text": [
      "              precision    recall  f1-score   support\n",
      "\n",
      "           0       0.51      0.99      0.67      1095\n",
      "           1       0.99      0.53      0.69      2211\n",
      "\n",
      "    accuracy                           0.68      3306\n",
      "   macro avg       0.75      0.76      0.68      3306\n",
      "weighted avg       0.83      0.68      0.68      3306\n",
      "\n"
     ]
    }
   ],
   "source": [
    "# train the model on train set \n",
    "lr2 = LogisticRegression() \n",
    "lr2.fit(X_train_miss, y_train_miss) \n",
    "predictions = lr2.predict(X_test) \n",
    "\n",
    "# print classification report \n",
    "print(classification_report(y_test, predictions)) "
   ]
  },
  {
   "cell_type": "markdown",
   "metadata": {},
   "source": [
    "##### Fitting the model on log transformed data (variables with large range) and checking if it improves the accuracies"
   ]
  },
  {
   "cell_type": "code",
   "execution_count": 241,
   "metadata": {
    "scrolled": true
   },
   "outputs": [],
   "source": [
    "# log transformation of variables with large values for better fitting of model.\n",
    "\n",
    "X = (pd.DataFrame([np.log(X['statuses_count']+1), np.log(X['followers_count']+1), np.log(X['friends_count']+1), np.log(X['favourites_count']+1), np.log(X['listed_count']+1), X['default_profile'], X['geo_enabled'], X['verified'], X['protected'], X['url_present'], X['profile_use_background_image'], X['000000'], X['407DB0'], X['DDEEF6'], X['EFEFEF'], X['others']]))\n",
    "X = np.transpose(X)\n"
   ]
  },
  {
   "cell_type": "code",
   "execution_count": 242,
   "metadata": {},
   "outputs": [
    {
     "name": "stdout",
     "output_type": "stream",
     "text": [
      "Number transactions X_train dataset:  (7711, 16)\n",
      "Number transactions y_train dataset:  (7711, 1)\n",
      "Number transactions X_test dataset:  (3306, 16)\n",
      "Number transactions y_test dataset:  (3306, 1)\n"
     ]
    }
   ],
   "source": [
    "# split into 70:30 ration \n",
    "X_train, X_test, y_train, y_test = train_test_split(X, y, test_size = 0.3, random_state = 0) \n",
    "\n",
    "# describes info about train and test set \n",
    "print(\"Number transactions X_train dataset: \", X_train.shape) \n",
    "print(\"Number transactions y_train dataset: \", y_train.shape) \n",
    "print(\"Number transactions X_test dataset: \", X_test.shape) \n",
    "print(\"Number transactions y_test dataset: \", y_test.shape) "
   ]
  },
  {
   "cell_type": "code",
   "execution_count": 243,
   "metadata": {},
   "outputs": [
    {
     "name": "stderr",
     "output_type": "stream",
     "text": [
      "/home/lenovo/virtualenv/venv/lib/python3.8/site-packages/sklearn/utils/validation.py:63: DataConversionWarning: A column-vector y was passed when a 1d array was expected. Please change the shape of y to (n_samples, ), for example using ravel().\n",
      "  return f(*args, **kwargs)\n"
     ]
    },
    {
     "name": "stdout",
     "output_type": "stream",
     "text": [
      "              precision    recall  f1-score   support\n",
      "\n",
      "           0       0.98      0.95      0.96      1095\n",
      "           1       0.97      0.99      0.98      2211\n",
      "\n",
      "    accuracy                           0.98      3306\n",
      "   macro avg       0.98      0.97      0.97      3306\n",
      "weighted avg       0.98      0.98      0.98      3306\n",
      "\n"
     ]
    },
    {
     "name": "stderr",
     "output_type": "stream",
     "text": [
      "/home/lenovo/virtualenv/venv/lib/python3.8/site-packages/sklearn/linear_model/_logistic.py:763: ConvergenceWarning: lbfgs failed to converge (status=1):\n",
      "STOP: TOTAL NO. of ITERATIONS REACHED LIMIT.\n",
      "\n",
      "Increase the number of iterations (max_iter) or scale the data as shown in:\n",
      "    https://scikit-learn.org/stable/modules/preprocessing.html\n",
      "Please also refer to the documentation for alternative solver options:\n",
      "    https://scikit-learn.org/stable/modules/linear_model.html#logistic-regression\n",
      "  n_iter_i = _check_optimize_result(\n"
     ]
    }
   ],
   "source": [
    "# train the model on train set\n",
    "lr1 = LogisticRegression() \n",
    "fit_model = lr1.fit(X_train, y_train)\n",
    "predictions = lr1.predict(X_test) \n",
    "\n",
    "# print classification report \n",
    "print(classification_report(y_test, predictions)) "
   ]
  }
 ],
 "metadata": {
  "kernelspec": {
   "display_name": "Python 3",
   "language": "python",
   "name": "python3"
  },
  "language_info": {
   "codemirror_mode": {
    "name": "ipython",
    "version": 3
   },
   "file_extension": ".py",
   "mimetype": "text/x-python",
   "name": "python",
   "nbconvert_exporter": "python",
   "pygments_lexer": "ipython3",
   "version": "3.8.5"
  }
 },
 "nbformat": 4,
 "nbformat_minor": 4
}
