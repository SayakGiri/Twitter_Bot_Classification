{
 "cells": [
  {
   "cell_type": "markdown",
   "metadata": {},
   "source": [
    "\n",
    "### Importing Packages for the Project"
   ]
  },
  {
   "cell_type": "code",
   "execution_count": 1,
   "metadata": {},
   "outputs": [],
   "source": [
    "# Basic packages required for data manipulation and Feature Engineering\n",
    "\n",
    "import pandas as pd\n",
    "import numpy as np\n",
    "# for plotting graphs\n",
    "import matplotlib.pyplot as plt\n",
    "import seaborn as sns\n",
    "from mpl_toolkits.mplot3d import Axes3D\n",
    "import plotly.express as px\n",
    "import pylab as py\n",
    "\n",
    "# statistical package for conducting hypothesis tests and other tasks \n",
    "import statsmodels.api as stm\n",
    "from scipy.stats import chi2_contingency\n",
    "from scipy.stats import norm\n",
    "\n",
    "#package for model building\n",
    "from sklearn.model_selection import train_test_split \n",
    "from sklearn.linear_model import LogisticRegression \n",
    "from sklearn.preprocessing import StandardScaler \n",
    "from sklearn.metrics import confusion_matrix, classification_report \n"
   ]
  },
  {
   "cell_type": "code",
   "execution_count": 2,
   "metadata": {},
   "outputs": [],
   "source": [
    "#package for Feature Engeeniring/Categorical Data Transformation\n",
    "from sklearn.preprocessing import OneHotEncoder\n",
    "from sklearn.preprocessing import LabelEncoder\n",
    "\n",
    "\n",
    "# import SMOTE module from imblearn library \n",
    "# pip install imblearn (if you don't have imblearn in your system) \n",
    "from imblearn.over_sampling import SMOTE"
   ]
  },
  {
   "cell_type": "code",
   "execution_count": 3,
   "metadata": {},
   "outputs": [],
   "source": [
    "from IPython.core.interactiveshell import InteractiveShell\n",
    "InteractiveShell.ast_node_interactivity = \"all\""
   ]
  },
  {
   "cell_type": "code",
   "execution_count": null,
   "metadata": {},
   "outputs": [],
   "source": [
    "from scipy import stats"
   ]
  },
  {
   "cell_type": "markdown",
   "metadata": {},
   "source": [
    "### Reading the data ustilised for training the model"
   ]
  },
  {
   "cell_type": "code",
   "execution_count": 4,
   "metadata": {},
   "outputs": [],
   "source": [
    "#df=pd.read_csv(\"D:/Sitanshu/Python/Twitter_Bot_Classification/finaldata.csv\")\n",
    "df=pd.read_csv(\"~/virtualenv/Twitter_Project/Twitter_Bot_Classification/finaldata.csv\")\n",
    "#df_1=pd.read_csv(\"D:/Sitanshu/Python/Twitter_Bot_Classification/model_data.csv\")\n",
    "df_1=pd.read_csv(\"~/virtualenv/Twitter_Project/Twitter_Bot_Classification/model_data.csv\")\n",
    "df_1 = df_1.drop('Unnamed: 0', axis =1)\n",
    "df.drop(['Unnamed: 0', 'crawled_at', 'contributors_enabled','testset', 'random', 'default_profile_image', 'notifications', 'following', 'follow_request_sent', 'is_translator'], axis = 1, inplace = True)"
   ]
  },
  {
   "cell_type": "code",
   "execution_count": null,
   "metadata": {
    "scrolled": true
   },
   "outputs": [],
   "source": [
    "df.info()"
   ]
  },
  {
   "cell_type": "code",
   "execution_count": null,
   "metadata": {},
   "outputs": [],
   "source": [
    "#if not using df_1 then uncomment\n",
    "\n",
    "# manipulating target variable by putting 0 and 1 values\n",
    "#df.loc[df[\"Category\"] == 'genuine', \"class\"] = \"0\"\n",
    "#df.loc[df[\"Category\"] != 'genuine', \"class\"] = \"1\""
   ]
  },
  {
   "cell_type": "code",
   "execution_count": 5,
   "metadata": {},
   "outputs": [],
   "source": [
    "df_model = df[['id','screen_name','statuses_count', 'followers_count', 'friends_count', 'favourites_count', 'listed_count']]"
   ]
  },
  {
   "cell_type": "code",
   "execution_count": null,
   "metadata": {
    "scrolled": true
   },
   "outputs": [],
   "source": [
    "# Dropping id column is viable option as it doesn't add value to the data\n",
    "#df_model.set_index('id', inplace = True)\n",
    "#df.set_index('id', inplace = True)\n",
    "#df_1.set_index('id', inplace = True)"
   ]
  },
  {
   "cell_type": "markdown",
   "metadata": {},
   "source": [
    "##### Ignore warning should be implemented or not?"
   ]
  },
  {
   "cell_type": "code",
   "execution_count": 7,
   "metadata": {},
   "outputs": [
    {
     "name": "stderr",
     "output_type": "stream",
     "text": [
      "<ipython-input-7-b96867240a43>:1: SettingWithCopyWarning: \n",
      "A value is trying to be set on a copy of a slice from a DataFrame.\n",
      "Try using .loc[row_indexer,col_indexer] = value instead\n",
      "\n",
      "See the caveats in the documentation: https://pandas.pydata.org/pandas-docs/stable/user_guide/indexing.html#returning-a-view-versus-a-copy\n",
      "  df_model['description_present'] = df_1['description_presence']\n",
      "<ipython-input-7-b96867240a43>:2: SettingWithCopyWarning: \n",
      "A value is trying to be set on a copy of a slice from a DataFrame.\n",
      "Try using .loc[row_indexer,col_indexer] = value instead\n",
      "\n",
      "See the caveats in the documentation: https://pandas.pydata.org/pandas-docs/stable/user_guide/indexing.html#returning-a-view-versus-a-copy\n",
      "  df_model['age'] = df_1['age']\n",
      "<ipython-input-7-b96867240a43>:3: SettingWithCopyWarning: \n",
      "A value is trying to be set on a copy of a slice from a DataFrame.\n",
      "Try using .loc[row_indexer,col_indexer] = value instead\n",
      "\n",
      "See the caveats in the documentation: https://pandas.pydata.org/pandas-docs/stable/user_guide/indexing.html#returning-a-view-versus-a-copy\n",
      "  df_model['class'] = df_1['class']\n"
     ]
    }
   ],
   "source": [
    "df_model['description_present'] = df_1['description_presence']\n",
    "df_model['age'] = df_1['age']\n",
    "df_model['class'] = df_1['class']\n",
    "df['class'] = df_1['class']"
   ]
  },
  {
   "cell_type": "code",
   "execution_count": null,
   "metadata": {},
   "outputs": [],
   "source": [
    "#dropping column with description as we are not working on language and text recognition for the model.\n",
    "#df = df.drop(['description'], axis = 1)"
   ]
  },
  {
   "cell_type": "markdown",
   "metadata": {},
   "source": [
    "### Using EDA to create new Features"
   ]
  },
  {
   "cell_type": "code",
   "execution_count": null,
   "metadata": {},
   "outputs": [],
   "source": [
    "df.info()"
   ]
  },
  {
   "cell_type": "code",
   "execution_count": 8,
   "metadata": {},
   "outputs": [
    {
     "data": {
      "text/html": [
       "<div>\n",
       "<style scoped>\n",
       "    .dataframe tbody tr th:only-of-type {\n",
       "        vertical-align: middle;\n",
       "    }\n",
       "\n",
       "    .dataframe tbody tr th {\n",
       "        vertical-align: top;\n",
       "    }\n",
       "\n",
       "    .dataframe thead th {\n",
       "        text-align: right;\n",
       "    }\n",
       "</style>\n",
       "<table border=\"1\" class=\"dataframe\">\n",
       "  <thead>\n",
       "    <tr style=\"text-align: right;\">\n",
       "      <th></th>\n",
       "      <th>id</th>\n",
       "      <th>statuses_count</th>\n",
       "      <th>followers_count</th>\n",
       "      <th>friends_count</th>\n",
       "      <th>favourites_count</th>\n",
       "      <th>listed_count</th>\n",
       "      <th>default_profile</th>\n",
       "      <th>geo_enabled</th>\n",
       "      <th>profile_use_background_image</th>\n",
       "      <th>profile_background_tile</th>\n",
       "      <th>utc_offset</th>\n",
       "      <th>protected</th>\n",
       "      <th>verified</th>\n",
       "      <th>class</th>\n",
       "    </tr>\n",
       "  </thead>\n",
       "  <tbody>\n",
       "    <tr>\n",
       "      <th>count</th>\n",
       "      <td>11017.00000</td>\n",
       "      <td>11017.00000</td>\n",
       "      <td>11017.00000</td>\n",
       "      <td>11017.00000</td>\n",
       "      <td>11017.00000</td>\n",
       "      <td>11017.00000</td>\n",
       "      <td>1477.00000</td>\n",
       "      <td>3294.00000</td>\n",
       "      <td>9503.00000</td>\n",
       "      <td>5331.00000</td>\n",
       "      <td>5015.00000</td>\n",
       "      <td>78.00000</td>\n",
       "      <td>11.00000</td>\n",
       "      <td>11017.00000</td>\n",
       "    </tr>\n",
       "    <tr>\n",
       "      <th>mean</th>\n",
       "      <td>1235671181.91831</td>\n",
       "      <td>6581.37388</td>\n",
       "      <td>1126.98212</td>\n",
       "      <td>656.01008</td>\n",
       "      <td>1492.33857</td>\n",
       "      <td>14.55051</td>\n",
       "      <td>1.00000</td>\n",
       "      <td>1.00000</td>\n",
       "      <td>1.00000</td>\n",
       "      <td>1.00000</td>\n",
       "      <td>-5901.95414</td>\n",
       "      <td>1.00000</td>\n",
       "      <td>1.00000</td>\n",
       "      <td>0.68467</td>\n",
       "    </tr>\n",
       "    <tr>\n",
       "      <th>std</th>\n",
       "      <td>1084879756.90642</td>\n",
       "      <td>19725.68212</td>\n",
       "      <td>30698.01764</td>\n",
       "      <td>3039.02263</td>\n",
       "      <td>6856.57435</td>\n",
       "      <td>304.79843</td>\n",
       "      <td>0.00000</td>\n",
       "      <td>0.00000</td>\n",
       "      <td>0.00000</td>\n",
       "      <td>0.00000</td>\n",
       "      <td>18906.16617</td>\n",
       "      <td>0.00000</td>\n",
       "      <td>0.00000</td>\n",
       "      <td>0.46467</td>\n",
       "    </tr>\n",
       "    <tr>\n",
       "      <th>min</th>\n",
       "      <td>678033.00000</td>\n",
       "      <td>0.00000</td>\n",
       "      <td>0.00000</td>\n",
       "      <td>0.00000</td>\n",
       "      <td>0.00000</td>\n",
       "      <td>0.00000</td>\n",
       "      <td>1.00000</td>\n",
       "      <td>1.00000</td>\n",
       "      <td>1.00000</td>\n",
       "      <td>1.00000</td>\n",
       "      <td>-39600.00000</td>\n",
       "      <td>1.00000</td>\n",
       "      <td>1.00000</td>\n",
       "      <td>0.00000</td>\n",
       "    </tr>\n",
       "    <tr>\n",
       "      <th>25%</th>\n",
       "      <td>106849778.00000</td>\n",
       "      <td>46.00000</td>\n",
       "      <td>6.00000</td>\n",
       "      <td>40.00000</td>\n",
       "      <td>0.00000</td>\n",
       "      <td>0.00000</td>\n",
       "      <td>1.00000</td>\n",
       "      <td>1.00000</td>\n",
       "      <td>1.00000</td>\n",
       "      <td>1.00000</td>\n",
       "      <td>-18000.00000</td>\n",
       "      <td>1.00000</td>\n",
       "      <td>1.00000</td>\n",
       "      <td>0.00000</td>\n",
       "    </tr>\n",
       "    <tr>\n",
       "      <th>50%</th>\n",
       "      <td>633895744.00000</td>\n",
       "      <td>99.00000</td>\n",
       "      <td>131.00000</td>\n",
       "      <td>202.00000</td>\n",
       "      <td>0.00000</td>\n",
       "      <td>1.00000</td>\n",
       "      <td>1.00000</td>\n",
       "      <td>1.00000</td>\n",
       "      <td>1.00000</td>\n",
       "      <td>1.00000</td>\n",
       "      <td>-14400.00000</td>\n",
       "      <td>1.00000</td>\n",
       "      <td>1.00000</td>\n",
       "      <td>1.00000</td>\n",
       "    </tr>\n",
       "    <tr>\n",
       "      <th>75%</th>\n",
       "      <td>2360091846.00000</td>\n",
       "      <td>4272.00000</td>\n",
       "      <td>520.00000</td>\n",
       "      <td>542.00000</td>\n",
       "      <td>196.00000</td>\n",
       "      <td>5.00000</td>\n",
       "      <td>1.00000</td>\n",
       "      <td>1.00000</td>\n",
       "      <td>1.00000</td>\n",
       "      <td>1.00000</td>\n",
       "      <td>10800.00000</td>\n",
       "      <td>1.00000</td>\n",
       "      <td>1.00000</td>\n",
       "      <td>1.00000</td>\n",
       "    </tr>\n",
       "    <tr>\n",
       "      <th>max</th>\n",
       "      <td>4331279781.00000</td>\n",
       "      <td>399555.00000</td>\n",
       "      <td>2991573.00000</td>\n",
       "      <td>211890.00000</td>\n",
       "      <td>313954.00000</td>\n",
       "      <td>24348.00000</td>\n",
       "      <td>1.00000</td>\n",
       "      <td>1.00000</td>\n",
       "      <td>1.00000</td>\n",
       "      <td>1.00000</td>\n",
       "      <td>46800.00000</td>\n",
       "      <td>1.00000</td>\n",
       "      <td>1.00000</td>\n",
       "      <td>1.00000</td>\n",
       "    </tr>\n",
       "  </tbody>\n",
       "</table>\n",
       "</div>"
      ],
      "text/plain": [
       "                    id  statuses_count  followers_count  friends_count  \\\n",
       "count      11017.00000     11017.00000      11017.00000    11017.00000   \n",
       "mean  1235671181.91831      6581.37388       1126.98212      656.01008   \n",
       "std   1084879756.90642     19725.68212      30698.01764     3039.02263   \n",
       "min       678033.00000         0.00000          0.00000        0.00000   \n",
       "25%    106849778.00000        46.00000          6.00000       40.00000   \n",
       "50%    633895744.00000        99.00000        131.00000      202.00000   \n",
       "75%   2360091846.00000      4272.00000        520.00000      542.00000   \n",
       "max   4331279781.00000    399555.00000    2991573.00000   211890.00000   \n",
       "\n",
       "       favourites_count  listed_count  default_profile  geo_enabled  \\\n",
       "count       11017.00000   11017.00000       1477.00000   3294.00000   \n",
       "mean         1492.33857      14.55051          1.00000      1.00000   \n",
       "std          6856.57435     304.79843          0.00000      0.00000   \n",
       "min             0.00000       0.00000          1.00000      1.00000   \n",
       "25%             0.00000       0.00000          1.00000      1.00000   \n",
       "50%             0.00000       1.00000          1.00000      1.00000   \n",
       "75%           196.00000       5.00000          1.00000      1.00000   \n",
       "max        313954.00000   24348.00000          1.00000      1.00000   \n",
       "\n",
       "       profile_use_background_image  profile_background_tile   utc_offset  \\\n",
       "count                    9503.00000               5331.00000   5015.00000   \n",
       "mean                        1.00000                  1.00000  -5901.95414   \n",
       "std                         0.00000                  0.00000  18906.16617   \n",
       "min                         1.00000                  1.00000 -39600.00000   \n",
       "25%                         1.00000                  1.00000 -18000.00000   \n",
       "50%                         1.00000                  1.00000 -14400.00000   \n",
       "75%                         1.00000                  1.00000  10800.00000   \n",
       "max                         1.00000                  1.00000  46800.00000   \n",
       "\n",
       "       protected  verified       class  \n",
       "count   78.00000  11.00000 11017.00000  \n",
       "mean     1.00000   1.00000     0.68467  \n",
       "std      0.00000   0.00000     0.46467  \n",
       "min      1.00000   1.00000     0.00000  \n",
       "25%      1.00000   1.00000     0.00000  \n",
       "50%      1.00000   1.00000     1.00000  \n",
       "75%      1.00000   1.00000     1.00000  \n",
       "max      1.00000   1.00000     1.00000  "
      ]
     },
     "execution_count": 8,
     "metadata": {},
     "output_type": "execute_result"
    }
   ],
   "source": [
    "pd.options.display.float_format = '{:.5f}'.format\n",
    "df.describe()"
   ]
  },
  {
   "cell_type": "raw",
   "metadata": {},
   "source": [
    "corrMatrix = df.corr()\n",
    "sns.set(rc = {'figure.figsize':(10, 10)} )\n",
    "sns.set(font_scale = 2)\n",
    "sns.heatmap(corrMatrix, vmin = -1, vmax = 1, center = 0, cmap = sns.diverging_palette(20, 220, n = 200), square = True, cbar_kws = {'shrink': 0.6}, annot = True)\n",
    "plt.show"
   ]
  },
  {
   "cell_type": "markdown",
   "metadata": {},
   "source": [
    "df.info()"
   ]
  },
  {
   "cell_type": "markdown",
   "metadata": {
    "scrolled": true
   },
   "source": [
    "list = ['statuses_count', 'followers_count', 'friends_count', 'favourites_count', 'listed_count']\n",
    "for i in list:\n",
    "    fig = plt.figure(figsize =(7, 7)) \n",
    "    # Creating axes instance \n",
    "    ax = fig.add_axes([1, 1, 1, 1]) \n",
    "    #change of origin by adding 1 to the original data \n",
    "    ax.boxplot(np.log(df[i] + 1 ))\n",
    "        \n"
   ]
  },
  {
   "cell_type": "markdown",
   "metadata": {},
   "source": [
    "list = {'statuses_count', 'followers_count', 'friends_count', 'favourites_count', 'listed_count'}\n",
    "for i in list:\n",
    "    fig, ax = plt.subplots(1)\n",
    "    sns.histplot(df[i]+1, bins = 100, log_scale= True, kde = True)\n",
    "    #np.log(df[i]+1).plot.hist(bins = 100)\n"
   ]
  },
  {
   "cell_type": "markdown",
   "metadata": {},
   "source": [
    "type(df['statuses_count'])"
   ]
  },
  {
   "cell_type": "markdown",
   "metadata": {},
   "source": [
    "#look for details\n",
    "crim_boxcox = stats.boxcox(df['statuses_count']+1)[0]"
   ]
  },
  {
   "cell_type": "markdown",
   "metadata": {},
   "source": [
    "sns.histplot(data = crim_boxcox, bins = 200, kde = True)"
   ]
  },
  {
   "cell_type": "markdown",
   "metadata": {
    "scrolled": true
   },
   "source": [
    "pd.crosstab(df['verified'], df['protected'])"
   ]
  },
  {
   "cell_type": "markdown",
   "metadata": {
    "scrolled": false
   },
   "source": [
    "pd.crosstab(df['default_profile'], df['protected'])"
   ]
  },
  {
   "cell_type": "markdown",
   "metadata": {
    "scrolled": true
   },
   "source": [
    "pd.crosstab(df['default_profile'], df['protected'])"
   ]
  },
  {
   "cell_type": "markdown",
   "metadata": {},
   "source": [
    "df_1.info()"
   ]
  },
  {
   "cell_type": "code",
   "execution_count": null,
   "metadata": {},
   "outputs": [],
   "source": [
    "# not working with crosstab to assess the suitability of variables\n",
    "#pd.crosstab(df['default_profile'], df['default_profile_image'])"
   ]
  },
  {
   "cell_type": "markdown",
   "metadata": {
    "scrolled": true
   },
   "source": [
    "pd.crosstab(df['class'], df['verified'])"
   ]
  },
  {
   "cell_type": "markdown",
   "metadata": {},
   "source": [
    "pd.crosstab(df['class'], df['protected'], margins = True)"
   ]
  },
  {
   "cell_type": "markdown",
   "metadata": {},
   "source": [
    "pd.crosstab(df['protected'], df['verified'], margins = True)"
   ]
  },
  {
   "cell_type": "markdown",
   "metadata": {},
   "source": [
    "pd.crosstab(df['verified'], df['class'], margins = True)"
   ]
  },
  {
   "cell_type": "markdown",
   "metadata": {},
   "source": [
    "plt.clf()"
   ]
  },
  {
   "cell_type": "markdown",
   "metadata": {},
   "source": [
    "plt.clf()\n",
    "cross = pd.crosstab(index = [df['verified'], df['protected'], df['default_profile'], df['default_profile_image']], columns = df['class'])\n",
    "plt.subplots(figsize=(10,10))\n",
    "plt.tick_params(labelsize = 10)\n",
    "sns.heatmap(cross, cmap = 'YlOrBr', cbar_kws = {'shrink': 0.8})\n",
    "cross"
   ]
  },
  {
   "cell_type": "markdown",
   "metadata": {},
   "source": [
    "df_bar = df[['verified', 'protected', 'class', 'default_profile', 'default_profile_image']]\n",
    "\n",
    "fig_1 = sns.countplot(x = 'protected', data = df_bar, hue = 'class')\n",
    "fig_2 = sns.countplot(x = 'default_profile', data = df_bar)\n",
    "plt.show()"
   ]
  },
  {
   "cell_type": "markdown",
   "metadata": {},
   "source": [
    "plt.close()"
   ]
  },
  {
   "cell_type": "markdown",
   "metadata": {},
   "source": [
    "gc.collect()"
   ]
  },
  {
   "cell_type": "markdown",
   "metadata": {},
   "source": [
    "df_p"
   ]
  },
  {
   "cell_type": "markdown",
   "metadata": {},
   "source": [
    "df_pairplot = df[['statuses_count', 'followers_count', 'friends_count', 'favourites_count', 'listed_count', 'class']]"
   ]
  },
  {
   "cell_type": "markdown",
   "metadata": {},
   "source": [
    "df_pairplot['statuses_count'] = np.log(df_pairplot['statuses_count']+1)\n",
    "df_pairplot['followers_count'] = np.log(df_pairplot['followers_count']+1)\n",
    "df_pairplot['friends_count'] = np.log(df_pairplot['friends_count']+1)\n",
    "df_pairplot['favourites_count'] = np.log(df_pairplot['favourites_count']+1)\n",
    "df_pairplot['listed_count'] = np.log(df_pairplot['listed_count']+1)"
   ]
  },
  {
   "cell_type": "markdown",
   "metadata": {},
   "source": [
    "sns.pairplot(df_pairplot)"
   ]
  },
  {
   "cell_type": "markdown",
   "metadata": {},
   "source": [
    "plt.close()"
   ]
  },
  {
   "cell_type": "markdown",
   "metadata": {},
   "source": [
    "sns.pairplot(df_pairplot, hue = 'class')"
   ]
  },
  {
   "cell_type": "markdown",
   "metadata": {
    "scrolled": true
   },
   "source": [
    "fig = plt.figure()\n",
    "ax = fig.add_subplot(111, projection='3d')\n",
    "ax.scatter(np.log(df['followers_count']+1), np.log(df['listed_count']+1), np.log(df['favourites_count']+1), c='r', marker='o')\n",
    "\n",
    "ax.set_xlabel('X Label')\n",
    "ax.set_ylabel('Y Label')\n",
    "ax.set_zlabel('Z Label')"
   ]
  },
  {
   "cell_type": "markdown",
   "metadata": {
    "scrolled": false
   },
   "source": [
    "fig = px.scatter_3d(df, x=np.log(df['statuses_count']+1), y=np.log(df['followers_count']+1), z=np.log(df['listed_count']+1),color=df['Category'],labels= True)\n",
    "fig.show()"
   ]
  },
  {
   "cell_type": "markdown",
   "metadata": {},
   "source": [
    "fig_5 = sm.qqplot(np.log(df['favourites_count']+1), line = '45')\n",
    "fig_4 = sm.qqplot(np.log(df['listed_count']+1), line = '45')\n",
    "fig_3 = sm.qqplot(np.log(df['followers_count']+1), line = '45')\n",
    "fig_2 = sm.qqplot(np.log(df['statuses_count']+1), line = '45')\n",
    "fig_1 = sm.qqplot(np.log(df['friends_count']+1), line = '45')\n",
    "plt.show()"
   ]
  },
  {
   "cell_type": "markdown",
   "metadata": {},
   "source": [
    "plt.scatter(np.log(df['followers_count']+1), np.log(df['friends_count']+1))"
   ]
  },
  {
   "cell_type": "code",
   "execution_count": null,
   "metadata": {},
   "outputs": [],
   "source": []
  },
  {
   "cell_type": "code",
   "execution_count": null,
   "metadata": {},
   "outputs": [],
   "source": []
  },
  {
   "cell_type": "code",
   "execution_count": null,
   "metadata": {},
   "outputs": [],
   "source": []
  },
  {
   "cell_type": "markdown",
   "metadata": {},
   "source": [
    "#### Feature Creation"
   ]
  },
  {
   "cell_type": "code",
   "execution_count": 10,
   "metadata": {},
   "outputs": [
    {
     "name": "stdout",
     "output_type": "stream",
     "text": [
      "The unique count of geo_enabled accounts classification is:\n"
     ]
    },
    {
     "data": {
      "text/plain": [
       "0.00000    7723\n",
       "1.00000    3294\n",
       "Name: geo_enabled, dtype: int64"
      ]
     },
     "execution_count": 10,
     "metadata": {},
     "output_type": "execute_result"
    },
    {
     "name": "stderr",
     "output_type": "stream",
     "text": [
      "<ipython-input-10-f806a4fa0494>:6: SettingWithCopyWarning: \n",
      "A value is trying to be set on a copy of a slice from a DataFrame.\n",
      "Try using .loc[row_indexer,col_indexer] = value instead\n",
      "\n",
      "See the caveats in the documentation: https://pandas.pydata.org/pandas-docs/stable/user_guide/indexing.html#returning-a-view-versus-a-copy\n",
      "  df_model['geo_enabled'] = df['geo_enabled']\n"
     ]
    },
    {
     "data": {
      "image/png": "[encoded data removed]",
      "text/plain": [
       "<Figure size 432x288 with 1 Axes>"
      ]
     },
     "metadata": {
      "needs_background": "light"
     },
     "output_type": "display_data"
    }
   ],
   "source": [
    "df['geo_enabled'] = df['geo_enabled'].fillna(0)\n",
    "\n",
    "print('The unique count of geo_enabled accounts classification is:')\n",
    "df['geo_enabled'].value_counts()\n",
    "fig_1 = sns.countplot(x = 'geo_enabled', data = df, hue = \"class\")\n",
    "df_model['geo_enabled'] = df['geo_enabled']"
   ]
  },
  {
   "cell_type": "code",
   "execution_count": 11,
   "metadata": {},
   "outputs": [
    {
     "name": "stderr",
     "output_type": "stream",
     "text": [
      "<ipython-input-11-b0e292c13f1d>:1: SettingWithCopyWarning: \n",
      "A value is trying to be set on a copy of a slice from a DataFrame.\n",
      "Try using .loc[row_indexer,col_indexer] = value instead\n",
      "\n",
      "See the caveats in the documentation: https://pandas.pydata.org/pandas-docs/stable/user_guide/indexing.html#returning-a-view-versus-a-copy\n",
      "  df_model['geo_enabled'] = df['geo_enabled']\n"
     ]
    }
   ],
   "source": [
    "df_model['geo_enabled'] = df['geo_enabled']"
   ]
  },
  {
   "cell_type": "code",
   "execution_count": 12,
   "metadata": {},
   "outputs": [
    {
     "data": {
      "text/plain": [
       "0.00000    9540\n",
       "1.00000    1477\n",
       "Name: default_profile, dtype: int64"
      ]
     },
     "execution_count": 12,
     "metadata": {},
     "output_type": "execute_result"
    },
    {
     "name": "stderr",
     "output_type": "stream",
     "text": [
      "<ipython-input-12-9325632e02b5>:6: SettingWithCopyWarning: \n",
      "A value is trying to be set on a copy of a slice from a DataFrame.\n",
      "Try using .loc[row_indexer,col_indexer] = value instead\n",
      "\n",
      "See the caveats in the documentation: https://pandas.pydata.org/pandas-docs/stable/user_guide/indexing.html#returning-a-view-versus-a-copy\n",
      "  df_model['default_profile'] =df['default_profile']\n"
     ]
    }
   ],
   "source": [
    "# Working on Feature Default profile\n",
    "\n",
    "df['default_profile'] = df['default_profile'].fillna(0)\n",
    "df['default_profile'].value_counts()\n",
    "#fig_1 = sns.countplot(x = 'default_profile', data = df, hue = \"class\")\n",
    "df_model['default_profile'] =df['default_profile']"
   ]
  },
  {
   "cell_type": "code",
   "execution_count": 13,
   "metadata": {},
   "outputs": [
    {
     "name": "stderr",
     "output_type": "stream",
     "text": [
      "<ipython-input-13-cd6e8ffa22da>:3: SettingWithCopyWarning: \n",
      "A value is trying to be set on a copy of a slice from a DataFrame.\n",
      "Try using .loc[row_indexer,col_indexer] = value instead\n",
      "\n",
      "See the caveats in the documentation: https://pandas.pydata.org/pandas-docs/stable/user_guide/indexing.html#returning-a-view-versus-a-copy\n",
      "  df_model['verified'] = df_1['verified']\n",
      "<ipython-input-13-cd6e8ffa22da>:4: SettingWithCopyWarning: \n",
      "A value is trying to be set on a copy of a slice from a DataFrame.\n",
      "Try using .loc[row_indexer,col_indexer] = value instead\n",
      "\n",
      "See the caveats in the documentation: https://pandas.pydata.org/pandas-docs/stable/user_guide/indexing.html#returning-a-view-versus-a-copy\n",
      "  df_model['protected'] = df_1['protected']\n"
     ]
    }
   ],
   "source": [
    "#description_presence was not correct in the end, look into it\n",
    "#df_model['description_present'] = df_1['description_presence']\n",
    "df_model['verified'] = df_1['verified']\n",
    "df_model['protected'] = df_1['protected']"
   ]
  },
  {
   "cell_type": "code",
   "execution_count": 14,
   "metadata": {},
   "outputs": [],
   "source": [
    "# manipulating target variable 'url' by putting 0 and 1 values\n",
    "df['url'] = df['url'].fillna(0)\n",
    "df.loc[df[\"url\"] == 0, \"url_present\"] = 0\n",
    "df.loc[df[\"url\"] != 0, \"url_present\"] = 1"
   ]
  },
  {
   "cell_type": "code",
   "execution_count": 15,
   "metadata": {
    "scrolled": true
   },
   "outputs": [
    {
     "data": {
      "text/plain": [
       "0.00000    7509\n",
       "1.00000    3508\n",
       "Name: url_present, dtype: int64"
      ]
     },
     "execution_count": 15,
     "metadata": {},
     "output_type": "execute_result"
    },
    {
     "data": {
      "image/png": "[encoded data removed]",
      "text/plain": [
       "<Figure size 432x288 with 1 Axes>"
      ]
     },
     "metadata": {
      "needs_background": "light"
     },
     "output_type": "display_data"
    }
   ],
   "source": [
    "df['url_present'].value_counts()\n",
    "fig_1 = sns.countplot(x = 'url_present', data = df, hue = \"class\")"
   ]
  },
  {
   "cell_type": "markdown",
   "metadata": {},
   "source": [
    "#### Use Hypothesis testing to asses if there is any significant difference between the data used to plot the above graph.\n"
   ]
  },
  {
   "cell_type": "code",
   "execution_count": 16,
   "metadata": {},
   "outputs": [],
   "source": [
    "#url_present is string based text and not analysing the data at present \n",
    "df.drop('url_present', axis =1, inplace = True)"
   ]
  },
  {
   "cell_type": "code",
   "execution_count": null,
   "metadata": {},
   "outputs": [],
   "source": [
    "#df_model['url_present'] = df['url_present']"
   ]
  },
  {
   "cell_type": "code",
   "execution_count": 17,
   "metadata": {},
   "outputs": [
    {
     "name": "stdout",
     "output_type": "stream",
     "text": [
      "<class 'pandas.core.frame.DataFrame'>\n",
      "RangeIndex: 11017 entries, 0 to 11016\n",
      "Data columns (total 14 columns):\n",
      " #   Column               Non-Null Count  Dtype  \n",
      "---  ------               --------------  -----  \n",
      " 0   id                   11017 non-null  int64  \n",
      " 1   screen_name          11017 non-null  object \n",
      " 2   statuses_count       11017 non-null  int64  \n",
      " 3   followers_count      11017 non-null  int64  \n",
      " 4   friends_count        11017 non-null  int64  \n",
      " 5   favourites_count     11017 non-null  int64  \n",
      " 6   listed_count         11017 non-null  int64  \n",
      " 7   description_present  11017 non-null  int64  \n",
      " 8   age                  11017 non-null  int64  \n",
      " 9   class                11017 non-null  int64  \n",
      " 10  geo_enabled          11017 non-null  float64\n",
      " 11  default_profile      11017 non-null  float64\n",
      " 12  verified             11017 non-null  int64  \n",
      " 13  protected            11017 non-null  int64  \n",
      "dtypes: float64(2), int64(11), object(1)\n",
      "memory usage: 1.2+ MB\n"
     ]
    }
   ],
   "source": [
    "df_model.info()"
   ]
  },
  {
   "cell_type": "code",
   "execution_count": 18,
   "metadata": {},
   "outputs": [],
   "source": [
    "df['profile_use_background_image'].fillna(0, inplace = True)"
   ]
  },
  {
   "cell_type": "code",
   "execution_count": 19,
   "metadata": {},
   "outputs": [
    {
     "data": {
      "text/plain": [
       "1.00000    9503\n",
       "0.00000    1514\n",
       "Name: profile_use_background_image, dtype: int64"
      ]
     },
     "execution_count": 19,
     "metadata": {},
     "output_type": "execute_result"
    },
    {
     "data": {
      "image/png": "[encoded data removed]",
      "text/plain": [
       "<Figure size 432x288 with 1 Axes>"
      ]
     },
     "metadata": {
      "needs_background": "light"
     },
     "output_type": "display_data"
    }
   ],
   "source": [
    "df['profile_use_background_image'].value_counts()\n",
    "fig_1 = sns.countplot(x = 'profile_use_background_image', data = df, hue = 'class')"
   ]
  },
  {
   "cell_type": "markdown",
   "metadata": {},
   "source": [
    "#### Hypothesis Testing and significance of Variable"
   ]
  },
  {
   "cell_type": "code",
   "execution_count": 20,
   "metadata": {},
   "outputs": [
    {
     "name": "stderr",
     "output_type": "stream",
     "text": [
      "<ipython-input-20-11e19398f81c>:1: SettingWithCopyWarning: \n",
      "A value is trying to be set on a copy of a slice from a DataFrame.\n",
      "Try using .loc[row_indexer,col_indexer] = value instead\n",
      "\n",
      "See the caveats in the documentation: https://pandas.pydata.org/pandas-docs/stable/user_guide/indexing.html#returning-a-view-versus-a-copy\n",
      "  df_model['profile_use_background_image'] = df['profile_use_background_image']\n"
     ]
    }
   ],
   "source": [
    "df_model['profile_use_background_image'] = df['profile_use_background_image']"
   ]
  },
  {
   "cell_type": "code",
   "execution_count": 21,
   "metadata": {},
   "outputs": [
    {
     "name": "stdout",
     "output_type": "stream",
     "text": [
      "0000FF    3499\n",
      "C0DEED    1837\n",
      "253956    1125\n",
      "131516     496\n",
      "000000     427\n",
      "          ... \n",
      "EBC3C3       1\n",
      "070912       1\n",
      "DEDE38       1\n",
      "34363D       1\n",
      "191919       1\n",
      "Name: profile_background_color, Length: 532, dtype: int64\n"
     ]
    }
   ],
   "source": [
    "print(df['profile_background_color'].value_counts())"
   ]
  },
  {
   "cell_type": "code",
   "execution_count": 22,
   "metadata": {},
   "outputs": [],
   "source": [
    "# Since we are using training data to set variables, we may not find the variable highly effective in the testing set."
   ]
  },
  {
   "cell_type": "code",
   "execution_count": 23,
   "metadata": {},
   "outputs": [],
   "source": [
    "# manipulating color_codes of the text to create the feature assiciated with background text color. \n",
    "df.loc[df[\"profile_background_color\"] == '0000FF', \"background_color_class\"] = \"0000FF\"\n",
    "df.loc[df[\"profile_background_color\"] == 'C0DEED', \"background_color_class\"] = \"C0DEED\"\n",
    "df.loc[df[\"profile_background_color\"] == '131516', \"background_color_class\"] = \"131516\"\n",
    "df.loc[df[\"profile_background_color\"] == '000000', \"background_color_class\"] = \"000000\"\n",
    "#df.loc[np.logical_and(df[\"profile_background_color\"] != '131516', df[\"profile_background_color\"] != 'C0DEED',df[\"profile_background_color\"] != '0000FF') , \"background_color_class\"] = \"4\""
   ]
  },
  {
   "cell_type": "code",
   "execution_count": 24,
   "metadata": {},
   "outputs": [
    {
     "data": {
      "text/plain": [
       "others    4758\n",
       "0000FF    3499\n",
       "C0DEED    1837\n",
       "131516     496\n",
       "000000     427\n",
       "Name: background_color_class, dtype: int64"
      ]
     },
     "execution_count": 24,
     "metadata": {},
     "output_type": "execute_result"
    },
    {
     "data": {
      "image/png": "[encoded data removed]",
      "text/plain": [
       "<Figure size 432x288 with 1 Axes>"
      ]
     },
     "metadata": {
      "needs_background": "light"
     },
     "output_type": "display_data"
    }
   ],
   "source": [
    "df['background_color_class'] = df['background_color_class'].fillna(\"others\")\n",
    "df['background_color_class'].value_counts()\n",
    "fig_1 = sns.countplot(x = 'background_color_class', data = df, hue = 'class')"
   ]
  },
  {
   "cell_type": "code",
   "execution_count": 25,
   "metadata": {},
   "outputs": [
    {
     "name": "stderr",
     "output_type": "stream",
     "text": [
      "<ipython-input-25-395a947897ff>:1: SettingWithCopyWarning: \n",
      "A value is trying to be set on a copy of a slice from a DataFrame.\n",
      "Try using .loc[row_indexer,col_indexer] = value instead\n",
      "\n",
      "See the caveats in the documentation: https://pandas.pydata.org/pandas-docs/stable/user_guide/indexing.html#returning-a-view-versus-a-copy\n",
      "  df_model['background_color_class']=df['background_color_class']\n"
     ]
    }
   ],
   "source": [
    "df_model['background_color_class']=df['background_color_class']"
   ]
  },
  {
   "cell_type": "code",
   "execution_count": null,
   "metadata": {},
   "outputs": [],
   "source": [
    "print(df['profile_text_color'].value_counts())"
   ]
  },
  {
   "cell_type": "code",
   "execution_count": null,
   "metadata": {},
   "outputs": [],
   "source": [
    "### Need to change variable encoding for 0  and 000000, since 0 represents missing value and is category in itself"
   ]
  },
  {
   "cell_type": "code",
   "execution_count": 26,
   "metadata": {},
   "outputs": [],
   "source": [
    "# manipulating target variable by putting 0 and 1 values\n",
    "df.loc[df[\"profile_text_color\"] == '333333', \"text_color_class\"] = \"333333\"\n",
    "df.loc[np.logical_or(df[\"profile_text_color\"] == '0',df[\"profile_text_color\"] == '000000') , \"text_color_class\"] = \"000000\"\n",
    "df.loc[df[\"profile_text_color\"] == '3D1957', \"text_color_class\"] = \"3\"\n",
    "#df.loc[np.logical_and(df[\"profile_background_color\"] != '131516', df[\"profile_background_color\"] != 'C0DEED',df[\"profile_background_color\"] != '0000FF') , \"background_color_class\"] = \"4\""
   ]
  },
  {
   "cell_type": "code",
   "execution_count": 27,
   "metadata": {},
   "outputs": [
    {
     "data": {
      "text/plain": [
       "333333    6992\n",
       "other     2280\n",
       "000000    1530\n",
       "3          215\n",
       "Name: text_color_class, dtype: int64"
      ]
     },
     "execution_count": 27,
     "metadata": {},
     "output_type": "execute_result"
    },
    {
     "data": {
      "image/png": "[encoded data removed]",
      "text/plain": [
       "<Figure size 432x288 with 1 Axes>"
      ]
     },
     "metadata": {
      "needs_background": "light"
     },
     "output_type": "display_data"
    }
   ],
   "source": [
    "df['text_color_class'] = df['text_color_class'].fillna(\"other\")\n",
    "df['text_color_class'].value_counts()\n",
    "fig_1 = sns.countplot(x = 'background_color_class', data = df, hue = 'class')"
   ]
  },
  {
   "cell_type": "code",
   "execution_count": 28,
   "metadata": {},
   "outputs": [
    {
     "name": "stderr",
     "output_type": "stream",
     "text": [
      "<ipython-input-28-039978c986db>:1: SettingWithCopyWarning: \n",
      "A value is trying to be set on a copy of a slice from a DataFrame.\n",
      "Try using .loc[row_indexer,col_indexer] = value instead\n",
      "\n",
      "See the caveats in the documentation: https://pandas.pydata.org/pandas-docs/stable/user_guide/indexing.html#returning-a-view-versus-a-copy\n",
      "  df_model['text_color_class'] = df['text_color_class']\n"
     ]
    }
   ],
   "source": [
    "df_model['text_color_class'] = df['text_color_class']"
   ]
  },
  {
   "cell_type": "code",
   "execution_count": 29,
   "metadata": {},
   "outputs": [
    {
     "name": "stdout",
     "output_type": "stream",
     "text": [
      "DDEEF6    5896\n",
      "407DB0    1012\n",
      "EFEFEF     479\n",
      "000000     380\n",
      "252429     303\n",
      "          ... \n",
      "0AEAFA       1\n",
      "A67F58       1\n",
      "3B9C95       1\n",
      "FAEA35       1\n",
      "0CD0F2       1\n",
      "Name: profile_sidebar_fill_color, Length: 384, dtype: int64\n"
     ]
    }
   ],
   "source": [
    "print(df['profile_sidebar_fill_color'].value_counts())"
   ]
  },
  {
   "cell_type": "code",
   "execution_count": 30,
   "metadata": {},
   "outputs": [],
   "source": [
    "# manipulating target variable by putting 0 and 1 values\n",
    "df.loc[df[\"profile_sidebar_fill_color\"] == 'DDEEF6', \"sidebar_color_class\"] = \"DDEEF6\"\n",
    "df.loc[np.logical_or(df[\"profile_sidebar_fill_color\"] == '0',df[\"profile_sidebar_fill_color\"] == '000000') , \"sidebar_color_class\"] = \"000000\"\n",
    "df.loc[df[\"profile_sidebar_fill_color\"] == '407DB0', \"sidebar_color_class\"] = \"407DB0\"\n",
    "df.loc[df[\"profile_sidebar_fill_color\"] == 'EFEFEF', \"sidebar_color_class\"] = \"EFEFEF\"\n",
    "#df.loc[np.logical_and(df[\"profile_background_color\"] != '131516', df[\"profile_background_color\"] != 'C0DEED',df[\"profile_background_color\"] != '0000FF') , \"background_color_class\"] = \"4\""
   ]
  },
  {
   "cell_type": "code",
   "execution_count": 31,
   "metadata": {},
   "outputs": [],
   "source": [
    "df['sidebar_color_class'] = df['sidebar_color_class'].fillna('others')\n",
    "#fig_1 = sns.countplot(x = 'sidebar_color_class', data = df, hue = 'class')"
   ]
  },
  {
   "cell_type": "code",
   "execution_count": 32,
   "metadata": {},
   "outputs": [
    {
     "name": "stderr",
     "output_type": "stream",
     "text": [
      "<ipython-input-32-4b0baa6aef06>:1: SettingWithCopyWarning: \n",
      "A value is trying to be set on a copy of a slice from a DataFrame.\n",
      "Try using .loc[row_indexer,col_indexer] = value instead\n",
      "\n",
      "See the caveats in the documentation: https://pandas.pydata.org/pandas-docs/stable/user_guide/indexing.html#returning-a-view-versus-a-copy\n",
      "  df_model['sidebar_color_class'] = df['sidebar_color_class']\n"
     ]
    }
   ],
   "source": [
    "df_model['sidebar_color_class'] = df['sidebar_color_class']"
   ]
  },
  {
   "cell_type": "markdown",
   "metadata": {},
   "source": [
    "### testing for hypothesis that newly created variables have significant impact on the class"
   ]
  },
  {
   "cell_type": "code",
   "execution_count": null,
   "metadata": {},
   "outputs": [],
   "source": [
    "# https://towardsdatascience.com/how-to-test-for-statistically-significant-relationships-between-categorical-variables-with-chi-66c3ebeda7cc"
   ]
  },
  {
   "cell_type": "code",
   "execution_count": null,
   "metadata": {},
   "outputs": [],
   "source": [
    "### create column with value count of class for the pivot table"
   ]
  },
  {
   "cell_type": "code",
   "execution_count": 33,
   "metadata": {},
   "outputs": [
    {
     "name": "stderr",
     "output_type": "stream",
     "text": [
      "<ipython-input-33-75937001f691>:1: SettingWithCopyWarning: \n",
      "A value is trying to be set on a copy of a slice from a DataFrame.\n",
      "Try using .loc[row_indexer,col_indexer] = value instead\n",
      "\n",
      "See the caveats in the documentation: https://pandas.pydata.org/pandas-docs/stable/user_guide/indexing.html#returning-a-view-versus-a-copy\n",
      "  df_model['protected'] = df_1['protected']\n"
     ]
    }
   ],
   "source": [
    "df_model['protected'] = df_1['protected']"
   ]
  },
  {
   "cell_type": "code",
   "execution_count": 34,
   "metadata": {},
   "outputs": [],
   "source": [
    "pivot_df = pd.crosstab(index = df_model['protected'], columns = df_model['class'])"
   ]
  },
  {
   "cell_type": "markdown",
   "metadata": {},
   "source": [
    "###### Hypothesis: variables 'protected and class are independent'"
   ]
  },
  {
   "cell_type": "code",
   "execution_count": 35,
   "metadata": {},
   "outputs": [
    {
     "name": "stdout",
     "output_type": "stream",
     "text": [
      "170.56684777777724 0.0000000000\n"
     ]
    }
   ],
   "source": [
    "chi2, p, dof, ex = chi2_contingency(pivot_df, correction=False)\n",
    "print(chi2, '{:.10f}'.format(p))"
   ]
  },
  {
   "cell_type": "markdown",
   "metadata": {},
   "source": [
    "###### Hypothesis: variables 'background_color_class and class are independent'"
   ]
  },
  {
   "cell_type": "code",
   "execution_count": 36,
   "metadata": {},
   "outputs": [
    {
     "name": "stdout",
     "output_type": "stream",
     "text": [
      "class                      0     1\n",
      "background_color_class            \n",
      "000000                   349    78\n",
      "0000FF                     0  3499\n",
      "131516                   198   298\n",
      "C0DEED                  1343   494\n",
      "others                  1584  3174\n",
      "3603.603165518076 0.0000000000\n"
     ]
    }
   ],
   "source": [
    "pivot_df = pd.crosstab(index = df_model['background_color_class'], columns = df_model['class'])\n",
    "\n",
    "chi2, p, dof, ex = chi2_contingency(pivot_df, correction=True)\n",
    "print(pivot_df)\n",
    "print(chi2, '{:.10f}'.format(p))"
   ]
  },
  {
   "cell_type": "markdown",
   "metadata": {},
   "source": [
    "###  Variable Encoding for Categorical Variables and Creates features"
   ]
  },
  {
   "cell_type": "code",
   "execution_count": null,
   "metadata": {},
   "outputs": [],
   "source": [
    "### https://scikit-learn.org/stable/modules/generated/sklearn.preprocessing.OneHotEncoder.html"
   ]
  },
  {
   "cell_type": "code",
   "execution_count": null,
   "metadata": {
    "scrolled": true
   },
   "outputs": [],
   "source": [
    "df_model.info()"
   ]
  },
  {
   "cell_type": "code",
   "execution_count": 37,
   "metadata": {},
   "outputs": [
    {
     "data": {
      "text/plain": [
       "{0: '000000', 1: '407DB0', 2: 'DDEEF6', 3: 'EFEFEF', 4: 'others'}"
      ]
     },
     "execution_count": 37,
     "metadata": {},
     "output_type": "execute_result"
    }
   ],
   "source": [
    "# Label Encoding for nominal data \n",
    "gle = LabelEncoder()\n",
    "s_color_labels = gle.fit_transform(df_model['sidebar_color_class'])\n",
    "s_color_mappings = {index: label for index, label in \n",
    "                  enumerate(gle.classes_)}\n",
    "s_color_mappings"
   ]
  },
  {
   "cell_type": "code",
   "execution_count": 38,
   "metadata": {
    "scrolled": false
   },
   "outputs": [
    {
     "name": "stderr",
     "output_type": "stream",
     "text": [
      "<ipython-input-38-ea3b686a195a>:1: SettingWithCopyWarning: \n",
      "A value is trying to be set on a copy of a slice from a DataFrame.\n",
      "Try using .loc[row_indexer,col_indexer] = value instead\n",
      "\n",
      "See the caveats in the documentation: https://pandas.pydata.org/pandas-docs/stable/user_guide/indexing.html#returning-a-view-versus-a-copy\n",
      "  df_model['s_color_labels'] = s_color_labels\n"
     ]
    }
   ],
   "source": [
    "df_model['s_color_labels'] = s_color_labels"
   ]
  },
  {
   "cell_type": "code",
   "execution_count": 39,
   "metadata": {},
   "outputs": [],
   "source": [
    "gen_ohe = OneHotEncoder()\n",
    "s_color_f_arr = gen_ohe.fit_transform(\n",
    "                              df_model[['s_color_labels']]).toarray()\n",
    "feature_labels = list(gle.classes_)\n",
    "gen_features = pd.DataFrame(s_color_f_arr, \n",
    "                            columns=feature_labels)"
   ]
  },
  {
   "cell_type": "code",
   "execution_count": 40,
   "metadata": {},
   "outputs": [
    {
     "data": {
      "text/html": [
       "<div>\n",
       "<style scoped>\n",
       "    .dataframe tbody tr th:only-of-type {\n",
       "        vertical-align: middle;\n",
       "    }\n",
       "\n",
       "    .dataframe tbody tr th {\n",
       "        vertical-align: top;\n",
       "    }\n",
       "\n",
       "    .dataframe thead th {\n",
       "        text-align: right;\n",
       "    }\n",
       "</style>\n",
       "<table border=\"1\" class=\"dataframe\">\n",
       "  <thead>\n",
       "    <tr style=\"text-align: right;\">\n",
       "      <th></th>\n",
       "      <th>000000</th>\n",
       "      <th>407DB0</th>\n",
       "      <th>DDEEF6</th>\n",
       "      <th>EFEFEF</th>\n",
       "      <th>others</th>\n",
       "    </tr>\n",
       "  </thead>\n",
       "  <tbody>\n",
       "    <tr>\n",
       "      <th>0</th>\n",
       "      <td>0.00000</td>\n",
       "      <td>0.00000</td>\n",
       "      <td>0.00000</td>\n",
       "      <td>0.00000</td>\n",
       "      <td>1.00000</td>\n",
       "    </tr>\n",
       "    <tr>\n",
       "      <th>1</th>\n",
       "      <td>0.00000</td>\n",
       "      <td>0.00000</td>\n",
       "      <td>0.00000</td>\n",
       "      <td>0.00000</td>\n",
       "      <td>1.00000</td>\n",
       "    </tr>\n",
       "    <tr>\n",
       "      <th>2</th>\n",
       "      <td>0.00000</td>\n",
       "      <td>0.00000</td>\n",
       "      <td>0.00000</td>\n",
       "      <td>0.00000</td>\n",
       "      <td>1.00000</td>\n",
       "    </tr>\n",
       "    <tr>\n",
       "      <th>3</th>\n",
       "      <td>0.00000</td>\n",
       "      <td>0.00000</td>\n",
       "      <td>0.00000</td>\n",
       "      <td>0.00000</td>\n",
       "      <td>1.00000</td>\n",
       "    </tr>\n",
       "    <tr>\n",
       "      <th>4</th>\n",
       "      <td>0.00000</td>\n",
       "      <td>0.00000</td>\n",
       "      <td>0.00000</td>\n",
       "      <td>0.00000</td>\n",
       "      <td>1.00000</td>\n",
       "    </tr>\n",
       "  </tbody>\n",
       "</table>\n",
       "</div>"
      ],
      "text/plain": [
       "   000000  407DB0  DDEEF6  EFEFEF  others\n",
       "0 0.00000 0.00000 0.00000 0.00000 1.00000\n",
       "1 0.00000 0.00000 0.00000 0.00000 1.00000\n",
       "2 0.00000 0.00000 0.00000 0.00000 1.00000\n",
       "3 0.00000 0.00000 0.00000 0.00000 1.00000\n",
       "4 0.00000 0.00000 0.00000 0.00000 1.00000"
      ]
     },
     "execution_count": 40,
     "metadata": {},
     "output_type": "execute_result"
    }
   ],
   "source": [
    "gen_features.head()"
   ]
  },
  {
   "cell_type": "code",
   "execution_count": 41,
   "metadata": {},
   "outputs": [
    {
     "data": {
      "text/plain": [
       "(11017, 19)"
      ]
     },
     "execution_count": 41,
     "metadata": {},
     "output_type": "execute_result"
    }
   ],
   "source": [
    "df_model.shape"
   ]
  },
  {
   "cell_type": "code",
   "execution_count": 42,
   "metadata": {},
   "outputs": [],
   "source": [
    "df_model_1 = pd.concat([df_model.reset_index(drop=True), gen_features], axis = 1)"
   ]
  },
  {
   "cell_type": "code",
   "execution_count": null,
   "metadata": {
    "scrolled": false
   },
   "outputs": [],
   "source": [
    "df_model_1.info()"
   ]
  },
  {
   "cell_type": "code",
   "execution_count": 43,
   "metadata": {},
   "outputs": [],
   "source": [
    "df_model_1.drop(labels = ['s_color_labels', 'sidebar_color_class', 'text_color_class', 'background_color_class'],axis = 1, inplace = True)"
   ]
  },
  {
   "cell_type": "markdown",
   "metadata": {},
   "source": [
    "### Exploratory Data Analysis on raw data for feature selection and data development"
   ]
  },
  {
   "cell_type": "code",
   "execution_count": null,
   "metadata": {},
   "outputs": [],
   "source": []
  },
  {
   "cell_type": "code",
   "execution_count": null,
   "metadata": {},
   "outputs": [],
   "source": []
  },
  {
   "cell_type": "code",
   "execution_count": null,
   "metadata": {},
   "outputs": [],
   "source": []
  },
  {
   "cell_type": "code",
   "execution_count": null,
   "metadata": {},
   "outputs": [],
   "source": []
  },
  {
   "cell_type": "code",
   "execution_count": null,
   "metadata": {},
   "outputs": [],
   "source": []
  },
  {
   "cell_type": "code",
   "execution_count": null,
   "metadata": {},
   "outputs": [],
   "source": []
  },
  {
   "cell_type": "markdown",
   "metadata": {},
   "source": [
    "### Logistics model Training and testing"
   ]
  },
  {
   "cell_type": "code",
   "execution_count": 44,
   "metadata": {},
   "outputs": [],
   "source": [
    "df_model_1['class']= df_1['class'].reset_index(drop =True)"
   ]
  },
  {
   "cell_type": "code",
   "execution_count": 45,
   "metadata": {},
   "outputs": [],
   "source": [
    "#features\n",
    "X=df_model_1.drop(columns = ['class', 'screen_name'], axis =1)\n",
    "#target variable\n",
    "y=df_model_1[['class']].values"
   ]
  },
  {
   "cell_type": "markdown",
   "metadata": {},
   "source": [
    "##### Training the model on raw data"
   ]
  },
  {
   "cell_type": "code",
   "execution_count": 46,
   "metadata": {},
   "outputs": [
    {
     "name": "stdout",
     "output_type": "stream",
     "text": [
      "Number transactions X_train dataset:  (7711, 18)\n",
      "Number transactions y_train dataset:  (7711, 1)\n",
      "Number transactions X_test dataset:  (3306, 18)\n",
      "Number transactions y_test dataset:  (3306, 1)\n"
     ]
    }
   ],
   "source": [
    "# split into 70:30 ration \n",
    "X_train, X_test, y_train, y_test = train_test_split(X, y, test_size = 0.3, random_state = 0) \n",
    "\n",
    "# describes info about train and test set \n",
    "print(\"Number transactions X_train dataset: \", X_train.shape) \n",
    "print(\"Number transactions y_train dataset: \", y_train.shape) \n",
    "print(\"Number transactions X_test dataset: \", X_test.shape) \n",
    "print(\"Number transactions y_test dataset: \", y_test.shape) "
   ]
  },
  {
   "cell_type": "code",
   "execution_count": 47,
   "metadata": {},
   "outputs": [
    {
     "name": "stdout",
     "output_type": "stream",
     "text": [
      "              precision    recall  f1-score   support\n",
      "\n",
      "           0       0.78      0.60      0.68      1095\n",
      "           1       0.82      0.91      0.87      2211\n",
      "\n",
      "    accuracy                           0.81      3306\n",
      "   macro avg       0.80      0.76      0.77      3306\n",
      "weighted avg       0.81      0.81      0.80      3306\n",
      "\n"
     ]
    },
    {
     "name": "stderr",
     "output_type": "stream",
     "text": [
      "/home/lenovo/virtualenv/venv/lib/python3.8/site-packages/sklearn/utils/validation.py:63: DataConversionWarning: A column-vector y was passed when a 1d array was expected. Please change the shape of y to (n_samples, ), for example using ravel().\n",
      "  return f(*args, **kwargs)\n"
     ]
    }
   ],
   "source": [
    "# train the model on train set\n",
    "lr1 = LogisticRegression() \n",
    "fit_model = lr1.fit(X_train, y_train)\n",
    "predictions = lr1.predict(X_test) \n",
    "\n",
    "# print classification report \n",
    "print(classification_report(y_test, predictions)) "
   ]
  },
  {
   "cell_type": "markdown",
   "metadata": {},
   "source": [
    "##### Using Oversampling technique to increase the label count for training data"
   ]
  },
  {
   "cell_type": "code",
   "execution_count": 48,
   "metadata": {
    "scrolled": true
   },
   "outputs": [
    {
     "name": "stdout",
     "output_type": "stream",
     "text": [
      "Before OverSampling, counts of label '1': [5332]\n",
      "Before OverSampling, counts of label '0': [2379] \n",
      "\n",
      "After OverSampling, the shape of train_X: (10664, 18)\n",
      "After OverSampling, the shape of train_y: (10664,) \n",
      "\n",
      "After OverSampling, counts of label '1': 5332\n",
      "After OverSampling, counts of label '0': 5332\n"
     ]
    }
   ],
   "source": [
    "print(\"Before OverSampling, counts of label '1': {}\".format(sum(y_train == 1))) \n",
    "print(\"Before OverSampling, counts of label '0': {} \\n\".format(sum(y_train == 0))) \n",
    "\n",
    "sm = SMOTE(random_state = 2) \n",
    "X_train_res, y_train_res = sm.fit_resample(X_train, y_train.ravel()) \n",
    "\n",
    "print('After OverSampling, the shape of train_X: {}'.format(X_train_res.shape)) \n",
    "print('After OverSampling, the shape of train_y: {} \\n'.format(y_train_res.shape)) \n",
    "\n",
    "print(\"After OverSampling, counts of label '1': {}\".format(sum(y_train_res == 1))) \n",
    "print(\"After OverSampling, counts of label '0': {}\".format(sum(y_train_res == 0))) "
   ]
  },
  {
   "cell_type": "code",
   "execution_count": 49,
   "metadata": {},
   "outputs": [
    {
     "name": "stdout",
     "output_type": "stream",
     "text": [
      "              precision    recall  f1-score   support\n",
      "\n",
      "           0       0.00      0.00      0.00      1095\n",
      "           1       0.67      1.00      0.80      2211\n",
      "\n",
      "    accuracy                           0.67      3306\n",
      "   macro avg       0.33      0.50      0.40      3306\n",
      "weighted avg       0.45      0.67      0.54      3306\n",
      "\n"
     ]
    },
    {
     "name": "stderr",
     "output_type": "stream",
     "text": [
      "/home/lenovo/virtualenv/venv/lib/python3.8/site-packages/sklearn/metrics/_classification.py:1245: UndefinedMetricWarning: Precision and F-score are ill-defined and being set to 0.0 in labels with no predicted samples. Use `zero_division` parameter to control this behavior.\n",
      "  _warn_prf(average, modifier, msg_start, len(result))\n",
      "/home/lenovo/virtualenv/venv/lib/python3.8/site-packages/sklearn/metrics/_classification.py:1245: UndefinedMetricWarning: Precision and F-score are ill-defined and being set to 0.0 in labels with no predicted samples. Use `zero_division` parameter to control this behavior.\n",
      "  _warn_prf(average, modifier, msg_start, len(result))\n",
      "/home/lenovo/virtualenv/venv/lib/python3.8/site-packages/sklearn/metrics/_classification.py:1245: UndefinedMetricWarning: Precision and F-score are ill-defined and being set to 0.0 in labels with no predicted samples. Use `zero_division` parameter to control this behavior.\n",
      "  _warn_prf(average, modifier, msg_start, len(result))\n"
     ]
    }
   ],
   "source": [
    "# train the model on train set\n",
    "lr1 = LogisticRegression() \n",
    "fit_model = lr1.fit(X_train_res, y_train_res)\n",
    "predictions = lr1.predict(X_test) \n",
    "\n",
    "\n",
    "# print classification report \n",
    "print(classification_report(y_test, predictions)) "
   ]
  },
  {
   "cell_type": "markdown",
   "metadata": {},
   "source": [
    "##### Undersampling to assess the model accuracy when less data is present "
   ]
  },
  {
   "cell_type": "code",
   "execution_count": 50,
   "metadata": {},
   "outputs": [
    {
     "name": "stdout",
     "output_type": "stream",
     "text": [
      "Before Undersampling, counts of label '1': [5332]\n",
      "Before Undersampling, counts of label '0': [2379] \n",
      "\n",
      "After Undersampling, the shape of train_X: (4758, 18)\n",
      "After Undersampling, the shape of train_y: (4758,) \n",
      "\n",
      "After Undersampling, counts of label '1': 2379\n",
      "After Undersampling, counts of label '0': 2379\n"
     ]
    }
   ],
   "source": [
    "print(\"Before Undersampling, counts of label '1': {}\".format(sum(y_train == 1))) \n",
    "print(\"Before Undersampling, counts of label '0': {} \\n\".format(sum(y_train == 0))) \n",
    "\n",
    "# apply near miss \n",
    "from imblearn.under_sampling import NearMiss \n",
    "nr = NearMiss() \n",
    "\n",
    "X_train_miss, y_train_miss = nr.fit_resample(X_train, y_train.ravel()) \n",
    "\n",
    "print('After Undersampling, the shape of train_X: {}'.format(X_train_miss.shape)) \n",
    "print('After Undersampling, the shape of train_y: {} \\n'.format(y_train_miss.shape)) \n",
    "\n",
    "print(\"After Undersampling, counts of label '1': {}\".format(sum(y_train_miss == 1))) \n",
    "print(\"After Undersampling, counts of label '0': {}\".format(sum(y_train_miss == 0))) "
   ]
  },
  {
   "cell_type": "code",
   "execution_count": 51,
   "metadata": {
    "scrolled": true
   },
   "outputs": [
    {
     "data": {
      "text/plain": [
       "LogisticRegression()"
      ]
     },
     "execution_count": 51,
     "metadata": {},
     "output_type": "execute_result"
    },
    {
     "name": "stdout",
     "output_type": "stream",
     "text": [
      "              precision    recall  f1-score   support\n",
      "\n",
      "           0       0.33      1.00      0.50      1095\n",
      "           1       0.00      0.00      0.00      2211\n",
      "\n",
      "    accuracy                           0.33      3306\n",
      "   macro avg       0.17      0.50      0.25      3306\n",
      "weighted avg       0.11      0.33      0.16      3306\n",
      "\n"
     ]
    },
    {
     "name": "stderr",
     "output_type": "stream",
     "text": [
      "/home/lenovo/virtualenv/venv/lib/python3.8/site-packages/sklearn/metrics/_classification.py:1245: UndefinedMetricWarning: Precision and F-score are ill-defined and being set to 0.0 in labels with no predicted samples. Use `zero_division` parameter to control this behavior.\n",
      "  _warn_prf(average, modifier, msg_start, len(result))\n",
      "/home/lenovo/virtualenv/venv/lib/python3.8/site-packages/sklearn/metrics/_classification.py:1245: UndefinedMetricWarning: Precision and F-score are ill-defined and being set to 0.0 in labels with no predicted samples. Use `zero_division` parameter to control this behavior.\n",
      "  _warn_prf(average, modifier, msg_start, len(result))\n",
      "/home/lenovo/virtualenv/venv/lib/python3.8/site-packages/sklearn/metrics/_classification.py:1245: UndefinedMetricWarning: Precision and F-score are ill-defined and being set to 0.0 in labels with no predicted samples. Use `zero_division` parameter to control this behavior.\n",
      "  _warn_prf(average, modifier, msg_start, len(result))\n"
     ]
    }
   ],
   "source": [
    "# train the model on train set \n",
    "lr2 = LogisticRegression() \n",
    "lr2.fit(X_train_miss, y_train_miss) \n",
    "predictions = lr2.predict(X_test) \n",
    "\n",
    "# print classification report \n",
    "print(classification_report(y_test, predictions)) "
   ]
  },
  {
   "cell_type": "markdown",
   "metadata": {},
   "source": [
    "##### Fitting the model on log transformed data (variables with large range) and checking if it improves the accuracies"
   ]
  },
  {
   "cell_type": "code",
   "execution_count": 54,
   "metadata": {
    "scrolled": true
   },
   "outputs": [],
   "source": [
    "# log transformation of variables with large values for better fitting of model.\n",
    "\n",
    "X = (pd.DataFrame([np.log(X['statuses_count']+1), np.log(X['followers_count']+1), np.log(X['friends_count']+1), np.log(X['favourites_count']+1), np.log(X['listed_count']+1), X['default_profile'], X['geo_enabled'], X['verified'], X['protected'], X['profile_use_background_image'], X['000000'], X['407DB0'], X['DDEEF6'], X['EFEFEF'], X['others']]))\n",
    "X = np.transpose(X)\n"
   ]
  },
  {
   "cell_type": "code",
   "execution_count": 55,
   "metadata": {},
   "outputs": [
    {
     "name": "stdout",
     "output_type": "stream",
     "text": [
      "Number transactions X_train dataset:  (7711, 15)\n",
      "Number transactions y_train dataset:  (7711, 1)\n",
      "Number transactions X_test dataset:  (3306, 15)\n",
      "Number transactions y_test dataset:  (3306, 1)\n"
     ]
    }
   ],
   "source": [
    "# split into 70:30 ration \n",
    "X_train, X_test, y_train, y_test = train_test_split(X, y, test_size = 0.3, random_state = 0) \n",
    "\n",
    "# describes info about train and test set \n",
    "print(\"Number transactions X_train dataset: \", X_train.shape) \n",
    "print(\"Number transactions y_train dataset: \", y_train.shape) \n",
    "print(\"Number transactions X_test dataset: \", X_test.shape) \n",
    "print(\"Number transactions y_test dataset: \", y_test.shape) "
   ]
  },
  {
   "cell_type": "code",
   "execution_count": 56,
   "metadata": {},
   "outputs": [
    {
     "name": "stderr",
     "output_type": "stream",
     "text": [
      "/home/lenovo/virtualenv/venv/lib/python3.8/site-packages/sklearn/utils/validation.py:63: DataConversionWarning: A column-vector y was passed when a 1d array was expected. Please change the shape of y to (n_samples, ), for example using ravel().\n",
      "  return f(*args, **kwargs)\n"
     ]
    },
    {
     "name": "stdout",
     "output_type": "stream",
     "text": [
      "              precision    recall  f1-score   support\n",
      "\n",
      "           0       0.98      0.95      0.96      1095\n",
      "           1       0.97      0.99      0.98      2211\n",
      "\n",
      "    accuracy                           0.98      3306\n",
      "   macro avg       0.98      0.97      0.97      3306\n",
      "weighted avg       0.98      0.98      0.98      3306\n",
      "\n"
     ]
    },
    {
     "name": "stderr",
     "output_type": "stream",
     "text": [
      "/home/lenovo/virtualenv/venv/lib/python3.8/site-packages/sklearn/linear_model/_logistic.py:763: ConvergenceWarning: lbfgs failed to converge (status=1):\n",
      "STOP: TOTAL NO. of ITERATIONS REACHED LIMIT.\n",
      "\n",
      "Increase the number of iterations (max_iter) or scale the data as shown in:\n",
      "    https://scikit-learn.org/stable/modules/preprocessing.html\n",
      "Please also refer to the documentation for alternative solver options:\n",
      "    https://scikit-learn.org/stable/modules/linear_model.html#logistic-regression\n",
      "  n_iter_i = _check_optimize_result(\n"
     ]
    }
   ],
   "source": [
    "# train the model on train set\n",
    "lr1 = LogisticRegression() \n",
    "fit_model = lr1.fit(X_train, y_train)\n",
    "predictions = lr1.predict(X_test) \n",
    "\n",
    "# print classification report \n",
    "print(classification_report(y_test, predictions)) "
   ]
  },
  {
   "cell_type": "markdown",
   "metadata": {},
   "source": [
    "#### Using statsmodel package to fit the model"
   ]
  },
  {
   "cell_type": "code",
   "execution_count": null,
   "metadata": {},
   "outputs": [],
   "source": [
    "# https://www.geeksforgeeks.org/logistic-regression-using-statsmodels/"
   ]
  },
  {
   "cell_type": "code",
   "execution_count": 58,
   "metadata": {},
   "outputs": [],
   "source": [
    "X_train_2 = X_train[['statuses_count', 'followers_count', 'friends_count']]"
   ]
  },
  {
   "cell_type": "code",
   "execution_count": 59,
   "metadata": {},
   "outputs": [
    {
     "name": "stdout",
     "output_type": "stream",
     "text": [
      "Optimization terminated successfully.\n",
      "         Current function value: 0.458805\n",
      "         Iterations 6\n"
     ]
    }
   ],
   "source": [
    "#### Using statsmodel package to fit the model\n",
    "log_reg = stm.Logit(y_train, X_train_2).fit() \n"
   ]
  },
  {
   "cell_type": "code",
   "execution_count": 60,
   "metadata": {
    "scrolled": true
   },
   "outputs": [
    {
     "name": "stdout",
     "output_type": "stream",
     "text": [
      "                           Logit Regression Results                           \n",
      "==============================================================================\n",
      "Dep. Variable:                      y   No. Observations:                 7711\n",
      "Model:                          Logit   Df Residuals:                     7708\n",
      "Method:                           MLE   Df Model:                            2\n",
      "Date:                Sun, 28 Mar 2021   Pseudo R-squ.:                  0.2575\n",
      "Time:                        16:00:34   Log-Likelihood:                -3537.8\n",
      "converged:                       True   LL-Null:                       -4764.7\n",
      "Covariance Type:            nonrobust   LLR p-value:                     0.000\n",
      "===================================================================================\n",
      "                      coef    std err          z      P>|z|      [0.025      0.975]\n",
      "-----------------------------------------------------------------------------------\n",
      "statuses_count     -0.3090      0.012    -25.346      0.000      -0.333      -0.285\n",
      "followers_count    -0.9734      0.031    -31.614      0.000      -1.034      -0.913\n",
      "friends_count       1.3404      0.031     43.367      0.000       1.280       1.401\n",
      "===================================================================================\n"
     ]
    }
   ],
   "source": [
    "print(log_reg.summary()) "
   ]
  },
  {
   "cell_type": "code",
   "execution_count": 61,
   "metadata": {},
   "outputs": [
    {
     "name": "stdout",
     "output_type": "stream",
     "text": [
      "<class 'pandas.core.frame.DataFrame'>\n",
      "Int64Index: 7711 entries, 1939 to 2732\n",
      "Data columns (total 15 columns):\n",
      " #   Column                        Non-Null Count  Dtype  \n",
      "---  ------                        --------------  -----  \n",
      " 0   statuses_count                7711 non-null   float64\n",
      " 1   followers_count               7711 non-null   float64\n",
      " 2   friends_count                 7711 non-null   float64\n",
      " 3   favourites_count              7711 non-null   float64\n",
      " 4   listed_count                  7711 non-null   float64\n",
      " 5   default_profile               7711 non-null   float64\n",
      " 6   geo_enabled                   7711 non-null   float64\n",
      " 7   verified                      7711 non-null   float64\n",
      " 8   protected                     7711 non-null   float64\n",
      " 9   profile_use_background_image  7711 non-null   float64\n",
      " 10  000000                        7711 non-null   float64\n",
      " 11  407DB0                        7711 non-null   float64\n",
      " 12  DDEEF6                        7711 non-null   float64\n",
      " 13  EFEFEF                        7711 non-null   float64\n",
      " 14  others                        7711 non-null   float64\n",
      "dtypes: float64(15)\n",
      "memory usage: 963.9 KB\n"
     ]
    }
   ],
   "source": [
    "X_train.info()"
   ]
  },
  {
   "cell_type": "code",
   "execution_count": 63,
   "metadata": {},
   "outputs": [],
   "source": [
    "X_train_2 = X_train[['statuses_count', 'followers_count', 'friends_count', 'verified', 'protected']]"
   ]
  },
  {
   "cell_type": "code",
   "execution_count": 73,
   "metadata": {},
   "outputs": [],
   "source": [
    "X_train_3 = X_train[['statuses_count', 'followers_count', 'friends_count', 'verified', 'protected', 'profile_use_background_image']]"
   ]
  },
  {
   "cell_type": "code",
   "execution_count": 76,
   "metadata": {},
   "outputs": [],
   "source": [
    "X_train_4 = X_train[['statuses_count', 'followers_count', 'friends_count', 'verified', 'favourites_count', 'protected', 'profile_use_background_image']]"
   ]
  },
  {
   "cell_type": "code",
   "execution_count": 78,
   "metadata": {},
   "outputs": [],
   "source": [
    "X_train_5 = X_train[['statuses_count', 'followers_count', 'friends_count', 'favourites_count','listed_count', 'verified', 'default_profile', 'protected', 'profile_use_background_image', 'geo_enabled']]"
   ]
  },
  {
   "cell_type": "code",
   "execution_count": 79,
   "metadata": {},
   "outputs": [
    {
     "name": "stdout",
     "output_type": "stream",
     "text": [
      "Warning: Maximum number of iterations has been exceeded.\n",
      "         Current function value: 0.090899\n",
      "         Iterations: 35\n",
      "                           Logit Regression Results                           \n",
      "==============================================================================\n",
      "Dep. Variable:                      y   No. Observations:                 7711\n",
      "Model:                          Logit   Df Residuals:                     7701\n",
      "Method:                           MLE   Df Model:                            9\n",
      "Date:                Sun, 28 Mar 2021   Pseudo R-squ.:                  0.8529\n",
      "Time:                        16:10:39   Log-Likelihood:                -700.92\n",
      "converged:                      False   LL-Null:                       -4764.7\n",
      "Covariance Type:            nonrobust   LLR p-value:                     0.000\n",
      "================================================================================================\n",
      "                                   coef    std err          z      P>|z|      [0.025      0.975]\n",
      "------------------------------------------------------------------------------------------------\n",
      "statuses_count                   0.1413      0.036      3.932      0.000       0.071       0.212\n",
      "followers_count                 -0.2940      0.085     -3.478      0.001      -0.460      -0.128\n",
      "friends_count                    0.7065      0.068     10.434      0.000       0.574       0.839\n",
      "favourites_count                -1.5800      0.053    -30.041      0.000      -1.683      -1.477\n",
      "listed_count                     0.4251      0.081      5.268      0.000       0.267       0.583\n",
      "verified                       -17.6060   6441.086     -0.003      0.998   -1.26e+04    1.26e+04\n",
      "default_profile                 -1.9788      0.210     -9.413      0.000      -2.391      -1.567\n",
      "protected                      -19.9851   2.44e+04     -0.001      0.999   -4.78e+04    4.78e+04\n",
      "profile_use_background_image     1.9956      0.174     11.461      0.000       1.654       2.337\n",
      "geo_enabled                     -1.8393      0.207     -8.876      0.000      -2.246      -1.433\n",
      "================================================================================================\n"
     ]
    },
    {
     "name": "stderr",
     "output_type": "stream",
     "text": [
      "/home/lenovo/virtualenv/venv/lib/python3.8/site-packages/statsmodels/base/model.py:566: ConvergenceWarning: Maximum Likelihood optimization failed to converge. Check mle_retvals\n",
      "  warnings.warn(\"Maximum Likelihood optimization failed to \"\n"
     ]
    }
   ],
   "source": [
    "#### Using statsmodel package to fit the model\n",
    "log_reg = stm.Logit(y_train, X_train_5).fit() \n",
    "print(log_reg.summary()) "
   ]
  },
  {
   "cell_type": "code",
   "execution_count": null,
   "metadata": {},
   "outputs": [],
   "source": []
  },
  {
   "cell_type": "code",
   "execution_count": 64,
   "metadata": {},
   "outputs": [
    {
     "name": "stdout",
     "output_type": "stream",
     "text": [
      "Warning: Maximum number of iterations has been exceeded.\n",
      "         Current function value: 0.455086\n",
      "         Iterations: 35\n"
     ]
    },
    {
     "name": "stderr",
     "output_type": "stream",
     "text": [
      "/home/lenovo/virtualenv/venv/lib/python3.8/site-packages/statsmodels/base/model.py:566: ConvergenceWarning: Maximum Likelihood optimization failed to converge. Check mle_retvals\n",
      "  warnings.warn(\"Maximum Likelihood optimization failed to \"\n"
     ]
    }
   ],
   "source": [
    "#### Using statsmodel package to fit the model\n",
    "log_reg = stm.Logit(y_train, X_train_2).fit() \n"
   ]
  },
  {
   "cell_type": "code",
   "execution_count": 65,
   "metadata": {
    "scrolled": true
   },
   "outputs": [
    {
     "name": "stdout",
     "output_type": "stream",
     "text": [
      "                           Logit Regression Results                           \n",
      "==============================================================================\n",
      "Dep. Variable:                      y   No. Observations:                 7711\n",
      "Model:                          Logit   Df Residuals:                     7706\n",
      "Method:                           MLE   Df Model:                            4\n",
      "Date:                Sun, 28 Mar 2021   Pseudo R-squ.:                  0.2635\n",
      "Time:                        16:00:56   Log-Likelihood:                -3509.2\n",
      "converged:                      False   LL-Null:                       -4764.7\n",
      "Covariance Type:            nonrobust   LLR p-value:                     0.000\n",
      "===================================================================================\n",
      "                      coef    std err          z      P>|z|      [0.025      0.975]\n",
      "-----------------------------------------------------------------------------------\n",
      "statuses_count     -0.3051      0.012    -25.014      0.000      -0.329      -0.281\n",
      "followers_count    -0.9738      0.031    -31.495      0.000      -1.034      -0.913\n",
      "friends_count       1.3392      0.031     43.161      0.000       1.278       1.400\n",
      "verified          -17.8418   5138.654     -0.003      0.997   -1.01e+04    1.01e+04\n",
      "protected         -16.6498    584.287     -0.028      0.977   -1161.832    1128.533\n",
      "===================================================================================\n"
     ]
    }
   ],
   "source": [
    "print(log_reg.summary()) "
   ]
  },
  {
   "cell_type": "code",
   "execution_count": null,
   "metadata": {},
   "outputs": [],
   "source": []
  },
  {
   "cell_type": "markdown",
   "metadata": {},
   "source": [
    "### Binomial Family Model with Default Link Function"
   ]
  },
  {
   "cell_type": "code",
   "execution_count": 70,
   "metadata": {},
   "outputs": [],
   "source": [
    "gamma_model = stm.GLM(y_train, X_train_2, family = stm.families.Binomial())"
   ]
  },
  {
   "cell_type": "code",
   "execution_count": 71,
   "metadata": {},
   "outputs": [],
   "source": [
    "gamma_results = gamma_model.fit()"
   ]
  },
  {
   "cell_type": "code",
   "execution_count": 72,
   "metadata": {
    "scrolled": true
   },
   "outputs": [
    {
     "name": "stdout",
     "output_type": "stream",
     "text": [
      "                 Generalized Linear Model Regression Results                  \n",
      "==============================================================================\n",
      "Dep. Variable:                      y   No. Observations:                 7711\n",
      "Model:                            GLM   Df Residuals:                     7706\n",
      "Model Family:                Binomial   Df Model:                            4\n",
      "Link Function:                  logit   Scale:                          1.0000\n",
      "Method:                          IRLS   Log-Likelihood:                -3509.2\n",
      "Date:                Sun, 28 Mar 2021   Deviance:                       7018.3\n",
      "Time:                        16:05:04   Pearson chi2:                 4.13e+04\n",
      "No. Iterations:                    23                                         \n",
      "Covariance Type:            nonrobust                                         \n",
      "===================================================================================\n",
      "                      coef    std err          z      P>|z|      [0.025      0.975]\n",
      "-----------------------------------------------------------------------------------\n",
      "statuses_count     -0.3051      0.012    -25.014      0.000      -0.329      -0.281\n",
      "followers_count    -0.9738      0.031    -31.495      0.000      -1.034      -0.913\n",
      "friends_count       1.3392      0.031     43.161      0.000       1.278       1.400\n",
      "verified          -22.7371    3.6e+04     -0.001      0.999   -7.06e+04    7.06e+04\n",
      "protected         -24.3074   1.63e+04     -0.001      0.999    -3.2e+04    3.19e+04\n",
      "===================================================================================\n"
     ]
    }
   ],
   "source": [
    "print(gamma_results.summary())"
   ]
  },
  {
   "cell_type": "code",
   "execution_count": null,
   "metadata": {},
   "outputs": [],
   "source": []
  },
  {
   "cell_type": "code",
   "execution_count": null,
   "metadata": {},
   "outputs": [],
   "source": []
  },
  {
   "cell_type": "code",
   "execution_count": 82,
   "metadata": {},
   "outputs": [
    {
     "name": "stdout",
     "output_type": "stream",
     "text": [
      "                 Generalized Linear Model Regression Results                  \n",
      "==============================================================================\n",
      "Dep. Variable:                      y   No. Observations:                 7711\n",
      "Model:                            GLM   Df Residuals:                     7705\n",
      "Model Family:                Binomial   Df Model:                            5\n",
      "Link Function:                  logit   Scale:                          1.0000\n",
      "Method:                          IRLS   Log-Likelihood:                -3186.6\n",
      "Date:                Sun, 28 Mar 2021   Deviance:                       6373.1\n",
      "Time:                        16:23:38   Pearson chi2:                 1.58e+04\n",
      "No. Iterations:                    23                                         \n",
      "Covariance Type:            nonrobust                                         \n",
      "================================================================================================\n",
      "                                   coef    std err          z      P>|z|      [0.025      0.975]\n",
      "------------------------------------------------------------------------------------------------\n",
      "statuses_count                  -0.5065      0.017    -30.041      0.000      -0.540      -0.473\n",
      "followers_count                 -0.6655      0.036    -18.402      0.000      -0.736      -0.595\n",
      "friends_count                    0.9922      0.034     29.544      0.000       0.926       1.058\n",
      "verified                       -22.7504    3.8e+04     -0.001      1.000   -7.45e+04    7.44e+04\n",
      "protected                      -24.5494   1.61e+04     -0.002      0.999   -3.16e+04    3.15e+04\n",
      "profile_use_background_image     2.0116      0.085     23.591      0.000       1.844       2.179\n",
      "================================================================================================\n"
     ]
    }
   ],
   "source": [
    "gamma_model = stm.GLM(y_train, X_train_3, family = stm.families.Binomial())\n",
    "gamma_results = gamma_model.fit()\n",
    "print(gamma_results.summary())"
   ]
  },
  {
   "cell_type": "code",
   "execution_count": 84,
   "metadata": {},
   "outputs": [
    {
     "name": "stdout",
     "output_type": "stream",
     "text": [
      "<class 'pandas.core.frame.DataFrame'>\n",
      "Int64Index: 7711 entries, 1939 to 2732\n",
      "Data columns (total 6 columns):\n",
      " #   Column                        Non-Null Count  Dtype  \n",
      "---  ------                        --------------  -----  \n",
      " 0   statuses_count                7711 non-null   float64\n",
      " 1   followers_count               7711 non-null   float64\n",
      " 2   friends_count                 7711 non-null   float64\n",
      " 3   verified                      7711 non-null   float64\n",
      " 4   protected                     7711 non-null   float64\n",
      " 5   profile_use_background_image  7711 non-null   float64\n",
      "dtypes: float64(6)\n",
      "memory usage: 421.7 KB\n",
      "<class 'pandas.core.frame.DataFrame'>\n",
      "Int64Index: 7711 entries, 1939 to 2732\n",
      "Data columns (total 7 columns):\n",
      " #   Column                        Non-Null Count  Dtype  \n",
      "---  ------                        --------------  -----  \n",
      " 0   statuses_count                7711 non-null   float64\n",
      " 1   followers_count               7711 non-null   float64\n",
      " 2   friends_count                 7711 non-null   float64\n",
      " 3   verified                      7711 non-null   float64\n",
      " 4   favourites_count              7711 non-null   float64\n",
      " 5   protected                     7711 non-null   float64\n",
      " 6   profile_use_background_image  7711 non-null   float64\n",
      "dtypes: float64(7)\n",
      "memory usage: 481.9 KB\n"
     ]
    }
   ],
   "source": [
    "X_train_3.info()\n",
    "X_train_4.info()"
   ]
  },
  {
   "cell_type": "code",
   "execution_count": 81,
   "metadata": {},
   "outputs": [
    {
     "name": "stdout",
     "output_type": "stream",
     "text": [
      "                 Generalized Linear Model Regression Results                  \n",
      "==============================================================================\n",
      "Dep. Variable:                      y   No. Observations:                 7711\n",
      "Model:                            GLM   Df Residuals:                     7704\n",
      "Model Family:                Binomial   Df Model:                            6\n",
      "Link Function:                  logit   Scale:                          1.0000\n",
      "Method:                          IRLS   Log-Likelihood:                -798.67\n",
      "Date:                Sun, 28 Mar 2021   Deviance:                       1597.3\n",
      "Time:                        16:23:09   Pearson chi2:                 2.59e+05\n",
      "No. Iterations:                    23                                         \n",
      "Covariance Type:            nonrobust                                         \n",
      "================================================================================================\n",
      "                                   coef    std err          z      P>|z|      [0.025      0.975]\n",
      "------------------------------------------------------------------------------------------------\n",
      "statuses_count                   0.2803      0.033      8.618      0.000       0.217       0.344\n",
      "followers_count                 -0.2741      0.071     -3.870      0.000      -0.413      -0.135\n",
      "friends_count                    0.6723      0.061     11.075      0.000       0.553       0.791\n",
      "verified                       -23.8374   3.58e+04     -0.001      0.999   -7.01e+04    7.01e+04\n",
      "favourites_count                -1.6912      0.052    -32.767      0.000      -1.792      -1.590\n",
      "protected                      -21.4250   1.38e+04     -0.002      0.999   -2.71e+04     2.7e+04\n",
      "profile_use_background_image     1.0142      0.149      6.785      0.000       0.721       1.307\n",
      "================================================================================================\n"
     ]
    }
   ],
   "source": [
    "gamma_model = stm.GLM(y_train, X_train_4, family = stm.families.Binomial())\n",
    "gamma_results = gamma_model.fit()\n",
    "print(gamma_results.summary())"
   ]
  },
  {
   "cell_type": "code",
   "execution_count": 80,
   "metadata": {},
   "outputs": [
    {
     "name": "stdout",
     "output_type": "stream",
     "text": [
      "                 Generalized Linear Model Regression Results                  \n",
      "==============================================================================\n",
      "Dep. Variable:                      y   No. Observations:                 7711\n",
      "Model:                            GLM   Df Residuals:                     7701\n",
      "Model Family:                Binomial   Df Model:                            9\n",
      "Link Function:                  logit   Scale:                          1.0000\n",
      "Method:                          IRLS   Log-Likelihood:                -700.92\n",
      "Date:                Sun, 28 Mar 2021   Deviance:                       1401.8\n",
      "Time:                        16:11:56   Pearson chi2:                 1.89e+05\n",
      "No. Iterations:                    23                                         \n",
      "Covariance Type:            nonrobust                                         \n",
      "================================================================================================\n",
      "                                   coef    std err          z      P>|z|      [0.025      0.975]\n",
      "------------------------------------------------------------------------------------------------\n",
      "statuses_count                   0.1413      0.036      3.932      0.000       0.071       0.212\n",
      "followers_count                 -0.2940      0.085     -3.478      0.001      -0.460      -0.128\n",
      "friends_count                    0.7065      0.068     10.434      0.000       0.574       0.839\n",
      "favourites_count                -1.5800      0.053    -30.041      0.000      -1.683      -1.477\n",
      "listed_count                     0.4251      0.081      5.268      0.000       0.267       0.583\n",
      "verified                       -22.3323   4.15e+04     -0.001      1.000   -8.14e+04    8.13e+04\n",
      "default_profile                 -1.9788      0.210     -9.413      0.000      -2.391      -1.567\n",
      "protected                      -19.8992   1.42e+04     -0.001      0.999   -2.78e+04    2.77e+04\n",
      "profile_use_background_image     1.9956      0.174     11.461      0.000       1.654       2.337\n",
      "geo_enabled                     -1.8393      0.207     -8.876      0.000      -2.246      -1.433\n",
      "================================================================================================\n"
     ]
    }
   ],
   "source": [
    "gamma_model = stm.GLM(y_train, X_train_5, family = stm.families.Binomial())\n",
    "gamma_results = gamma_model.fit()\n",
    "print(gamma_results.summary())"
   ]
  },
  {
   "cell_type": "code",
   "execution_count": 85,
   "metadata": {},
   "outputs": [
    {
     "name": "stdout",
     "output_type": "stream",
     "text": [
      "                 Generalized Linear Model Regression Results                  \n",
      "==============================================================================\n",
      "Dep. Variable:                      y   No. Observations:                 7711\n",
      "Model:                            GLM   Df Residuals:                     7696\n",
      "Model Family:                Binomial   Df Model:                           14\n",
      "Link Function:                  logit   Scale:                          1.0000\n",
      "Method:                          IRLS   Log-Likelihood:                -602.41\n",
      "Date:                Sun, 28 Mar 2021   Deviance:                       1204.8\n",
      "Time:                        16:30:58   Pearson chi2:                 6.35e+04\n",
      "No. Iterations:                    25                                         \n",
      "Covariance Type:            nonrobust                                         \n",
      "================================================================================================\n",
      "                                   coef    std err          z      P>|z|      [0.025      0.975]\n",
      "------------------------------------------------------------------------------------------------\n",
      "statuses_count                   0.0101      0.048      0.209      0.835      -0.085       0.105\n",
      "followers_count                 -0.2049      0.091     -2.240      0.025      -0.384      -0.026\n",
      "friends_count                    0.2481      0.084      2.947      0.003       0.083       0.413\n",
      "favourites_count                -1.2712      0.048    -26.227      0.000      -1.366      -1.176\n",
      "listed_count                     0.4668      0.088      5.333      0.000       0.295       0.638\n",
      "default_profile                 -2.3120      0.248     -9.334      0.000      -2.797      -1.827\n",
      "geo_enabled                     -2.1518      0.230     -9.372      0.000      -2.602      -1.702\n",
      "verified                       -23.9317   1.15e+05     -0.000      1.000   -2.26e+05    2.26e+05\n",
      "protected                      -22.5132   3.95e+04     -0.001      1.000   -7.75e+04    7.74e+04\n",
      "profile_use_background_image    -0.4878      0.271     -1.801      0.072      -1.019       0.043\n",
      "000000                           2.7009      0.421      6.411      0.000       1.875       3.527\n",
      "407DB0                          27.7755   1.31e+04      0.002      0.998   -2.56e+04    2.57e+04\n",
      "DDEEF6                           4.9614      0.413     12.002      0.000       4.151       5.772\n",
      "EFEFEF                           4.1589      0.562      7.399      0.000       3.057       5.261\n",
      "others                           3.7037      0.371      9.981      0.000       2.976       4.431\n",
      "================================================================================================\n"
     ]
    }
   ],
   "source": [
    "gamma_model = stm.GLM(y_train, X_train, family = stm.families.Binomial())\n",
    "gamma_results = gamma_model.fit()\n",
    "print(gamma_results.summary())"
   ]
  },
  {
   "cell_type": "code",
   "execution_count": 86,
   "metadata": {},
   "outputs": [],
   "source": [
    "from sklearn.feature_selection import RFE"
   ]
  },
  {
   "cell_type": "code",
   "execution_count": null,
   "metadata": {},
   "outputs": [],
   "source": []
  },
  {
   "cell_type": "code",
   "execution_count": null,
   "metadata": {},
   "outputs": [],
   "source": []
  },
  {
   "cell_type": "code",
   "execution_count": null,
   "metadata": {},
   "outputs": [],
   "source": []
  },
  {
   "cell_type": "code",
   "execution_count": null,
   "metadata": {},
   "outputs": [],
   "source": []
  },
  {
   "cell_type": "code",
   "execution_count": null,
   "metadata": {},
   "outputs": [],
   "source": []
  }
 ],
 "metadata": {
  "kernelspec": {
   "display_name": "Python 3",
   "language": "python",
   "name": "python3"
  },
  "language_info": {
   "codemirror_mode": {
    "name": "ipython",
    "version": 3
   },
   "file_extension": ".py",
   "mimetype": "text/x-python",
   "name": "python",
   "nbconvert_exporter": "python",
   "pygments_lexer": "ipython3",
   "version": "3.8.5"
  }
 },
 "nbformat": 4,
 "nbformat_minor": 4
}
