{
 "cells": [
  {
   "cell_type": "code",
   "execution_count": 1,
   "metadata": {},
   "outputs": [],
   "source": [
    "import pandas as pd\n",
    "import numpy as np\n",
    "import sklearn\n",
    "import matplotlib.pyplot as plt\n",
    "import gc\n",
    "import seaborn as sns\n",
    "from mpl_toolkits.mplot3d import Axes3D\n",
    "import plotly.express as px\n",
    "import pylab as py \n",
    "import statsmodels.api as sm"
   ]
  },
  {
   "cell_type": "code",
   "execution_count": 13,
   "metadata": {},
   "outputs": [],
   "source": [
    "df=pd.read_csv(\"D:/Sitanshu/Python/Twitter_Bot_Classification/finaldata.csv\")\n",
    "df_1=pd.read_csv(\"D:/Sitanshu/Python/Twitter_Bot_Classification/model_data.csv\")\n",
    "df_1 = df_1.drop('Unnamed: 0', axis =1)\n",
    "df = df.drop(['Unnamed: 0', 'crawled_at', 'contributors_enabled','testset', 'random', 'default_profile_image', 'notifications', 'following', 'follow_request_sent', 'is_translator'], axis = 1)"
   ]
  },
  {
   "cell_type": "code",
   "execution_count": 16,
   "metadata": {},
   "outputs": [
    {
     "name": "stdout",
     "output_type": "stream",
     "text": [
      "<class 'pandas.core.frame.DataFrame'>\n",
      "RangeIndex: 11017 entries, 0 to 11016\n",
      "Data columns (total 34 columns):\n",
      " #   Column                              Non-Null Count  Dtype  \n",
      "---  ------                              --------------  -----  \n",
      " 0   id                                  11017 non-null  int64  \n",
      " 1   name                                11016 non-null  object \n",
      " 2   screen_name                         11017 non-null  object \n",
      " 3   statuses_count                      11017 non-null  int64  \n",
      " 4   followers_count                     11017 non-null  int64  \n",
      " 5   friends_count                       11017 non-null  int64  \n",
      " 6   favourites_count                    11017 non-null  int64  \n",
      " 7   listed_count                        11017 non-null  int64  \n",
      " 8   url                                 3508 non-null   object \n",
      " 9   lang                                10017 non-null  object \n",
      " 10  time_zone                           5015 non-null   object \n",
      " 11  location                            4908 non-null   object \n",
      " 12  default_profile                     1477 non-null   float64\n",
      " 13  geo_enabled                         3294 non-null   float64\n",
      " 14  profile_image_url                   11017 non-null  object \n",
      " 15  profile_banner_url                  4819 non-null   object \n",
      " 16  profile_use_background_image        9503 non-null   float64\n",
      " 17  profile_background_image_url_https  10017 non-null  object \n",
      " 18  profile_text_color                  10017 non-null  object \n",
      " 19  profile_image_url_https             10017 non-null  object \n",
      " 20  profile_sidebar_border_color        10017 non-null  object \n",
      " 21  profile_background_tile             5331 non-null   float64\n",
      " 22  profile_sidebar_fill_color          10017 non-null  object \n",
      " 23  profile_background_image_url        11017 non-null  object \n",
      " 24  profile_background_color            10017 non-null  object \n",
      " 25  profile_link_color                  10017 non-null  object \n",
      " 26  utc_offset                          5015 non-null   float64\n",
      " 27  protected                           78 non-null     float64\n",
      " 28  verified                            11 non-null     float64\n",
      " 29  description                         6346 non-null   object \n",
      " 30  created_at                          11017 non-null  object \n",
      " 31  timestamp                           11017 non-null  object \n",
      " 32  updated                             11017 non-null  object \n",
      " 33  Category                            11017 non-null  object \n",
      "dtypes: float64(7), int64(6), object(21)\n",
      "memory usage: 2.0+ MB\n"
     ]
    }
   ],
   "source": [
    "df.info()"
   ]
  },
  {
   "cell_type": "code",
   "execution_count": null,
   "metadata": {},
   "outputs": [],
   "source": [
    "df_model = df[['statuses_count', 'followers_count', 'friends_count', 'favourites_count', 'listed_count', 'timestamp']]"
   ]
  },
  {
   "cell_type": "code",
   "execution_count": null,
   "metadata": {},
   "outputs": [],
   "source": [
    "df_model['description_present'] = df_1['description_presence']\n",
    "df_model['age'] = df_1['age']\n"
   ]
  },
  {
   "cell_type": "code",
   "execution_count": null,
   "metadata": {},
   "outputs": [],
   "source": [
    "#dropping column with description as we are not working on language and text recognition for the model.\n",
    "df = df.drop(['description'], axis = 1)"
   ]
  },
  {
   "cell_type": "code",
   "execution_count": null,
   "metadata": {},
   "outputs": [],
   "source": [
    "df[['timestamp', 'created_at']].head(100)"
   ]
  },
  {
   "cell_type": "code",
   "execution_count": null,
   "metadata": {
    "scrolled": true
   },
   "outputs": [],
   "source": [
    "df.info()"
   ]
  },
  {
   "cell_type": "code",
   "execution_count": null,
   "metadata": {},
   "outputs": [],
   "source": [
    "fig_1 = sns.countplot(x = 'protected', data = df, hue = \"Category\")"
   ]
  },
  {
   "cell_type": "code",
   "execution_count": null,
   "metadata": {},
   "outputs": [],
   "source": [
    "df['description']"
   ]
  },
  {
   "cell_type": "code",
   "execution_count": null,
   "metadata": {},
   "outputs": [],
   "source": [
    "fig_1 = sns.countplot(x = 'default_profile_image', data = df, hue = 'Category')"
   ]
  },
  {
   "cell_type": "code",
   "execution_count": null,
   "metadata": {},
   "outputs": [],
   "source": []
  },
  {
   "cell_type": "code",
   "execution_count": null,
   "metadata": {},
   "outputs": [],
   "source": [
    "# manipulating target variable by putting 0 and 1 values\n",
    "df_model.loc[df[\"Category\"] == 'genuine', \"class\"] = \"0\"\n",
    "df_model.loc[df[\"Category\"] != 'genuine', \"class\"] = \"1\""
   ]
  },
  {
   "cell_type": "code",
   "execution_count": null,
   "metadata": {},
   "outputs": [],
   "source": [
    "df['class'].value_counts()"
   ]
  },
  {
   "cell_type": "code",
   "execution_count": null,
   "metadata": {},
   "outputs": [],
   "source": [
    "fig_1 = sns.countplot(x = 'class', data = df_model)"
   ]
  },
  {
   "cell_type": "code",
   "execution_count": null,
   "metadata": {},
   "outputs": [],
   "source": [
    "df['default_profile_image'].value_counts()"
   ]
  },
  {
   "cell_type": "code",
   "execution_count": null,
   "metadata": {},
   "outputs": [],
   "source": []
  },
  {
   "cell_type": "code",
   "execution_count": null,
   "metadata": {},
   "outputs": [],
   "source": [
    "df_model['default_profile_image'] = df['default_profile_image']\n",
    "fig_1 = sns.countplot(x = 'default_profile_image', data = df_model, hue = 'class')"
   ]
  },
  {
   "cell_type": "code",
   "execution_count": null,
   "metadata": {},
   "outputs": [],
   "source": [
    "df_model.drop(columns = 'default_profile_image', axis = 1)"
   ]
  },
  {
   "cell_type": "code",
   "execution_count": null,
   "metadata": {},
   "outputs": [],
   "source": [
    "print(df['profile_background_color'].value_counts())"
   ]
  },
  {
   "cell_type": "code",
   "execution_count": null,
   "metadata": {},
   "outputs": [],
   "source": [
    "# manipulating target variable by putting 0 and 1 values\n",
    "df.loc[df[\"profile_background_color\"] == '0000FF', \"background_color_class\"] = \"1\"\n",
    "df.loc[df[\"profile_background_color\"] == 'C0DEED', \"background_color_class\"] = \"2\"\n",
    "df.loc[df[\"profile_background_color\"] == '131516', \"background_color_class\"] = \"3\"\n",
    "df.loc[df[\"profile_background_color\"] == '000000', \"background_color_class\"] = \"4\"\n",
    "#df.loc[np.logical_and(df[\"profile_background_color\"] != '131516', df[\"profile_background_color\"] != 'C0DEED',df[\"profile_background_color\"] != '0000FF') , \"background_color_class\"] = \"4\""
   ]
  },
  {
   "cell_type": "code",
   "execution_count": null,
   "metadata": {},
   "outputs": [],
   "source": [
    "df['background_color_class'] = df['background_color_class'].fillna(\"5\")"
   ]
  },
  {
   "cell_type": "code",
   "execution_count": null,
   "metadata": {},
   "outputs": [],
   "source": [
    "df['background_color_class'].value_counts()"
   ]
  },
  {
   "cell_type": "code",
   "execution_count": null,
   "metadata": {},
   "outputs": [],
   "source": [
    "fig_1 = sns.countplot(x = 'background_color_class', data = df, hue = 'class')"
   ]
  },
  {
   "cell_type": "code",
   "execution_count": null,
   "metadata": {},
   "outputs": [],
   "source": [
    "print(df['profile_text_color'].value_counts())"
   ]
  },
  {
   "cell_type": "code",
   "execution_count": null,
   "metadata": {},
   "outputs": [],
   "source": [
    "# manipulating target variable by putting 0 and 1 values\n",
    "df.loc[df[\"profile_text_color\"] == '333333', \"text_color_class\"] = \"1\"\n",
    "df.loc[np.logical_or(df[\"profile_text_color\"] == '0',df[\"profile_text_color\"] == '000000') , \"text_color_class\"] = \"2\"\n",
    "df.loc[df[\"profile_text_color\"] == '3D1957', \"text_color_class\"] = \"3\"\n",
    "#df.loc[np.logical_and(df[\"profile_background_color\"] != '131516', df[\"profile_background_color\"] != 'C0DEED',df[\"profile_background_color\"] != '0000FF') , \"background_color_class\"] = \"4\""
   ]
  },
  {
   "cell_type": "code",
   "execution_count": null,
   "metadata": {},
   "outputs": [],
   "source": [
    "df['text_color_class'] = df['text_color_class'].fillna(\"4\")"
   ]
  },
  {
   "cell_type": "code",
   "execution_count": null,
   "metadata": {},
   "outputs": [],
   "source": [
    "df['text_color_class'].value_counts()"
   ]
  },
  {
   "cell_type": "code",
   "execution_count": null,
   "metadata": {},
   "outputs": [],
   "source": [
    "fig_1 = sns.countplot(x = 'background_color_class', data = df, hue = 'class')"
   ]
  },
  {
   "cell_type": "code",
   "execution_count": null,
   "metadata": {},
   "outputs": [],
   "source": [
    "print(df['profile_sidebar_fill_color'].value_counts())"
   ]
  },
  {
   "cell_type": "code",
   "execution_count": null,
   "metadata": {},
   "outputs": [],
   "source": [
    "# manipulating target variable by putting 0 and 1 values\n",
    "df.loc[df[\"profile_sidebar_fill_color\"] == 'DDEEF6', \"sidebar_color_class\"] = \"1\"\n",
    "df.loc[np.logical_or(df[\"profile_sidebar_fill_color\"] == '0',df[\"profile_sidebar_fill_color\"] == '000000') , \"sidebar_color_class\"] = \"2\"\n",
    "df.loc[df[\"profile_sidebar_fill_color\"] == '407DB0', \"sidebar_color_class\"] = \"3\"\n",
    "df.loc[df[\"profile_sidebar_fill_color\"] == 'EFEFEF', \"sidebar_color_class\"] = \"4\"\n",
    "#df.loc[np.logical_and(df[\"profile_background_color\"] != '131516', df[\"profile_background_color\"] != 'C0DEED',df[\"profile_background_color\"] != '0000FF') , \"background_color_class\"] = \"4\""
   ]
  },
  {
   "cell_type": "code",
   "execution_count": null,
   "metadata": {},
   "outputs": [],
   "source": [
    "df['sidebar_color_class'] = df['sidebar_color_class'].fillna(5)"
   ]
  },
  {
   "cell_type": "code",
   "execution_count": null,
   "metadata": {},
   "outputs": [],
   "source": [
    "fig_1 = sns.countplot(x = 'sidebar_color_class', data = df, hue = 'class')"
   ]
  },
  {
   "cell_type": "code",
   "execution_count": null,
   "metadata": {},
   "outputs": [],
   "source": [
    "df.info()"
   ]
  },
  {
   "cell_type": "code",
   "execution_count": null,
   "metadata": {
    "scrolled": true
   },
   "outputs": [],
   "source": [
    "df['profile_background_image_url_https'].value_counts()"
   ]
  },
  {
   "cell_type": "code",
   "execution_count": null,
   "metadata": {},
   "outputs": [],
   "source": [
    "key = [['https://abs.twimg.com/images/themes/theme1/bg.png', 'https://abs.twimg.com/images/themes/theme14/bg.gif', 'https://abs.twimg.com/images/themes/theme9/bg.gif', 'https://abs.twimg.com/images/themes/theme10/bg.gif']]\n",
    "df.groupby('key').sum()"
   ]
  },
  {
   "cell_type": "code",
   "execution_count": null,
   "metadata": {},
   "outputs": [],
   "source": [
    "len(df['profile_background_image_url_https'].unique())"
   ]
  },
  {
   "cell_type": "code",
   "execution_count": null,
   "metadata": {},
   "outputs": [],
   "source": [
    "fig_1 = sns.countplot(x = 'profile_background_image_url_https', data = df, hue = 'class')"
   ]
  },
  {
   "cell_type": "code",
   "execution_count": null,
   "metadata": {},
   "outputs": [],
   "source": []
  },
  {
   "cell_type": "code",
   "execution_count": null,
   "metadata": {},
   "outputs": [],
   "source": []
  },
  {
   "cell_type": "code",
   "execution_count": null,
   "metadata": {},
   "outputs": [],
   "source": []
  },
  {
   "cell_type": "code",
   "execution_count": null,
   "metadata": {},
   "outputs": [],
   "source": [
    "df = df[['id', 'screen_name', 'statuses_count', 'followers_count', 'friends_count', 'favourites_count', 'listed_count', 'default_profile', 'default_profile_image', 'protected', 'verified', 'class']]"
   ]
  },
  {
   "cell_type": "code",
   "execution_count": null,
   "metadata": {},
   "outputs": [],
   "source": [
    "list = [['default_profile', 'default_profile_image', 'protected', 'verified', 'class']]\n",
    "for i in list:\n",
    "    df[i] = df[i].astype('category')"
   ]
  },
  {
   "cell_type": "markdown",
   "metadata": {},
   "source": [
    "### Exploratory Data Analysis on raw data for feature selection and data development"
   ]
  },
  {
   "cell_type": "code",
   "execution_count": null,
   "metadata": {},
   "outputs": [],
   "source": [
    "df.info()"
   ]
  },
  {
   "cell_type": "code",
   "execution_count": null,
   "metadata": {},
   "outputs": [],
   "source": [
    "pd.options.display.float_format = '{:.5f}'.format\n",
    "df.describe()"
   ]
  },
  {
   "cell_type": "code",
   "execution_count": null,
   "metadata": {},
   "outputs": [],
   "source": [
    "corrMatrix = df.corr()\n",
    "sns.set(rc = {'figure.figsize':(10, 10)} )\n",
    "sns.set(font_scale = 2)\n",
    "sns.heatmap(corrMatrix, vmin = -1, vmax = 1, center = 0, cmap = sns.diverging_palette(20, 220, n = 200), square = True, cbar_kws = {'shrink': 0.6}, annot = True)\n",
    "plt.show"
   ]
  },
  {
   "cell_type": "code",
   "execution_count": null,
   "metadata": {},
   "outputs": [],
   "source": [
    "df.info()"
   ]
  },
  {
   "cell_type": "code",
   "execution_count": null,
   "metadata": {
    "scrolled": true
   },
   "outputs": [],
   "source": [
    "list = ['statuses_count', 'followers_count', 'friends_count', 'favourites_count', 'listed_count']\n",
    "for i in list:\n",
    "    fig = plt.figure(figsize =(7, 7)) \n",
    "    # Creating axes instance \n",
    "    ax = fig.add_axes([1, 1, 1, 1]) \n",
    "    #change of origin by adding 1 to the original data \n",
    "    ax.boxplot(np.log(df[i] + 1 ))\n",
    "        \n"
   ]
  },
  {
   "cell_type": "code",
   "execution_count": null,
   "metadata": {},
   "outputs": [],
   "source": [
    "list = {'statuses_count', 'followers_count', 'friends_count', 'favourites_count', 'listed_count'}\n",
    "for i in list:\n",
    "    fig, ax = plt.subplots(1)\n",
    "    sns.histplot(df[i]+1, bins = 100, log_scale= True, kde = True)\n",
    "    #np.log(df[i]+1).plot.hist(bins = 100)\n"
   ]
  },
  {
   "cell_type": "code",
   "execution_count": null,
   "metadata": {},
   "outputs": [],
   "source": [
    "from scipy import stats"
   ]
  },
  {
   "cell_type": "code",
   "execution_count": null,
   "metadata": {},
   "outputs": [],
   "source": [
    "type(df['statuses_count'])"
   ]
  },
  {
   "cell_type": "code",
   "execution_count": null,
   "metadata": {},
   "outputs": [],
   "source": [
    "#look for details\n",
    "crim_boxcox = stats.boxcox(df['statuses_count']+1)[0]"
   ]
  },
  {
   "cell_type": "code",
   "execution_count": null,
   "metadata": {},
   "outputs": [],
   "source": [
    "sn.histplot(data = crim_boxcox, bins = 200, kde = True)"
   ]
  },
  {
   "cell_type": "code",
   "execution_count": null,
   "metadata": {
    "scrolled": true
   },
   "outputs": [],
   "source": [
    "pd.crosstab(df['verified'], df['protected'])"
   ]
  },
  {
   "cell_type": "code",
   "execution_count": null,
   "metadata": {
    "scrolled": false
   },
   "outputs": [],
   "source": [
    "pd.crosstab(df['default_profile'], df['protected'])"
   ]
  },
  {
   "cell_type": "code",
   "execution_count": null,
   "metadata": {
    "scrolled": true
   },
   "outputs": [],
   "source": [
    "pd.crosstab(df['default_profile'], df['protected'])"
   ]
  },
  {
   "cell_type": "code",
   "execution_count": null,
   "metadata": {},
   "outputs": [],
   "source": [
    "pd.crosstab(df['default_profile'], df['default_profile_image'])"
   ]
  },
  {
   "cell_type": "code",
   "execution_count": null,
   "metadata": {
    "scrolled": true
   },
   "outputs": [],
   "source": [
    "pd.crosstab(df['class'], df['verified'])"
   ]
  },
  {
   "cell_type": "code",
   "execution_count": null,
   "metadata": {},
   "outputs": [],
   "source": [
    "pd.crosstab(df['class'], df['protected'], margins = True)"
   ]
  },
  {
   "cell_type": "code",
   "execution_count": null,
   "metadata": {},
   "outputs": [],
   "source": [
    "pd.crosstab(df['protected'], df['verified'], margins = True)"
   ]
  },
  {
   "cell_type": "code",
   "execution_count": null,
   "metadata": {},
   "outputs": [],
   "source": [
    "pd.crosstab(df['verified'], df['class'], margins = True)"
   ]
  },
  {
   "cell_type": "code",
   "execution_count": null,
   "metadata": {},
   "outputs": [],
   "source": [
    "plt.clf()"
   ]
  },
  {
   "cell_type": "code",
   "execution_count": null,
   "metadata": {},
   "outputs": [],
   "source": [
    "plt.clf()\n",
    "cross = pd.crosstab(index = [df['verified'], df['protected'], df['default_profile'], df['default_profile_image']], columns = df['class'])\n",
    "plt.subplots(figsize=(10,10))\n",
    "plt.tick_params(labelsize = 10)\n",
    "sns.heatmap(cross, cmap = 'YlOrBr', cbar_kws = {'shrink': 0.8})\n",
    "cross"
   ]
  },
  {
   "cell_type": "code",
   "execution_count": null,
   "metadata": {},
   "outputs": [],
   "source": [
    "df_bar = df[['verified', 'protected', 'class', 'default_profile', 'default_profile_image']]\n",
    "\n",
    "fig_1 = sns.countplot(x = 'protected', data = df_bar, hue = 'class')\n",
    "fig_2 = sns.countplot(x = 'default_profile', data = df_bar)\n",
    "plt.show()"
   ]
  },
  {
   "cell_type": "code",
   "execution_count": null,
   "metadata": {},
   "outputs": [],
   "source": [
    "plt.close()"
   ]
  },
  {
   "cell_type": "code",
   "execution_count": null,
   "metadata": {},
   "outputs": [],
   "source": [
    "gc.collect()"
   ]
  },
  {
   "cell_type": "code",
   "execution_count": null,
   "metadata": {},
   "outputs": [],
   "source": [
    "df_p"
   ]
  },
  {
   "cell_type": "code",
   "execution_count": null,
   "metadata": {},
   "outputs": [],
   "source": [
    "df_pairplot = df[['statuses_count', 'followers_count', 'friends_count', 'favourites_count', 'listed_count', 'class']]"
   ]
  },
  {
   "cell_type": "code",
   "execution_count": null,
   "metadata": {},
   "outputs": [],
   "source": [
    "df_pairplot['statuses_count'] = np.log(df_pairplot['statuses_count']+1)\n",
    "df_pairplot['followers_count'] = np.log(df_pairplot['followers_count']+1)\n",
    "df_pairplot['friends_count'] = np.log(df_pairplot['friends_count']+1)\n",
    "df_pairplot['favourites_count'] = np.log(df_pairplot['favourites_count']+1)\n",
    "df_pairplot['listed_count'] = np.log(df_pairplot['listed_count']+1)"
   ]
  },
  {
   "cell_type": "code",
   "execution_count": null,
   "metadata": {},
   "outputs": [],
   "source": [
    "sns.pairplot(df_pairplot)"
   ]
  },
  {
   "cell_type": "code",
   "execution_count": null,
   "metadata": {},
   "outputs": [],
   "source": [
    "plt.close()"
   ]
  },
  {
   "cell_type": "code",
   "execution_count": null,
   "metadata": {},
   "outputs": [],
   "source": [
    "sns.pairplot(df_pairplot, hue = 'class')"
   ]
  },
  {
   "cell_type": "code",
   "execution_count": null,
   "metadata": {
    "scrolled": true
   },
   "outputs": [],
   "source": [
    "fig = plt.figure()\n",
    "ax = fig.add_subplot(111, projection='3d')\n",
    "ax.scatter(np.log(df['followers_count']+1), np.log(df['listed_count']+1), np.log(df['favourites_count']+1), c='r', marker='o')\n",
    "\n",
    "ax.set_xlabel('X Label')\n",
    "ax.set_ylabel('Y Label')\n",
    "ax.set_zlabel('Z Label')"
   ]
  },
  {
   "cell_type": "code",
   "execution_count": null,
   "metadata": {
    "scrolled": false
   },
   "outputs": [],
   "source": [
    "fig = px.scatter_3d(df, x=np.log(df['statuses_count']+1), y=np.log(df['followers_count']+1), z=np.log(df['listed_count']+1),color=df['Category'],labels= True)\n",
    "fig.show()"
   ]
  },
  {
   "cell_type": "code",
   "execution_count": null,
   "metadata": {},
   "outputs": [],
   "source": [
    "fig_5 = sm.qqplot(np.log(df['favourites_count']+1), line = '45')\n",
    "fig_4 = sm.qqplot(np.log(df['listed_count']+1), line = '45')\n",
    "fig_3 = sm.qqplot(np.log(df['followers_count']+1), line = '45')\n",
    "fig_2 = sm.qqplot(np.log(df['statuses_count']+1), line = '45')\n",
    "fig_1 = sm.qqplot(np.log(df['friends_count']+1), line = '45')\n",
    "plt.show()"
   ]
  },
  {
   "cell_type": "code",
   "execution_count": null,
   "metadata": {},
   "outputs": [],
   "source": [
    "plt.scatter(np.log(df['followers_count']+1), np.log(df['friends_count']+1))"
   ]
  }
 ],
 "metadata": {
  "kernelspec": {
   "display_name": "Python 3",
   "language": "python",
   "name": "python3"
  },
  "language_info": {
   "codemirror_mode": {
    "name": "ipython",
    "version": 3
   },
   "file_extension": ".py",
   "mimetype": "text/x-python",
   "name": "python",
   "nbconvert_exporter": "python",
   "pygments_lexer": "ipython3",
   "version": "3.7.2"
  }
 },
 "nbformat": 4,
 "nbformat_minor": 4
}
