{
 "cells": [
  {
   "cell_type": "code",
   "execution_count": 1,
   "metadata": {},
   "outputs": [],
   "source": [
    "import os\n",
    "import tweepy as tw\n",
    "import pandas as pd\n",
    "\n",
    "from tweepy import Stream\n",
    "\n",
    "api_key = \"9exQhKC8S7y3aVO0WAA9Bbu6p\"\n",
    "consumer_key = api_key\n",
    "api_secret_key = \"CVMUN6IvjyymmxHAVoUE4YYcDIG8Ib4VzXM7Zkby74lXP1SLyL\"\n",
    "consumer_secret = api_secret_key\n",
    "access_token = \"1208023570246324224-iw43fIqVwpT9atvZKZ0jbsNTR7KcO7\"\n",
    "access_token_secret= '9J2ntdryOsOJ4onjvK2Jma9TvIIchcP29VnsEydeh3sr5'\n",
    "\n",
    "\n",
    "from tweepy import OAuthHandler\n",
    "from tweepy import API\n",
    "\n",
    "# Consumer key authentication(consumer_key,consumer_secret can be collected from our twitter developer profile)\n",
    "auth = OAuthHandler(consumer_key, consumer_secret)\n",
    "\n",
    "# Access key authentication(access_token,access_token_secret can be collected from our twitter developer profile)\n",
    "auth.set_access_token(access_token, access_token_secret)\n",
    "\n",
    "# Set up the API with the authentication handler\n",
    "api = API(auth, wait_on_rate_limit = True, retry_delay = 30, retry_count= 10)\n",
    "\n",
    "search_words = \"#किसान_के_लिए_बोले_भारत\"\n",
    "date_since = \"2021-01-07\"\n",
    "\n",
    "tweets = tw.Cursor(api.search,\n",
    "              q=search_words,\n",
    "              lang=\"en\",\n",
    "              since=date_since).items()\n",
    "json_data = [r._json for r in tweets]\n",
    "df_tweet = pd.json_normalize(json_data)\n",
    "\n",
    "df_tweet.to_csv(\"/home/lenovo/Documents/project_twitter/tweet_data_s_4.csv\")\n"
   ]
  },
  {
   "cell_type": "code",
   "execution_count": 2,
   "metadata": {},
   "outputs": [
    {
     "data": {
      "text/plain": [
       "<tweepy.cursor.ItemIterator at 0x7f26a71b5670>"
      ]
     },
     "execution_count": 2,
     "metadata": {},
     "output_type": "execute_result"
    }
   ],
   "source": [
    "tweets"
   ]
  }
 ],
 "metadata": {
  "kernelspec": {
   "display_name": "Python 3",
   "language": "python",
   "name": "python3"
  },
  "language_info": {
   "codemirror_mode": {
    "name": "ipython",
    "version": 3
   },
   "file_extension": ".py",
   "mimetype": "text/x-python",
   "name": "python",
   "nbconvert_exporter": "python",
   "pygments_lexer": "ipython3",
   "version": "3.8.5"
  }
 },
 "nbformat": 4,
 "nbformat_minor": 4
}
