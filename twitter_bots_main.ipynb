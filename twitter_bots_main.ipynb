{
 "cells": [
  {
   "cell_type": "markdown",
   "metadata": {},
   "source": [
    "### Importing Libraries for data preprocessing and EDA"
   ]
  },
  {
   "cell_type": "code",
   "execution_count": 1,
   "metadata": {},
   "outputs": [],
   "source": [
    "import pandas as pd\n",
    "import numpy as np\n",
    "import matplotlib.pyplot as pyplot\n",
    "import seaborn as sns\n",
    "import sklearn\n",
    "import matplotlib.pyplot as plt\n",
    "#import gc\n",
    "import seaborn as sns\n",
    "from mpl_toolkits.mplot3d import Axes3D\n",
    "import plotly.express as px\n",
    "import pylab as py \n",
    "import statsmodels.api as sm\n",
    "from scipy import stats\n",
    "#import statsmodel as sm2\n"
   ]
  },
  {
   "cell_type": "markdown",
   "metadata": {},
   "source": [
    "### Reading CRESCI dataset"
   ]
  },
  {
   "cell_type": "code",
   "execution_count": 2,
   "metadata": {},
   "outputs": [],
   "source": [
    "df=pd.read_csv(\"/home/lenovo/Downloads/finaldata.csv\")"
   ]
  },
  {
   "cell_type": "code",
   "execution_count": null,
   "metadata": {},
   "outputs": [],
   "source": [
    "# checking the first few rows of the dataset to see what we're dealing with\n",
    "df.head()"
   ]
  },
  {
   "cell_type": "code",
   "execution_count": 3,
   "metadata": {},
   "outputs": [],
   "source": [
    "#dropping column Unnamed: 0\n",
    "#dropping the train test split variable created initially for running the models\n",
    "df = df.drop([\"Unnamed: 0\", 'testset'], axis = 1)\n",
    "#setting user.id as index of the dataframe \n",
    "#df = df.set_index('id')"
   ]
  },
  {
   "cell_type": "code",
   "execution_count": null,
   "metadata": {},
   "outputs": [],
   "source": [
    "# inspecting the data\n",
    "df.shape"
   ]
  },
  {
   "cell_type": "code",
   "execution_count": 8,
   "metadata": {},
   "outputs": [
    {
     "name": "stdout",
     "output_type": "stream",
     "text": [
      "<class 'pandas.core.frame.DataFrame'>\n",
      "RangeIndex: 11017 entries, 0 to 11016\n",
      "Data columns (total 42 columns):\n",
      " #   Column                              Non-Null Count  Dtype  \n",
      "---  ------                              --------------  -----  \n",
      " 0   id                                  11017 non-null  int64  \n",
      " 1   name                                11016 non-null  object \n",
      " 2   screen_name                         11017 non-null  object \n",
      " 3   statuses_count                      11017 non-null  int64  \n",
      " 4   followers_count                     11017 non-null  int64  \n",
      " 5   friends_count                       11017 non-null  int64  \n",
      " 6   favourites_count                    11017 non-null  int64  \n",
      " 7   listed_count                        11017 non-null  int64  \n",
      " 8   url                                 3508 non-null   object \n",
      " 9   lang                                10017 non-null  object \n",
      " 10  time_zone                           5015 non-null   object \n",
      " 11  location                            4908 non-null   object \n",
      " 12  default_profile                     1477 non-null   float64\n",
      " 13  default_profile_image               72 non-null     float64\n",
      " 14  geo_enabled                         3294 non-null   float64\n",
      " 15  profile_image_url                   11017 non-null  object \n",
      " 16  profile_banner_url                  4819 non-null   object \n",
      " 17  profile_use_background_image        9503 non-null   float64\n",
      " 18  profile_background_image_url_https  10017 non-null  object \n",
      " 19  profile_text_color                  10017 non-null  object \n",
      " 20  profile_image_url_https             10017 non-null  object \n",
      " 21  profile_sidebar_border_color        10017 non-null  object \n",
      " 22  profile_background_tile             5331 non-null   float64\n",
      " 23  profile_sidebar_fill_color          10017 non-null  object \n",
      " 24  profile_background_image_url        11017 non-null  object \n",
      " 25  profile_background_color            10017 non-null  object \n",
      " 26  profile_link_color                  10017 non-null  object \n",
      " 27  utc_offset                          5015 non-null   float64\n",
      " 28  is_translator                       1 non-null      float64\n",
      " 29  follow_request_sent                 0 non-null      float64\n",
      " 30  protected                           78 non-null     float64\n",
      " 31  verified                            11 non-null     float64\n",
      " 32  notifications                       0 non-null      float64\n",
      " 33  description                         6346 non-null   object \n",
      " 34  contributors_enabled                0 non-null      float64\n",
      " 35  following                           0 non-null      float64\n",
      " 36  created_at                          11017 non-null  object \n",
      " 37  timestamp                           11017 non-null  object \n",
      " 38  crawled_at                          11017 non-null  object \n",
      " 39  updated                             11017 non-null  object \n",
      " 40  Category                            11017 non-null  object \n",
      " 41  random                              11017 non-null  int64  \n",
      "dtypes: float64(13), int64(7), object(22)\n",
      "memory usage: 3.5+ MB\n"
     ]
    }
   ],
   "source": [
    "#getting details about the columns\n",
    "df.info()"
   ]
  },
  {
   "cell_type": "code",
   "execution_count": null,
   "metadata": {},
   "outputs": [],
   "source": [
    "?df.iloc"
   ]
  },
  {
   "cell_type": "code",
   "execution_count": 6,
   "metadata": {},
   "outputs": [],
   "source": [
    "df_profile = df.iloc[:, 15:26]"
   ]
  },
  {
   "cell_type": "code",
   "execution_count": 7,
   "metadata": {},
   "outputs": [
    {
     "data": {
      "text/html": [
       "<div>\n",
       "<style scoped>\n",
       "    .dataframe tbody tr th:only-of-type {\n",
       "        vertical-align: middle;\n",
       "    }\n",
       "\n",
       "    .dataframe tbody tr th {\n",
       "        vertical-align: top;\n",
       "    }\n",
       "\n",
       "    .dataframe thead th {\n",
       "        text-align: right;\n",
       "    }\n",
       "</style>\n",
       "<table border=\"1\" class=\"dataframe\">\n",
       "  <thead>\n",
       "    <tr style=\"text-align: right;\">\n",
       "      <th></th>\n",
       "      <th>profile_image_url</th>\n",
       "      <th>profile_banner_url</th>\n",
       "      <th>profile_use_background_image</th>\n",
       "      <th>profile_background_image_url_https</th>\n",
       "      <th>profile_text_color</th>\n",
       "      <th>profile_image_url_https</th>\n",
       "      <th>profile_sidebar_border_color</th>\n",
       "      <th>profile_background_tile</th>\n",
       "      <th>profile_sidebar_fill_color</th>\n",
       "      <th>profile_background_image_url</th>\n",
       "      <th>profile_background_color</th>\n",
       "    </tr>\n",
       "  </thead>\n",
       "  <tbody>\n",
       "    <tr>\n",
       "      <th>0</th>\n",
       "      <td>http://a1.twimg.com/profile_images/53905961/st...</td>\n",
       "      <td>NaN</td>\n",
       "      <td>NaN</td>\n",
       "      <td>NaN</td>\n",
       "      <td>NaN</td>\n",
       "      <td>NaN</td>\n",
       "      <td>NaN</td>\n",
       "      <td>NaN</td>\n",
       "      <td>NaN</td>\n",
       "      <td>http://s.twimg.com/a/1288374569/images/themes/...</td>\n",
       "      <td>NaN</td>\n",
       "    </tr>\n",
       "    <tr>\n",
       "      <th>1</th>\n",
       "      <td>http://a3.twimg.com/profile_images/719249843/d...</td>\n",
       "      <td>NaN</td>\n",
       "      <td>NaN</td>\n",
       "      <td>NaN</td>\n",
       "      <td>NaN</td>\n",
       "      <td>NaN</td>\n",
       "      <td>NaN</td>\n",
       "      <td>NaN</td>\n",
       "      <td>NaN</td>\n",
       "      <td>http://a3.twimg.com/profile_background_images/...</td>\n",
       "      <td>NaN</td>\n",
       "    </tr>\n",
       "    <tr>\n",
       "      <th>2</th>\n",
       "      <td>http://a3.twimg.com/profile_images/516987291/b...</td>\n",
       "      <td>NaN</td>\n",
       "      <td>NaN</td>\n",
       "      <td>NaN</td>\n",
       "      <td>NaN</td>\n",
       "      <td>NaN</td>\n",
       "      <td>NaN</td>\n",
       "      <td>NaN</td>\n",
       "      <td>NaN</td>\n",
       "      <td>http://s.twimg.com/a/1288305442/images/themes/...</td>\n",
       "      <td>NaN</td>\n",
       "    </tr>\n",
       "    <tr>\n",
       "      <th>3</th>\n",
       "      <td>http://a3.twimg.com/profile_images/200984855/t...</td>\n",
       "      <td>NaN</td>\n",
       "      <td>NaN</td>\n",
       "      <td>NaN</td>\n",
       "      <td>NaN</td>\n",
       "      <td>NaN</td>\n",
       "      <td>NaN</td>\n",
       "      <td>NaN</td>\n",
       "      <td>NaN</td>\n",
       "      <td>http://s.twimg.com/a/1288039940/images/themes/...</td>\n",
       "      <td>NaN</td>\n",
       "    </tr>\n",
       "    <tr>\n",
       "      <th>4</th>\n",
       "      <td>http://a2.twimg.com/profile_images/53530606/sh...</td>\n",
       "      <td>NaN</td>\n",
       "      <td>NaN</td>\n",
       "      <td>NaN</td>\n",
       "      <td>NaN</td>\n",
       "      <td>NaN</td>\n",
       "      <td>NaN</td>\n",
       "      <td>NaN</td>\n",
       "      <td>NaN</td>\n",
       "      <td>http://a1.twimg.com/profile_background_images/...</td>\n",
       "      <td>NaN</td>\n",
       "    </tr>\n",
       "  </tbody>\n",
       "</table>\n",
       "</div>"
      ],
      "text/plain": [
       "                                   profile_image_url profile_banner_url  \\\n",
       "0  http://a1.twimg.com/profile_images/53905961/st...                NaN   \n",
       "1  http://a3.twimg.com/profile_images/719249843/d...                NaN   \n",
       "2  http://a3.twimg.com/profile_images/516987291/b...                NaN   \n",
       "3  http://a3.twimg.com/profile_images/200984855/t...                NaN   \n",
       "4  http://a2.twimg.com/profile_images/53530606/sh...                NaN   \n",
       "\n",
       "   profile_use_background_image profile_background_image_url_https  \\\n",
       "0                           NaN                                NaN   \n",
       "1                           NaN                                NaN   \n",
       "2                           NaN                                NaN   \n",
       "3                           NaN                                NaN   \n",
       "4                           NaN                                NaN   \n",
       "\n",
       "  profile_text_color profile_image_url_https profile_sidebar_border_color  \\\n",
       "0                NaN                     NaN                          NaN   \n",
       "1                NaN                     NaN                          NaN   \n",
       "2                NaN                     NaN                          NaN   \n",
       "3                NaN                     NaN                          NaN   \n",
       "4                NaN                     NaN                          NaN   \n",
       "\n",
       "   profile_background_tile profile_sidebar_fill_color  \\\n",
       "0                      NaN                        NaN   \n",
       "1                      NaN                        NaN   \n",
       "2                      NaN                        NaN   \n",
       "3                      NaN                        NaN   \n",
       "4                      NaN                        NaN   \n",
       "\n",
       "                        profile_background_image_url profile_background_color  \n",
       "0  http://s.twimg.com/a/1288374569/images/themes/...                      NaN  \n",
       "1  http://a3.twimg.com/profile_background_images/...                      NaN  \n",
       "2  http://s.twimg.com/a/1288305442/images/themes/...                      NaN  \n",
       "3  http://s.twimg.com/a/1288039940/images/themes/...                      NaN  \n",
       "4  http://a1.twimg.com/profile_background_images/...                      NaN  "
      ]
     },
     "execution_count": 7,
     "metadata": {},
     "output_type": "execute_result"
    }
   ],
   "source": [
    "df_profile.head()"
   ]
  },
  {
   "cell_type": "code",
   "execution_count": 12,
   "metadata": {},
   "outputs": [],
   "source": [
    "df_profile.fillna(0, inplace =True)"
   ]
  },
  {
   "cell_type": "code",
   "execution_count": 13,
   "metadata": {},
   "outputs": [
    {
     "name": "stdout",
     "output_type": "stream",
     "text": [
      "<class 'pandas.core.frame.DataFrame'>\n",
      "RangeIndex: 11017 entries, 0 to 11016\n",
      "Data columns (total 11 columns):\n",
      " #   Column                              Non-Null Count  Dtype  \n",
      "---  ------                              --------------  -----  \n",
      " 0   profile_image_url                   11017 non-null  object \n",
      " 1   profile_banner_url                  11017 non-null  object \n",
      " 2   profile_use_background_image        11017 non-null  float64\n",
      " 3   profile_background_image_url_https  11017 non-null  object \n",
      " 4   profile_text_color                  11017 non-null  object \n",
      " 5   profile_image_url_https             11017 non-null  object \n",
      " 6   profile_sidebar_border_color        11017 non-null  object \n",
      " 7   profile_background_tile             11017 non-null  float64\n",
      " 8   profile_sidebar_fill_color          11017 non-null  object \n",
      " 9   profile_background_image_url        11017 non-null  object \n",
      " 10  profile_background_color            11017 non-null  object \n",
      "dtypes: float64(2), object(9)\n",
      "memory usage: 946.9+ KB\n"
     ]
    }
   ],
   "source": [
    "df_profile.info()"
   ]
  },
  {
   "cell_type": "code",
   "execution_count": null,
   "metadata": {},
   "outputs": [],
   "source": [
    "df_profile['profile_text_color'] = df_profile['profile_text_color'].astype('str')"
   ]
  },
  {
   "cell_type": "code",
   "execution_count": 26,
   "metadata": {},
   "outputs": [
    {
     "data": {
      "text/plain": [
       "0000FF    3499\n",
       "C0DEED    1837\n",
       "253956    1125\n",
       "0         1000\n",
       "131516     496\n",
       "          ... \n",
       "4A508A       1\n",
       "370829       1\n",
       "EDF2F5       1\n",
       "8A8789       1\n",
       "0F3CC2       1\n",
       "Name: profile_background_color, Length: 533, dtype: int64"
      ]
     },
     "execution_count": 26,
     "metadata": {},
     "output_type": "execute_result"
    }
   ],
   "source": [
    "df_profile['profile_background_color'].value_counts()"
   ]
  },
  {
   "cell_type": "code",
   "execution_count": 23,
   "metadata": {},
   "outputs": [],
   "source": [
    "from sklearn.preprocessing import LabelEncoder\n",
    "\n",
    "gle = LabelEncoder()\n",
    "for i in df_profile:\n",
    "    df_profile[i] = df_profile[i].astype('str')\n",
    "    color_labels = gle.fit_transform(df_profile[i])\n",
    "    genre_mappings = {index: label for index, label in \n",
    "                      enumerate(gle.classes_)}\n",
    "    df_profile[i+'_label'] = color_labels"
   ]
  },
  {
   "cell_type": "code",
   "execution_count": 24,
   "metadata": {},
   "outputs": [
    {
     "data": {
      "text/html": [
       "<div>\n",
       "<style scoped>\n",
       "    .dataframe tbody tr th:only-of-type {\n",
       "        vertical-align: middle;\n",
       "    }\n",
       "\n",
       "    .dataframe tbody tr th {\n",
       "        vertical-align: top;\n",
       "    }\n",
       "\n",
       "    .dataframe thead th {\n",
       "        text-align: right;\n",
       "    }\n",
       "</style>\n",
       "<table border=\"1\" class=\"dataframe\">\n",
       "  <thead>\n",
       "    <tr style=\"text-align: right;\">\n",
       "      <th></th>\n",
       "      <th>profile_image_url</th>\n",
       "      <th>profile_banner_url</th>\n",
       "      <th>profile_use_background_image</th>\n",
       "      <th>profile_background_image_url_https</th>\n",
       "      <th>profile_text_color</th>\n",
       "      <th>profile_image_url_https</th>\n",
       "      <th>profile_sidebar_border_color</th>\n",
       "      <th>profile_background_tile</th>\n",
       "      <th>profile_sidebar_fill_color</th>\n",
       "      <th>profile_background_image_url</th>\n",
       "      <th>...</th>\n",
       "      <th>profile_use_background_imagelabel</th>\n",
       "      <th>profile_background_image_url_httpslabel</th>\n",
       "      <th>profile_text_colorlabel</th>\n",
       "      <th>profile_image_url_httpslabel</th>\n",
       "      <th>profile_sidebar_border_colorlabel</th>\n",
       "      <th>profile_background_tilelabel</th>\n",
       "      <th>profile_sidebar_fill_colorlabel</th>\n",
       "      <th>profile_background_image_urllabel</th>\n",
       "      <th>profile_background_colorlabel</th>\n",
       "      <th>profile_text_color_labellabel</th>\n",
       "    </tr>\n",
       "  </thead>\n",
       "  <tbody>\n",
       "    <tr>\n",
       "      <th>0</th>\n",
       "      <td>http://a1.twimg.com/profile_images/53905961/st...</td>\n",
       "      <td>0</td>\n",
       "      <td>0.0</td>\n",
       "      <td>0</td>\n",
       "      <td>0</td>\n",
       "      <td>0</td>\n",
       "      <td>0</td>\n",
       "      <td>0.0</td>\n",
       "      <td>0</td>\n",
       "      <td>http://s.twimg.com/a/1288374569/images/themes/...</td>\n",
       "      <td>...</td>\n",
       "      <td>0</td>\n",
       "      <td>0</td>\n",
       "      <td>0</td>\n",
       "      <td>0</td>\n",
       "      <td>0</td>\n",
       "      <td>0</td>\n",
       "      <td>0</td>\n",
       "      <td>6912</td>\n",
       "      <td>0</td>\n",
       "      <td>0</td>\n",
       "    </tr>\n",
       "    <tr>\n",
       "      <th>1</th>\n",
       "      <td>http://a3.twimg.com/profile_images/719249843/d...</td>\n",
       "      <td>0</td>\n",
       "      <td>0.0</td>\n",
       "      <td>0</td>\n",
       "      <td>0</td>\n",
       "      <td>0</td>\n",
       "      <td>0</td>\n",
       "      <td>0.0</td>\n",
       "      <td>0</td>\n",
       "      <td>http://a3.twimg.com/profile_background_images/...</td>\n",
       "      <td>...</td>\n",
       "      <td>0</td>\n",
       "      <td>0</td>\n",
       "      <td>0</td>\n",
       "      <td>0</td>\n",
       "      <td>0</td>\n",
       "      <td>0</td>\n",
       "      <td>0</td>\n",
       "      <td>279</td>\n",
       "      <td>0</td>\n",
       "      <td>0</td>\n",
       "    </tr>\n",
       "    <tr>\n",
       "      <th>2</th>\n",
       "      <td>http://a3.twimg.com/profile_images/516987291/b...</td>\n",
       "      <td>0</td>\n",
       "      <td>0.0</td>\n",
       "      <td>0</td>\n",
       "      <td>0</td>\n",
       "      <td>0</td>\n",
       "      <td>0</td>\n",
       "      <td>0.0</td>\n",
       "      <td>0</td>\n",
       "      <td>http://s.twimg.com/a/1288305442/images/themes/...</td>\n",
       "      <td>...</td>\n",
       "      <td>0</td>\n",
       "      <td>0</td>\n",
       "      <td>0</td>\n",
       "      <td>0</td>\n",
       "      <td>0</td>\n",
       "      <td>0</td>\n",
       "      <td>0</td>\n",
       "      <td>6893</td>\n",
       "      <td>0</td>\n",
       "      <td>0</td>\n",
       "    </tr>\n",
       "    <tr>\n",
       "      <th>3</th>\n",
       "      <td>http://a3.twimg.com/profile_images/200984855/t...</td>\n",
       "      <td>0</td>\n",
       "      <td>0.0</td>\n",
       "      <td>0</td>\n",
       "      <td>0</td>\n",
       "      <td>0</td>\n",
       "      <td>0</td>\n",
       "      <td>0.0</td>\n",
       "      <td>0</td>\n",
       "      <td>http://s.twimg.com/a/1288039940/images/themes/...</td>\n",
       "      <td>...</td>\n",
       "      <td>0</td>\n",
       "      <td>0</td>\n",
       "      <td>0</td>\n",
       "      <td>0</td>\n",
       "      <td>0</td>\n",
       "      <td>0</td>\n",
       "      <td>0</td>\n",
       "      <td>6878</td>\n",
       "      <td>0</td>\n",
       "      <td>0</td>\n",
       "    </tr>\n",
       "    <tr>\n",
       "      <th>4</th>\n",
       "      <td>http://a2.twimg.com/profile_images/53530606/sh...</td>\n",
       "      <td>0</td>\n",
       "      <td>0.0</td>\n",
       "      <td>0</td>\n",
       "      <td>0</td>\n",
       "      <td>0</td>\n",
       "      <td>0</td>\n",
       "      <td>0.0</td>\n",
       "      <td>0</td>\n",
       "      <td>http://a1.twimg.com/profile_background_images/...</td>\n",
       "      <td>...</td>\n",
       "      <td>0</td>\n",
       "      <td>0</td>\n",
       "      <td>0</td>\n",
       "      <td>0</td>\n",
       "      <td>0</td>\n",
       "      <td>0</td>\n",
       "      <td>0</td>\n",
       "      <td>18</td>\n",
       "      <td>0</td>\n",
       "      <td>0</td>\n",
       "    </tr>\n",
       "  </tbody>\n",
       "</table>\n",
       "<p>5 rows × 24 columns</p>\n",
       "</div>"
      ],
      "text/plain": [
       "                                   profile_image_url profile_banner_url  \\\n",
       "0  http://a1.twimg.com/profile_images/53905961/st...                  0   \n",
       "1  http://a3.twimg.com/profile_images/719249843/d...                  0   \n",
       "2  http://a3.twimg.com/profile_images/516987291/b...                  0   \n",
       "3  http://a3.twimg.com/profile_images/200984855/t...                  0   \n",
       "4  http://a2.twimg.com/profile_images/53530606/sh...                  0   \n",
       "\n",
       "  profile_use_background_image profile_background_image_url_https  \\\n",
       "0                          0.0                                  0   \n",
       "1                          0.0                                  0   \n",
       "2                          0.0                                  0   \n",
       "3                          0.0                                  0   \n",
       "4                          0.0                                  0   \n",
       "\n",
       "  profile_text_color profile_image_url_https profile_sidebar_border_color  \\\n",
       "0                  0                       0                            0   \n",
       "1                  0                       0                            0   \n",
       "2                  0                       0                            0   \n",
       "3                  0                       0                            0   \n",
       "4                  0                       0                            0   \n",
       "\n",
       "  profile_background_tile profile_sidebar_fill_color  \\\n",
       "0                     0.0                          0   \n",
       "1                     0.0                          0   \n",
       "2                     0.0                          0   \n",
       "3                     0.0                          0   \n",
       "4                     0.0                          0   \n",
       "\n",
       "                        profile_background_image_url  ...  \\\n",
       "0  http://s.twimg.com/a/1288374569/images/themes/...  ...   \n",
       "1  http://a3.twimg.com/profile_background_images/...  ...   \n",
       "2  http://s.twimg.com/a/1288305442/images/themes/...  ...   \n",
       "3  http://s.twimg.com/a/1288039940/images/themes/...  ...   \n",
       "4  http://a1.twimg.com/profile_background_images/...  ...   \n",
       "\n",
       "  profile_use_background_imagelabel profile_background_image_url_httpslabel  \\\n",
       "0                                 0                                       0   \n",
       "1                                 0                                       0   \n",
       "2                                 0                                       0   \n",
       "3                                 0                                       0   \n",
       "4                                 0                                       0   \n",
       "\n",
       "   profile_text_colorlabel  profile_image_url_httpslabel  \\\n",
       "0                        0                             0   \n",
       "1                        0                             0   \n",
       "2                        0                             0   \n",
       "3                        0                             0   \n",
       "4                        0                             0   \n",
       "\n",
       "   profile_sidebar_border_colorlabel  profile_background_tilelabel  \\\n",
       "0                                  0                             0   \n",
       "1                                  0                             0   \n",
       "2                                  0                             0   \n",
       "3                                  0                             0   \n",
       "4                                  0                             0   \n",
       "\n",
       "   profile_sidebar_fill_colorlabel  profile_background_image_urllabel  \\\n",
       "0                                0                               6912   \n",
       "1                                0                                279   \n",
       "2                                0                               6893   \n",
       "3                                0                               6878   \n",
       "4                                0                                 18   \n",
       "\n",
       "   profile_background_colorlabel  profile_text_color_labellabel  \n",
       "0                              0                              0  \n",
       "1                              0                              0  \n",
       "2                              0                              0  \n",
       "3                              0                              0  \n",
       "4                              0                              0  \n",
       "\n",
       "[5 rows x 24 columns]"
      ]
     },
     "execution_count": 24,
     "metadata": {},
     "output_type": "execute_result"
    }
   ],
   "source": [
    "df_profile.head()"
   ]
  },
  {
   "cell_type": "code",
   "execution_count": 22,
   "metadata": {},
   "outputs": [],
   "source": [
    "df_profile['profile_text_color_label'] = color_labels"
   ]
  },
  {
   "cell_type": "code",
   "execution_count": null,
   "metadata": {},
   "outputs": [],
   "source": [
    "df_profile['profile_text_color'].unique()\n",
    "#df_profile[['profile_text_color', 'profile_sidebar_border_color','profile_sidebar_fill_color', 'profile_background_color' ]]"
   ]
  },
  {
   "cell_type": "code",
   "execution_count": null,
   "metadata": {},
   "outputs": [],
   "source": [
    "for i in df_profile:\n",
    "    df[i] = df[i].astype('str')"
   ]
  },
  {
   "cell_type": "code",
   "execution_count": null,
   "metadata": {},
   "outputs": [],
   "source": [
    "np.unique(df_profile['profile_text_color'])\n"
   ]
  },
  {
   "cell_type": "code",
   "execution_count": null,
   "metadata": {},
   "outputs": [],
   "source": [
    "#dropping variables which primarily do make sense in our analysis, in future we may return to the variables if need be.\n",
    "df = df.drop([\"location\", \"utc_offset\", \"is_translator\", \"follow_request_sent\", \"notifications\", \"description\", \"contributors_enabled\",\"crawled_at\",\"updated\",\"random\", \"following\"], axis = 1)\n",
    "#df"
   ]
  },
  {
   "cell_type": "code",
   "execution_count": null,
   "metadata": {},
   "outputs": [],
   "source": [
    "# manipulating target variable by putting 0 and 1 values\n",
    "df.loc[df[\"Category\"] == 'genuine', \"class\"] = \"0\"\n",
    "df.loc[df[\"Category\"] != 'genuine', \"class\"] = \"1\"\n",
    "#df = df.drop([\"Category\"], axis = 1)\n",
    "\n",
    "#genuine class is denoted by 0 and bot/spam by 1"
   ]
  },
  {
   "cell_type": "code",
   "execution_count": null,
   "metadata": {
    "scrolled": true
   },
   "outputs": [],
   "source": [
    "df['class'].value_counts()"
   ]
  },
  {
   "cell_type": "markdown",
   "metadata": {},
   "source": [
    "##### we observe that there are 7543 bot/spam/non-genuine accounts and there is a bias in data towards bots, we may have to use sampling techniques while training model."
   ]
  },
  {
   "cell_type": "code",
   "execution_count": null,
   "metadata": {},
   "outputs": [],
   "source": [
    "df.isnull().sum()"
   ]
  },
  {
   "cell_type": "markdown",
   "metadata": {},
   "source": [
    "##### Columns with high null values like verified is because it contains any value only if it verified else no value is given hence a missing value is returned.\n",
    "##### We are treating such categorical variables by filling missing values with 0 "
   ]
  },
  {
   "cell_type": "code",
   "execution_count": null,
   "metadata": {},
   "outputs": [],
   "source": [
    "df['default_profile'].value_counts()"
   ]
  },
  {
   "cell_type": "markdown",
   "metadata": {},
   "source": [
    "#### putting missing values as 0 in default_profile, protected, default_profile_image and verified columns"
   ]
  },
  {
   "cell_type": "code",
   "execution_count": null,
   "metadata": {},
   "outputs": [],
   "source": [
    "df[\"default_profile\"] = df[\"default_profile\"].fillna(0)\n",
    "df[\"protected\"] = df[\"protected\"].fillna(0)\n",
    "df[\"default_profile_image\"] = df[\"default_profile_image\"].fillna(0)\n",
    "df[\"verified\"] = df[\"verified\"].fillna(0)\n",
    "df[\"geo_enabled\"] = df[\"geo_enabled\"].fillna(0)\n",
    "df[\"profile_background_tile\"] = df[\"profile_background_tile\"].fillna(0)\n",
    "df[\"profile_use_background_image\"] = df[\"profile_use_background_image\"].fillna(0)"
   ]
  },
  {
   "cell_type": "code",
   "execution_count": null,
   "metadata": {},
   "outputs": [],
   "source": [
    "#df.info()\n",
    "df = df.set_index('id')"
   ]
  },
  {
   "cell_type": "code",
   "execution_count": null,
   "metadata": {},
   "outputs": [],
   "source": [
    "df.info()"
   ]
  },
  {
   "cell_type": "markdown",
   "metadata": {},
   "source": [
    "### Doing EDA to understand data"
   ]
  },
  {
   "cell_type": "code",
   "execution_count": null,
   "metadata": {},
   "outputs": [],
   "source": [
    "df_1_1 = df[['screen_name', 'statuses_count', 'followers_count', 'friends_count', 'favourites_count', 'listed_count', 'default_profile', 'default_profile_image', 'protected', 'verified', 'class']]"
   ]
  },
  {
   "cell_type": "code",
   "execution_count": null,
   "metadata": {},
   "outputs": [],
   "source": [
    "list = [['default_profile', 'default_profile_image', 'protected', 'verified', 'class']]\n",
    "for i in list:\n",
    "    df_1_1[i] = df_1_1[i].astype('category')"
   ]
  },
  {
   "cell_type": "code",
   "execution_count": null,
   "metadata": {},
   "outputs": [],
   "source": [
    "pd.options.display.float_format = '{:.5f}'.format\n",
    "df_1_1.describe()\n"
   ]
  },
  {
   "cell_type": "code",
   "execution_count": null,
   "metadata": {},
   "outputs": [],
   "source": [
    "corrMatrix = df_1_1.corr()\n",
    "sns.set(rc = {'figure.figsize':(10, 10)} )\n",
    "sns.set(font_scale = 2)\n",
    "sns.heatmap(corrMatrix, vmin = -1, vmax = 1, center = 0, cmap = sns.diverging_palette(20, 220, n = 200), square = True, cbar_kws = {'shrink': 0.6}, annot = True)\n",
    "plt.show"
   ]
  },
  {
   "cell_type": "markdown",
   "metadata": {},
   "source": [
    "###### Based on the correlation map of different variables, we observe that certain variables have extremly high correlation.\n",
    "\n",
    "##### What happens in case the assumption of Multicollinearity is voilated in case of logistics regression??"
   ]
  },
  {
   "cell_type": "code",
   "execution_count": null,
   "metadata": {},
   "outputs": [],
   "source": [
    "max(df_1_1['statuses_count'])"
   ]
  },
  {
   "cell_type": "code",
   "execution_count": null,
   "metadata": {
    "scrolled": true
   },
   "outputs": [],
   "source": [
    "list_count = ['statuses_count', 'followers_count', 'friends_count', 'favourites_count', 'listed_count']\n",
    "for i in list_count:\n",
    "    fig = plt.figure(figsize =(7, 7)) \n",
    "    # Creating axes instance \n",
    "    ax = fig.add_axes([1, 1, 1, 1]) \n",
    "    #change of origin by adding 1 to the original data \n",
    "    ax.boxplot(df_1_1[i])"
   ]
  },
  {
   "cell_type": "markdown",
   "metadata": {},
   "source": [
    "###### The boxplots suggest highly skewed data, we will obtain the measures of skewness to asses the amount of skewness in the data "
   ]
  },
  {
   "cell_type": "code",
   "execution_count": null,
   "metadata": {},
   "outputs": [],
   "source": [
    "#Calculate the medcouple robust measure of skew.\n",
    "sm.stats.stattools.medcouple(df_1_1['statuses_count'])"
   ]
  },
  {
   "cell_type": "code",
   "execution_count": null,
   "metadata": {},
   "outputs": [],
   "source": [
    "#Calculates the four skewness measures in Kim & White\n",
    "sm.stats.stattools.robust_skewness(df_1_1['statuses_count'])\n"
   ]
  },
  {
   "cell_type": "code",
   "execution_count": null,
   "metadata": {},
   "outputs": [],
   "source": [
    "sm.graphics.violinplot(df_1_1, ax = None, labels = None, positions=None, side='both', plot_opts={})"
   ]
  },
  {
   "cell_type": "code",
   "execution_count": null,
   "metadata": {},
   "outputs": [],
   "source": [
    "list = ['statuses_count', 'followers_count', 'friends_count', 'favourites_count', 'listed_count']\n",
    "for i in list:\n",
    "    fig = plt.figure(figsize =(7, 7)) \n",
    "    # Creating axes instance \n",
    "    ax = fig.add_axes([1, 1, 1, 1]) \n",
    "    #change of origin by adding 1 to the original data \n",
    "    ax.boxplot(np.log(df_1_1[i] + 1 ))"
   ]
  },
  {
   "cell_type": "code",
   "execution_count": null,
   "metadata": {},
   "outputs": [],
   "source": [
    "list = {'statuses_count', 'followers_count', 'friends_count', 'favourites_count', 'listed_count'}\n",
    "for i in list:\n",
    "    fig, ax = plt.subplots(1)\n",
    "    sns.histplot(df_1_1[i]+1, bins = 100, log_scale= False, kde = True)\n",
    "    #np.log(df[i]+1).plot.hist(bins = 100)"
   ]
  },
  {
   "cell_type": "code",
   "execution_count": null,
   "metadata": {},
   "outputs": [],
   "source": [
    "list = {'statuses_count', 'followers_count', 'friends_count', 'favourites_count', 'listed_count'}\n",
    "for i in list:\n",
    "    fig, ax = plt.subplots(1)\n",
    "    sns.histplot(df_1_1[i]+1, bins = 100, log_scale= True, kde = True)\n",
    "    #np.log(df[i]+1).plot.hist(bins = 100)"
   ]
  },
  {
   "cell_type": "code",
   "execution_count": null,
   "metadata": {},
   "outputs": [],
   "source": []
  },
  {
   "cell_type": "code",
   "execution_count": null,
   "metadata": {
    "scrolled": true
   },
   "outputs": [],
   "source": [
    "crim_boxcox = stats.boxcox(df['statuses_count']+1)[0]"
   ]
  },
  {
   "cell_type": "code",
   "execution_count": null,
   "metadata": {},
   "outputs": [],
   "source": [
    "sns.histplot(data = crim_boxcox, bins = 200, kde = True)"
   ]
  },
  {
   "cell_type": "code",
   "execution_count": null,
   "metadata": {},
   "outputs": [],
   "source": [
    "pd.crosstab(df_1_1['verified'], df_1_1['protected'])"
   ]
  },
  {
   "cell_type": "code",
   "execution_count": null,
   "metadata": {},
   "outputs": [],
   "source": [
    "pd.crosstab(df['default_profile'], df['protected'])"
   ]
  },
  {
   "cell_type": "code",
   "execution_count": null,
   "metadata": {},
   "outputs": [],
   "source": [
    "pd.crosstab(df['default_profile'], df['protected'])"
   ]
  },
  {
   "cell_type": "code",
   "execution_count": null,
   "metadata": {},
   "outputs": [],
   "source": [
    "pd.crosstab(df['default_profile'], df['default_profile_image'])"
   ]
  },
  {
   "cell_type": "code",
   "execution_count": null,
   "metadata": {},
   "outputs": [],
   "source": [
    "pd.crosstab(df['class'], df['verified'])"
   ]
  },
  {
   "cell_type": "code",
   "execution_count": null,
   "metadata": {},
   "outputs": [],
   "source": [
    "pd.crosstab(df['class'], df['protected'], margins = True)"
   ]
  },
  {
   "cell_type": "code",
   "execution_count": null,
   "metadata": {},
   "outputs": [],
   "source": [
    "pd.crosstab(df['protected'], df['verified'], margins = True)"
   ]
  },
  {
   "cell_type": "code",
   "execution_count": null,
   "metadata": {},
   "outputs": [],
   "source": [
    "pd.crosstab(df['verified'], df['class'], margins = True)"
   ]
  },
  {
   "cell_type": "code",
   "execution_count": null,
   "metadata": {},
   "outputs": [],
   "source": [
    "plt.clf()\n",
    "cross = pd.crosstab(index = [df['verified'], df['protected'], df['default_profile'], df['default_profile_image']], columns = df['class'])\n",
    "plt.subplots(figsize=(10,10))\n",
    "plt.tick_params(labelsize = 10)\n",
    "sns.heatmap(cross, cmap = 'YlOrBr', cbar_kws = {'shrink': 0.8})\n",
    "cross"
   ]
  },
  {
   "cell_type": "code",
   "execution_count": null,
   "metadata": {},
   "outputs": [],
   "source": [
    "df_bar = df[['verified', 'protected', 'class', 'default_profile', 'default_profile_image']]\n",
    "\n",
    "fig_1 = sns.countplot(x = 'protected', data = df_bar, hue = 'class')\n",
    "fig_2 = sns.countplot(x = 'default_profile', data = df_bar)\n",
    "plt.show()"
   ]
  },
  {
   "cell_type": "code",
   "execution_count": null,
   "metadata": {},
   "outputs": [],
   "source": [
    "df_pairplot = df[['statuses_count', 'followers_count', 'friends_count', 'favourites_count', 'listed_count', 'class']]"
   ]
  },
  {
   "cell_type": "code",
   "execution_count": null,
   "metadata": {},
   "outputs": [],
   "source": [
    "df_pairplot['statuses_count'] = np.log(df_pairplot['statuses_count']+1)\n",
    "df_pairplot['followers_count'] = np.log(df_pairplot['followers_count']+1)\n",
    "df_pairplot['friends_count'] = np.log(df_pairplot['friends_count']+1)\n",
    "df_pairplot['favourites_count'] = np.log(df_pairplot['favourites_count']+1)\n",
    "df_pairplot['listed_count'] = np.log(df_pairplot['listed_count']+1)"
   ]
  },
  {
   "cell_type": "code",
   "execution_count": null,
   "metadata": {},
   "outputs": [],
   "source": [
    "\n",
    "sns.pairplot(df_pairplot)"
   ]
  },
  {
   "cell_type": "code",
   "execution_count": null,
   "metadata": {},
   "outputs": [],
   "source": [
    "sns.pairplot(df_pairplot, hue = 'class')"
   ]
  },
  {
   "cell_type": "code",
   "execution_count": null,
   "metadata": {},
   "outputs": [],
   "source": [
    "fig = plt.figure()\n",
    "ax = fig.add_subplot(111, projection='3d')\n",
    "ax.scatter(np.log(df['followers_count']+1), np.log(df['listed_count']+1), np.log(df['favourites_count']+1), c='r', marker='o')\n",
    "\n",
    "ax.set_xlabel('X Label')\n",
    "ax.set_ylabel('Y Label')\n",
    "ax.set_zlabel('Z Label')\n"
   ]
  },
  {
   "cell_type": "code",
   "execution_count": null,
   "metadata": {},
   "outputs": [],
   "source": [
    "fig = px.scatter_3d(df, x=np.log(df['statuses_count']+1), y=np.log(df['followers_count']+1), z=np.log(df['listed_count']+1),color=df['class'],labels= True)\n",
    "fig.show()\n"
   ]
  },
  {
   "cell_type": "code",
   "execution_count": null,
   "metadata": {},
   "outputs": [],
   "source": [
    "\n",
    "plt.scatter(np.log(df['followers_count']+1), np.log(df['friends_count']+1))"
   ]
  },
  {
   "cell_type": "code",
   "execution_count": null,
   "metadata": {
    "scrolled": false
   },
   "outputs": [],
   "source": [
    "fig_5 = sm.qqplot(np.log(df['favourites_count']+1), line = '45')\n",
    "fig_4 = sm.qqplot(np.log(df['listed_count']+1), line = '45')\n",
    "fig_3 = sm.qqplot(np.log(df['followers_count']+1), line = '45')\n",
    "fig_2 = sm.qqplot(np.log(df['statuses_count']+1), line = '45')\n",
    "fig_1 = sm.qqplot(np.log(df['friends_count']+1), line = '45')\n",
    "plt.show()"
   ]
  },
  {
   "cell_type": "code",
   "execution_count": null,
   "metadata": {},
   "outputs": [],
   "source": [
    "df_bar = df[['verified', 'protected', 'class', 'default_profile', 'default_profile_image']]\n",
    "\n",
    "fig_1 = sns.countplot(x = 'protected', data = df_bar, hue = 'class')\n",
    "plt.show()"
   ]
  },
  {
   "cell_type": "code",
   "execution_count": null,
   "metadata": {},
   "outputs": [],
   "source": [
    "fig_2 = sns.countplot(x = 'default_profile', data = df_bar, hue = 'class')"
   ]
  },
  {
   "cell_type": "code",
   "execution_count": null,
   "metadata": {},
   "outputs": [],
   "source": [
    "df['profile_background_tile'].value_counts()"
   ]
  },
  {
   "cell_type": "code",
   "execution_count": null,
   "metadata": {},
   "outputs": [],
   "source": [
    "# converting certain categorical variables to boolean for analysis\n",
    "df[\"default_profile\"] = df[\"default_profile\"].astype(\"bool\")\n",
    "df[\"default_profile_image\"] = df[\"default_profile_image\"].astype(\"bool\")\n",
    "df[\"protected\"] = df[\"protected\"].astype(\"bool\")\n",
    "df[\"verified\"] = df[\"verified\"].astype(\"bool\")\n",
    "df[\"geo_enabled\"] = df[\"geo_enabled\"].astype(\"bool\")\n",
    "df[\"profile_use_background_image\"] = df[\"profile_use_background_image\"].astype(\"bool\")\n",
    "df[\"profile_background_tile\"] = df[\"profile_background_tile\"].astype(\"bool\")\n",
    "df[\"class\"] = df[\"class\"].astype(\"bool\")\n",
    "df.dtypes"
   ]
  },
  {
   "cell_type": "code",
   "execution_count": null,
   "metadata": {},
   "outputs": [],
   "source": [
    "#creating a dataframe to work with categorical variables of dataframe df\n",
    "df_profile = pd.DataFrame()"
   ]
  },
  {
   "cell_type": "markdown",
   "metadata": {},
   "source": [
    "#### Evaluating various columns to understand if there is any association of the data type in classification"
   ]
  },
  {
   "cell_type": "code",
   "execution_count": null,
   "metadata": {},
   "outputs": [],
   "source": [
    "df['profile_background_tile'].value_counts()"
   ]
  },
  {
   "cell_type": "code",
   "execution_count": null,
   "metadata": {},
   "outputs": [],
   "source": [
    "df['profile_text_color'].describe()"
   ]
  },
  {
   "cell_type": "code",
   "execution_count": null,
   "metadata": {},
   "outputs": [],
   "source": [
    "df['profile_text_color'].value_counts()"
   ]
  },
  {
   "cell_type": "code",
   "execution_count": null,
   "metadata": {},
   "outputs": [],
   "source": [
    "df.loc[df['profile_text_color'] == '333333', 'text_color'] = \"C_333333\"\n",
    "df.loc[df['profile_text_color'] == '000000', 'text_color'] = \"C_000000\"\n",
    "df.loc[df['profile_text_color'] == '666666', 'text_color'] = \"C_666666\"\n",
    "df.loc[(df['profile_text_color'] != '333333')&(df['profile_text_color'] != '000000')&(df['profile_text_color'] != '666666'), 'text_color'] = \"c_unknown\""
   ]
  },
  {
   "cell_type": "code",
   "execution_count": null,
   "metadata": {},
   "outputs": [],
   "source": [
    "df['text_color'].value_counts()"
   ]
  },
  {
   "cell_type": "code",
   "execution_count": null,
   "metadata": {},
   "outputs": [],
   "source": [
    "df['profile_banner_url'].describe()"
   ]
  },
  {
   "cell_type": "code",
   "execution_count": null,
   "metadata": {},
   "outputs": [],
   "source": [
    "df.loc[pd.isnull(df['profile_banner_url']), 'banner_url'] = 'banner_absent'\n",
    "df.loc[pd.isnull(df['profile_banner_url']) == False, 'banner_url'] = 'banner_present'"
   ]
  },
  {
   "cell_type": "code",
   "execution_count": null,
   "metadata": {},
   "outputs": [],
   "source": [
    "(pd.isnull(df['profile_banner_url'])).value_counts()"
   ]
  },
  {
   "cell_type": "code",
   "execution_count": null,
   "metadata": {},
   "outputs": [],
   "source": [
    "pd.isnull(df['profile_banner_url']).value_counts()"
   ]
  },
  {
   "cell_type": "code",
   "execution_count": null,
   "metadata": {},
   "outputs": [],
   "source": [
    "df['banner_url'].value_counts()"
   ]
  },
  {
   "cell_type": "code",
   "execution_count": null,
   "metadata": {},
   "outputs": [],
   "source": [
    "df['class'].value_counts()"
   ]
  },
  {
   "cell_type": "code",
   "execution_count": null,
   "metadata": {},
   "outputs": [],
   "source": [
    "sns.countplot(x = 'text_color', hue = 'class', data = df)"
   ]
  },
  {
   "cell_type": "code",
   "execution_count": null,
   "metadata": {},
   "outputs": [],
   "source": [
    "df_test1  = df.groupby(by = 'class').count()\n",
    "df_test1.head()"
   ]
  },
  {
   "cell_type": "code",
   "execution_count": null,
   "metadata": {},
   "outputs": [],
   "source": [
    "df_test1 = df_test1.drop(columns = ['name', 'screen_name', 'statuses_count', 'followers_count', 'friends_count', 'favourites_count'], axis =1)"
   ]
  },
  {
   "cell_type": "code",
   "execution_count": null,
   "metadata": {},
   "outputs": [],
   "source": [
    "df_test1 = df_test1.drop(columns = ['listed_count', 'lang', 'profile_image_url', 'profile_link_color', 'created_at'])"
   ]
  },
  {
   "cell_type": "code",
   "execution_count": null,
   "metadata": {},
   "outputs": [],
   "source": [
    "df_test1.head()"
   ]
  },
  {
   "cell_type": "code",
   "execution_count": null,
   "metadata": {},
   "outputs": [],
   "source": [
    "sns.countplot(x = 'banner_url', hue = 'class', data = df)"
   ]
  },
  {
   "cell_type": "code",
   "execution_count": null,
   "metadata": {},
   "outputs": [],
   "source": [
    "sns.set(rc = {'figure.figsize':(15, 15)} )"
   ]
  },
  {
   "cell_type": "code",
   "execution_count": null,
   "metadata": {},
   "outputs": [],
   "source": []
  },
  {
   "cell_type": "code",
   "execution_count": null,
   "metadata": {},
   "outputs": [],
   "source": [
    "#figuring a way to plot if profile text color is related to class in some manner\n",
    "#sns.countplot(hue = 'class', data = df, x = 'profile_text_color')"
   ]
  },
  {
   "cell_type": "code",
   "execution_count": null,
   "metadata": {},
   "outputs": [],
   "source": [
    "sns.barplot(y = df['profile_text_color'].value_counts(), data = df)"
   ]
  },
  {
   "cell_type": "code",
   "execution_count": null,
   "metadata": {},
   "outputs": [],
   "source": [
    "df_copy = df"
   ]
  },
  {
   "cell_type": "code",
   "execution_count": null,
   "metadata": {},
   "outputs": [],
   "source": [
    "df['verified'] = df['verified'].astype('category')\n",
    "df['class'] = df['class'].astype('category')\n",
    "df['profile_text_color'] = df['profile_text_color'].astype('category')"
   ]
  },
  {
   "cell_type": "code",
   "execution_count": null,
   "metadata": {
    "scrolled": true
   },
   "outputs": [],
   "source": [
    "df.loc[df['profile_text_color'] == '333333'].count()"
   ]
  },
  {
   "cell_type": "code",
   "execution_count": null,
   "metadata": {},
   "outputs": [],
   "source": [
    "table = pd.pivot_table(df, values = 'profile_text_color', index = ['verified'], columns = ['class'], aggfunc= np.count_nonzero, dropna= False)\n",
    "table"
   ]
  },
  {
   "cell_type": "code",
   "execution_count": null,
   "metadata": {},
   "outputs": [],
   "source": [
    "# putting missing values as 0 in default_profile, protected, default_profile_image and verified columns\n",
    "df_profile[]\n",
    "df_profile[\"default_profile\"] = df[\"default_profile\"] #10\n",
    "df_profile[\"default_profile_image\"] = df[\"default_profile_image\"] #11\n",
    "df_profile[\"geo_enabled\"] = df[\"geo_enabled\"] #12\n",
    "df_profile[\"profile_use_background_image\"] = df[\"profile_use_background_image\"] #15\n",
    "df_profile[\"profile_image_url\"] = df[\"geo_enabled\"] #13\n",
    "df_profile[\"profile_background_tile\"] = df[\"profile_background_tile\"] #20\n",
    "df_profile[\"profile_use_background_image\"] = df[\"profile_use_background_image\"]\n"
   ]
  },
  {
   "cell_type": "code",
   "execution_count": null,
   "metadata": {},
   "outputs": [],
   "source": [
    "from datetime import date\n",
    "df[\"age\"]=date.today().year - pd.DatetimeIndex(df[\"timestamp\"]).year\n"
   ]
  },
  {
   "cell_type": "code",
   "execution_count": null,
   "metadata": {},
   "outputs": [],
   "source": [
    "?DataFrame.loc[]"
   ]
  },
  {
   "cell_type": "code",
   "execution_count": null,
   "metadata": {},
   "outputs": [],
   "source": [
    "df1=df[[\"id\",\"url\",\"time_zone\",\"location\",\"geo_enabled\",\"description\",\"class\"]]\n",
    "df2=df1.groupby(\"class\").count()\n",
    "df2"
   ]
  },
  {
   "cell_type": "code",
   "execution_count": null,
   "metadata": {},
   "outputs": [],
   "source": [
    "df2.plot(kind='bar')"
   ]
  },
  {
   "cell_type": "code",
   "execution_count": null,
   "metadata": {},
   "outputs": [],
   "source": [
    "df3=df.loc[:,[\"id\",\"url\",\"time_zone\",\"location\",\"geo_enabled\",\"description\",\"Category\"]]\n",
    "df4=df3.groupby(\"Category\").count()\n",
    "df4"
   ]
  },
  {
   "cell_type": "code",
   "execution_count": null,
   "metadata": {},
   "outputs": [],
   "source": [
    "\n",
    "df4.plot(kind='bar')"
   ]
  }
 ],
 "metadata": {
  "kernelspec": {
   "display_name": "Python 3",
   "language": "python",
   "name": "python3"
  },
  "language_info": {
   "codemirror_mode": {
    "name": "ipython",
    "version": 3
   },
   "file_extension": ".py",
   "mimetype": "text/x-python",
   "name": "python",
   "nbconvert_exporter": "python",
   "pygments_lexer": "ipython3",
   "version": "3.8.5"
  }
 },
 "nbformat": 4,
 "nbformat_minor": 4
}
